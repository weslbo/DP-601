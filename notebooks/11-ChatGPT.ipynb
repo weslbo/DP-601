{
    "cells": [
        {
            "cell_type": "markdown",
            "id": "27601490-078a-4070-b366-e6215d9dbac3",
            "metadata": {
                "nteract": {
                    "transient": {
                        "deleting": false
                    }
                }
            },
            "source": [
                "# IPython Cell Magic for OpenAI GPT-4 Chat\n",
                "\n",
                "This document explains the Python code for a custom IPython cell magic command which integrates with OpenAI GPT-4 chat models.\n",
                "\n",
                "## Code explanation\n",
                "\n",
                "First, let's make sure that openai has been installed into the notebook. This command installs the OpenAI package in Python. \"pip\" is a package management system used to install and manage software packages written in Python. \"openai\" is a package that allows you to interact with the OpenAI API, which can be used to call various machine learning models."
            ]
        },
        {
            "cell_type": "code",
            "execution_count": null,
            "id": "b76c548d-a053-46a3-b698-0a94aab8eb42",
            "metadata": {
                "jupyter": {
                    "outputs_hidden": false,
                    "source_hidden": false
                },
                "nteract": {
                    "transient": {
                        "deleting": false
                    }
                }
            },
            "outputs": [],
            "source": [
                "pip install openai > /dev/null 2>&1"
            ]
        },
        {
            "cell_type": "code",
            "execution_count": null,
            "id": "568a1b43-74b0-4f85-988d-2137627d4842",
            "metadata": {
                "jupyter": {
                    "outputs_hidden": false,
                    "source_hidden": false
                },
                "nteract": {
                    "transient": {
                        "deleting": false
                    }
                }
            },
            "outputs": [],
            "source": [
                "import os\n",
                "from IPython.core.magic import (register_line_magic, register_cell_magic, register_line_cell_magic)\n",
                "from IPython.display import display, Markdown\n",
                "import openai"
            ]
        },
        {
            "cell_type": "markdown",
            "id": "ff53c830-dc2f-4820-917e-79c413b6179f",
            "metadata": {
                "nteract": {
                    "transient": {
                        "deleting": false
                    }
                }
            },
            "source": [
                "The above lines import necessary modules. os is a standard Python library for interacting with the operating system. IPython.core.magic provides functions to create custom magic commands in IPython. IPython.display is used to display the output in a markdown format. openai is the Python client library for the OpenAI API."
            ]
        },
        {
            "cell_type": "code",
            "execution_count": null,
            "id": "bd58328b-6382-4cce-bd1b-144dba1513ed",
            "metadata": {
                "jupyter": {
                    "outputs_hidden": false,
                    "source_hidden": false
                },
                "nteract": {
                    "transient": {
                        "deleting": false
                    }
                }
            },
            "outputs": [],
            "source": [
                "openai.api_type = \"azure\"\n",
                "openai.api_base = \"https://************.openai.azure.com/\"\n",
                "openai.api_version = \"2023-07-01-preview\"\n",
                "openai.api_key = \"***************************\" "
            ]
        },
        {
            "cell_type": "markdown",
            "id": "536770e2-2957-41d4-b9a5-ffa1f5b9ac96",
            "metadata": {
                "nteract": {
                    "transient": {
                        "deleting": false
                    }
                }
            },
            "source": [
                "The above lines configure the OpenAI Python client to use a specific API endpoint. In this case, the endpoint is hosted on Azure. The openai.api_key line sets the API key, which is required for authentication with the OpenAI API.\n",
                "\n",
                "The block of code below defines a new IPython magic command, chat. The @register_line_cell_magic decorator means that this function can be used as both a line magic (prefixed with %) and a cell magic (prefixed with %%).\n",
                "\n",
                "The function sends a request to the OpenAI API to generate a response from the GPT-4 chat model. The messages parameter is a list of messages to be processed by the chat model.\n",
                "\n",
                "The output displays the content of the response from the chat model in a markdown format.\n",
                "\n",
                "Note that the code catches any exceptions that occur during the execution of the chat function and prints the error message. (For example ratelimit exceptions can occur frequently!)"
            ]
        },
        {
            "cell_type": "code",
            "execution_count": null,
            "id": "9dbb504a-2670-4c02-a346-15382b6c7f0e",
            "metadata": {
                "jupyter": {
                    "outputs_hidden": false,
                    "source_hidden": false
                },
                "nteract": {
                    "transient": {
                        "deleting": false
                    }
                }
            },
            "outputs": [],
            "source": [
                "@register_line_cell_magic\n",
                "def chat(line, cell=None):\n",
                "    msg = cell if cell is not None else line\n",
                "\n",
                "    try:\n",
                "        response = openai.ChatCompletion.create(\n",
                "            engine=\"gpt-4\",\n",
                "            messages = [{\"role\":\"system\",\"content\":\"\"},{\"role\":\"user\",\"content\":msg}],\n",
                "            temperature=0.5,\n",
                "            max_tokens=800,\n",
                "            top_p=0.95,\n",
                "            frequency_penalty=0,\n",
                "            presence_penalty=0,\n",
                "            stop=None)\n",
                "        \n",
                "        display(Markdown(response[\"choices\"][0][\"message\"][\"content\"]))\n",
                "    except Exception as error:\n",
                "        print(\"An exception occurred:\", error) "
            ]
        },
        {
            "cell_type": "markdown",
            "id": "6ae60210-e033-46ee-971f-f10d1392bb26",
            "metadata": {
                "nteract": {
                    "transient": {
                        "deleting": false
                    }
                }
            },
            "source": [
                "## Example usage:\n",
                "\n",
                "Enter a new cell with the following code:\n",
                "\n",
                "```\n",
                "%%chat\n",
                "\n",
                "Generate a table of 5 possitive and negative sentences.\n",
                "```\n",
                "\n",
                "Or type your command on just one line:\n",
                "\n",
                "```\n",
                "%chat \"Who is Donald Duck?\"\n",
                "```"
            ]
        },
        {
            "cell_type": "code",
            "execution_count": null,
            "id": "06ad27b7-3b68-4567-9b58-692f489a8ca4",
            "metadata": {
                "jupyter": {
                    "outputs_hidden": false,
                    "source_hidden": false
                },
                "nteract": {
                    "transient": {
                        "deleting": false
                    }
                }
            },
            "outputs": [],
            "source": [
                "print(\"Ready for ChatGPT\")"
            ]
        }
    ],
    "metadata": {
        "kernel_info": {
            "name": "synapse_pyspark"
        },
        "kernelspec": {
            "display_name": "Synapse PySpark",
            "language": "Python",
            "name": "synapse_pyspark"
        },
        "language_info": {
            "name": "python"
        },
        "microsoft": {
            "host": {},
            "language": "python",
            "ms_spell_check": {
                "ms_spell_check_language": "en"
            }
        },
        "notebook_environment": {},
        "nteract": {
            "version": "nteract-front-end@1.0.0"
        },
        "save_output": true,
        "spark_compute": {
            "compute_id": "/trident/default",
            "session_options": {
                "conf": {},
                "enableDebugMode": false
            }
        },
        "synapse_widget": {
            "state": {},
            "version": "0.1"
        },
        "widgets": {}
    },
    "nbformat": 4,
    "nbformat_minor": 5
}