{
    "cells": [
        {
            "cell_type": "markdown",
            "source": [
                "# Learn about DELTA tables\n",
                "\n",
                "Microsoft Fabric Lakehouse and the Apache Spark engine support all table types, both managed and unmanaged; this includes views and regular non-Delta Hive table formats. Tables defined using PARQUET, CSV, AVRO, JSON, and any Apache Hive compatible file format work as expected.\n",
                "\n",
                "Delta Lake is an open-source storage layer that brings ACID (atomicity, consistency, isolation, and durability) transactions to Apache Spark and big data workloads.\n",
                "\n",
                "The current version of Delta Lake included with Azure Synapse has language support for Scala, PySpark, and .NET and is compatible with Linux Foundation Delta Lake. \n",
                "\n",
                "## ➡️ Key features\n",
                "\n",
                "| Feature | Description |\n",
                "| --- | --- |\n",
                "| **ACID Transactions** | Data lakes are typically populated through multiple processes and pipelines, some of which are writing data concurrently with reads. Prior to Delta Lake and the addition of transactions, data engineers had to go through a manual error prone process to ensure data integrity. Delta Lake brings familiar ACID transactions to data lakes. It provides serializability, the strongest level of isolation level. Learn more at [Diving into Delta Lake: Unpacking the Transaction Log](https://databricks.com/blog/2019/08/21/diving-into-delta-lake-unpacking-the-transaction-log.html).|\n",
                "| **Scalable Metadata Handling** | In big data, even the metadata itself can be \"big data.\" Delta Lake treats metadata just like data, leveraging Spark's distributed processing power to handle all its metadata. As a result, Delta Lake can handle petabyte-scale tables with billions of partitions and files at ease. |\n",
                "| **Time Travel (data versioning)** | The ability to \"undo\" a change or go back to a previous version is one of the key features of transactions. Delta Lake provides snapshots of data enabling you to revert to earlier versions of data for audits, rollbacks or to reproduce experiments. Learn more in [Introducing Delta Lake Time Travel for Large Scale Data Lakes](https://databricks.com/blog/2019/02/04/introducing-delta-time-travel-for-large-scale-data-lakes.html). |\n",
                "| **Open Format** | Apache Parquet is the baseline format for Delta Lake, enabling you to leverage the efficient compression and encoding schemes that are native to the format. |\n",
                "| **Unified Batch and Streaming Source and Sink** | A table in Delta Lake is both a batch table, as well as a streaming source and sink. Streaming data ingest, batch historic backfill, and interactive queries all just work out of the box. |\n",
                "| **Schema Enforcement** | Schema enforcement helps ensure that the data types are correct and required columns are present, preventing bad data from causing data inconsistency. For more information, see [Diving Into Delta Lake: Schema Enforcement & Evolution](https://databricks.com/blog/2019/09/24/diving-into-delta-lake-schema-enforcement-evolution.html) |\n",
                "| **Schema Evolution** | Delta Lake enables you to make changes to a table schema that can be applied automatically, without having to write migration DDL. For more information, see [Diving Into Delta Lake: Schema Enforcement & Evolution](https://databricks.com/blog/2019/09/24/diving-into-delta-lake-schema-enforcement-evolution.html) |\n",
                "| **Audit History** | Delta Lake transaction log records details about every change made to data providing a full audit trail of the changes. |\n",
                "| **Updates and Deletes** | Delta Lake supports Scala / Java / Python and SQL APIs for a variety of functionality. Support for merge, update, and delete operations helps you to meet compliance requirements. For more information, see [Announcing the Delta Lake 0.6.1 Release](https://github.com/delta-io/delta/releases/tag/v0.6.1),  [Announcing the Delta Lake 0.7 Release](https://github.com/delta-io/delta/releases/tag/v0.7.0) and [Simple, Reliable Upserts and Deletes on Delta Lake Tables using Python APIs](https://databricks.com/blog/2019/10/03/simple-reliable-upserts-and-deletes-on-delta-lake-tables-using-python-apis.html), which includes code snippets for merge, update, and delete DML commands. |\n",
                "| **100 percent compatible with Apache Spark API** | Developers can use Delta Lake with their existing data pipelines with minimal change as it is fully compatible with existing Spark implementations. |\n",
                "\n",
                "For full documentation, see the [Delta Lake Documentation Page](https://docs.delta.io/latest/delta-intro.html)\n",
                "\n",
                "\n",
                "Let's get started by displaying the delta version. For more information about the delta lake releases, see [here](https://docs.delta.io/latest/releases.html)"
            ],
            "metadata": {
                "nteract": {
                    "transient": {
                        "deleting": false
                    }
                }
            },
            "id": "0a3b56fc-c6fb-4fcb-b0f3-45fc511c1742"
        },
        {
            "cell_type": "code",
            "source": [
                "%%spark\n",
                "\n",
                "println(io.delta.VERSION)"
            ],
            "outputs": [
                {
                    "output_type": "display_data",
                    "data": {
                        "application/vnd.livy.statement-meta+json": {
                            "spark_pool": null,
                            "session_id": "0b46a2ad-b0ca-42b8-b7f6-9ab4cc7db587",
                            "statement_id": 3,
                            "state": "finished",
                            "livy_statement_state": "available",
                            "queued_time": "2023-11-23T14:52:11.2168977Z",
                            "session_start_time": "2023-11-23T14:52:11.7558594Z",
                            "execution_start_time": "2023-11-23T14:52:20.6674317Z",
                            "execution_finish_time": "2023-11-23T14:52:23.1191609Z",
                            "spark_jobs": {
                                "numbers": {
                                    "FAILED": 0,
                                    "SUCCEEDED": 0,
                                    "UNKNOWN": 0,
                                    "RUNNING": 0
                                },
                                "jobs": [],
                                "limit": 20,
                                "rule": "ALL_DESC"
                            },
                            "parent_msg_id": "083f410b-9b07-4b22-9cb2-009c3722c9dc"
                        },
                        "text/plain": "StatementMeta(, 0b46a2ad-b0ca-42b8-b7f6-9ab4cc7db587, 3, Finished, Available)"
                    },
                    "metadata": {}
                },
                {
                    "output_type": "stream",
                    "name": "stdout",
                    "text": [
                        "2.4.0.8\n"
                    ]
                }
            ],
            "execution_count": 1,
            "metadata": {
                "microsoft": {
                    "language": "scala"
                }
            },
            "id": "e77d0929-f626-4481-9658-099d0e41d55e"
        },
        {
            "cell_type": "markdown",
            "source": [
                "Next, we want to have a look at the default data source to use for the DataFrameReader or DataFrameWriter within Microsoft Fabric. We can confirm that delta is the default."
            ],
            "metadata": {
                "nteract": {
                    "transient": {
                        "deleting": false
                    }
                }
            },
            "id": "f1cc7d61-364e-447e-b303-40dedd920f23"
        },
        {
            "cell_type": "code",
            "source": [
                "%%sql\n",
                "SET spark.sql.sources.default"
            ],
            "outputs": [
                {
                    "output_type": "display_data",
                    "data": {
                        "application/vnd.livy.statement-meta+json": {
                            "spark_pool": null,
                            "session_id": "0b46a2ad-b0ca-42b8-b7f6-9ab4cc7db587",
                            "statement_id": 4,
                            "state": "finished",
                            "livy_statement_state": "available",
                            "queued_time": "2023-11-23T14:52:11.2214657Z",
                            "session_start_time": null,
                            "execution_start_time": "2023-11-23T14:52:23.7888205Z",
                            "execution_finish_time": "2023-11-23T14:52:24.6273643Z",
                            "spark_jobs": {
                                "numbers": {
                                    "FAILED": 0,
                                    "SUCCEEDED": 0,
                                    "UNKNOWN": 0,
                                    "RUNNING": 0
                                },
                                "jobs": [],
                                "limit": 20,
                                "rule": "ALL_DESC"
                            },
                            "parent_msg_id": "9349ef70-3911-474e-8665-6e83c90f4c5e"
                        },
                        "text/plain": "StatementMeta(, 0b46a2ad-b0ca-42b8-b7f6-9ab4cc7db587, 4, Finished, Available)"
                    },
                    "metadata": {}
                },
                {
                    "output_type": "execute_result",
                    "execution_count": 2,
                    "data": {
                        "application/vnd.synapse.sparksql-result+json": {
                            "schema": {
                                "type": "struct",
                                "fields": [
                                    {
                                        "name": "key",
                                        "type": "string",
                                        "nullable": false,
                                        "metadata": {}
                                    },
                                    {
                                        "name": "value",
                                        "type": "string",
                                        "nullable": false,
                                        "metadata": {}
                                    }
                                ]
                            },
                            "data": [
                                [
                                    "spark.sql.sources.default",
                                    "delta"
                                ]
                            ]
                        },
                        "text/plain": "<Spark SQL result set with 1 rows and 2 fields>"
                    },
                    "metadata": {}
                }
            ],
            "execution_count": 2,
            "metadata": {
                "jupyter": {
                    "source_hidden": false,
                    "outputs_hidden": false
                },
                "nteract": {
                    "transient": {
                        "deleting": false
                    }
                },
                "microsoft": {
                    "language": "sparksql"
                },
                "collapsed": false
            },
            "id": "abf9b386-0355-42d2-99a2-42aba0a0acc0"
        },
        {
            "cell_type": "markdown",
            "source": [
                "## ➡️ DROP and CREATE TABLE\n",
                "\n",
                "If the delta101 table already exists (check your lakehouse), drop it. This way, we can repeatedly execute this notebook without having to clean up files manually.\n"
            ],
            "metadata": {
                "nteract": {
                    "transient": {
                        "deleting": false
                    }
                }
            },
            "id": "4015f469-59fd-4eb3-923e-01c38e3cc41d"
        },
        {
            "cell_type": "code",
            "source": [
                "%%sql\n",
                "DROP TABLE IF EXISTS delta101"
            ],
            "outputs": [
                {
                    "output_type": "display_data",
                    "data": {
                        "application/vnd.livy.statement-meta+json": {
                            "spark_pool": null,
                            "session_id": "0b46a2ad-b0ca-42b8-b7f6-9ab4cc7db587",
                            "statement_id": 5,
                            "state": "finished",
                            "livy_statement_state": "available",
                            "queued_time": "2023-11-23T14:52:11.2220346Z",
                            "session_start_time": null,
                            "execution_start_time": "2023-11-23T14:52:25.3391113Z",
                            "execution_finish_time": "2023-11-23T14:52:38.1843232Z",
                            "spark_jobs": {
                                "numbers": {
                                    "FAILED": 0,
                                    "SUCCEEDED": 1,
                                    "UNKNOWN": 0,
                                    "RUNNING": 0
                                },
                                "jobs": [
                                    {
                                        "displayName": "toString at String.java:2951",
                                        "dataWritten": 0,
                                        "dataRead": 14336,
                                        "rowCount": 3,
                                        "usageDescription": "",
                                        "jobId": 9,
                                        "name": "toString at String.java:2951",
                                        "description": "Job group for statement 5:\nDROP TABLE IF EXISTS delta101",
                                        "submissionTime": "2023-11-23T14:52:34.801GMT",
                                        "completionTime": "2023-11-23T14:52:35.240GMT",
                                        "stageIds": [
                                            13
                                        ],
                                        "jobGroup": "5",
                                        "status": "SUCCEEDED",
                                        "numTasks": 1,
                                        "numActiveTasks": 0,
                                        "numCompletedTasks": 1,
                                        "numSkippedTasks": 0,
                                        "numFailedTasks": 0,
                                        "numKilledTasks": 0,
                                        "numCompletedIndices": 1,
                                        "numActiveStages": 0,
                                        "numCompletedStages": 1,
                                        "numSkippedStages": 0,
                                        "numFailedStages": 0,
                                        "killedTasksSummary": {}
                                    }
                                ],
                                "limit": 20,
                                "rule": "ALL_DESC"
                            },
                            "parent_msg_id": "04ab8e9a-abd6-44b0-8b8a-4fc897680e75"
                        },
                        "text/plain": "StatementMeta(, 0b46a2ad-b0ca-42b8-b7f6-9ab4cc7db587, 5, Finished, Available)"
                    },
                    "metadata": {}
                },
                {
                    "output_type": "execute_result",
                    "execution_count": 3,
                    "data": {
                        "application/vnd.synapse.sparksql-result+json": {
                            "schema": {
                                "type": "struct",
                                "fields": []
                            },
                            "data": []
                        },
                        "text/plain": "<Spark SQL result set with 0 rows and 0 fields>"
                    },
                    "metadata": {}
                }
            ],
            "execution_count": 3,
            "metadata": {
                "jupyter": {
                    "source_hidden": false,
                    "outputs_hidden": false
                },
                "nteract": {
                    "transient": {
                        "deleting": false
                    }
                },
                "microsoft": {
                    "language": "sparksql"
                },
                "collapsed": false
            },
            "id": "93e4515a-d5c9-4f14-b2ae-2219503993ab"
        },
        {
            "cell_type": "markdown",
            "source": [
                "Now, let's get started by creating a table using parquet. Later, we will convert it to delta.\n",
                "\n",
                "https://docs.delta.io/latest/delta-batch.html#id7"
            ],
            "metadata": {
                "nteract": {
                    "transient": {
                        "deleting": false
                    }
                }
            },
            "id": "8c9ceaa9-cd47-4dab-978a-87addc1bf31a"
        },
        {
            "cell_type": "code",
            "source": [
                "%%sql\n",
                "CREATE TABLE delta101\n",
                "USING parquet\n",
                "PARTITIONED BY (month)\n",
                "COMMENT 'Delta 101'\n",
                "AS VALUES (0, 'zero', 1) t(id, name, month)"
            ],
            "outputs": [
                {
                    "output_type": "display_data",
                    "data": {
                        "application/vnd.livy.statement-meta+json": {
                            "spark_pool": null,
                            "session_id": "0b46a2ad-b0ca-42b8-b7f6-9ab4cc7db587",
                            "statement_id": 6,
                            "state": "finished",
                            "livy_statement_state": "available",
                            "queued_time": "2023-11-23T14:52:11.2224918Z",
                            "session_start_time": null,
                            "execution_start_time": "2023-11-23T14:52:38.8291093Z",
                            "execution_finish_time": "2023-11-23T14:52:45.2748588Z",
                            "spark_jobs": {
                                "numbers": {
                                    "FAILED": 0,
                                    "SUCCEEDED": 1,
                                    "UNKNOWN": 0,
                                    "RUNNING": 0
                                },
                                "jobs": [
                                    {
                                        "displayName": "sql at SQLInterpreter.scala:150",
                                        "dataWritten": 1186,
                                        "dataRead": 0,
                                        "rowCount": 1,
                                        "usageDescription": "",
                                        "jobId": 10,
                                        "name": "sql at SQLInterpreter.scala:150",
                                        "description": "Job group for statement 6:\nCREATE TABLE delta101\nUSING parquet\nPARTITIONED BY (month)\nCOMMENT 'Delta 101'\nAS VALUES (0, 'zero', 1) t(id, name, month)",
                                        "submissionTime": "2023-11-23T14:52:39.566GMT",
                                        "completionTime": "2023-11-23T14:52:40.757GMT",
                                        "stageIds": [
                                            14
                                        ],
                                        "jobGroup": "6",
                                        "status": "SUCCEEDED",
                                        "numTasks": 1,
                                        "numActiveTasks": 0,
                                        "numCompletedTasks": 1,
                                        "numSkippedTasks": 0,
                                        "numFailedTasks": 0,
                                        "numKilledTasks": 0,
                                        "numCompletedIndices": 1,
                                        "numActiveStages": 0,
                                        "numCompletedStages": 1,
                                        "numSkippedStages": 0,
                                        "numFailedStages": 0,
                                        "killedTasksSummary": {}
                                    }
                                ],
                                "limit": 20,
                                "rule": "ALL_DESC"
                            },
                            "parent_msg_id": "d2ab5cde-8838-48b5-b114-db289e13fbc0"
                        },
                        "text/plain": "StatementMeta(, 0b46a2ad-b0ca-42b8-b7f6-9ab4cc7db587, 6, Finished, Available)"
                    },
                    "metadata": {}
                },
                {
                    "output_type": "execute_result",
                    "execution_count": 4,
                    "data": {
                        "application/vnd.synapse.sparksql-result+json": {
                            "schema": {
                                "type": "struct",
                                "fields": []
                            },
                            "data": []
                        },
                        "text/plain": "<Spark SQL result set with 0 rows and 0 fields>"
                    },
                    "metadata": {}
                }
            ],
            "execution_count": 4,
            "metadata": {
                "jupyter": {
                    "source_hidden": false,
                    "outputs_hidden": false
                },
                "nteract": {
                    "transient": {
                        "deleting": false
                    }
                },
                "microsoft": {
                    "language": "sparksql"
                },
                "collapsed": false
            },
            "id": "18c2b736-9a00-4d5a-83c8-eb1d6927bbc9"
        },
        {
            "cell_type": "markdown",
            "source": [
                "## ➡️ DESCRIBE EXTENDED\n",
                "\n",
                "Next, validate whether the table has been registered in the lakehouse. Notice that the icon is a bit different (does not contain the triangle). The command below describes the current table"
            ],
            "metadata": {
                "nteract": {
                    "transient": {
                        "deleting": false
                    }
                }
            },
            "id": "dc390cc4-91a1-49bb-9fe2-e6359d01eb2c"
        },
        {
            "cell_type": "code",
            "source": [
                "%%sql\n",
                "DESC EXTENDED delta101"
            ],
            "outputs": [
                {
                    "output_type": "display_data",
                    "data": {
                        "application/vnd.livy.statement-meta+json": {
                            "spark_pool": null,
                            "session_id": "0b46a2ad-b0ca-42b8-b7f6-9ab4cc7db587",
                            "statement_id": 7,
                            "state": "finished",
                            "livy_statement_state": "available",
                            "queued_time": "2023-11-23T14:52:11.2229375Z",
                            "session_start_time": null,
                            "execution_start_time": "2023-11-23T14:52:45.9690116Z",
                            "execution_finish_time": "2023-11-23T14:52:46.8039527Z",
                            "spark_jobs": {
                                "numbers": {
                                    "FAILED": 0,
                                    "SUCCEEDED": 0,
                                    "UNKNOWN": 0,
                                    "RUNNING": 0
                                },
                                "jobs": [],
                                "limit": 20,
                                "rule": "ALL_DESC"
                            },
                            "parent_msg_id": "e4092d14-1785-4dc1-845a-9c62e51a61e5"
                        },
                        "text/plain": "StatementMeta(, 0b46a2ad-b0ca-42b8-b7f6-9ab4cc7db587, 7, Finished, Available)"
                    },
                    "metadata": {}
                },
                {
                    "output_type": "execute_result",
                    "execution_count": 5,
                    "data": {
                        "application/vnd.synapse.sparksql-result+json": {
                            "schema": {
                                "type": "struct",
                                "fields": [
                                    {
                                        "name": "col_name",
                                        "type": "string",
                                        "nullable": false,
                                        "metadata": {
                                            "comment": "name of the column"
                                        }
                                    },
                                    {
                                        "name": "data_type",
                                        "type": "string",
                                        "nullable": false,
                                        "metadata": {
                                            "comment": "data type of the column"
                                        }
                                    },
                                    {
                                        "name": "comment",
                                        "type": "string",
                                        "nullable": true,
                                        "metadata": {
                                            "comment": "comment of the column"
                                        }
                                    }
                                ]
                            },
                            "data": [
                                [
                                    "id",
                                    "int",
                                    null
                                ],
                                [
                                    "name",
                                    "string",
                                    null
                                ],
                                [
                                    "month",
                                    "int",
                                    null
                                ],
                                [
                                    "# Partition Information",
                                    "",
                                    ""
                                ],
                                [
                                    "# col_name",
                                    "data_type",
                                    "comment"
                                ],
                                [
                                    "month",
                                    "int",
                                    null
                                ],
                                [
                                    "",
                                    "",
                                    ""
                                ],
                                [
                                    "# Detailed Table Information",
                                    "",
                                    ""
                                ],
                                [
                                    "Catalog",
                                    "spark_catalog",
                                    ""
                                ],
                                [
                                    "Database",
                                    "hr",
                                    ""
                                ],
                                [
                                    "Table",
                                    "delta101",
                                    ""
                                ],
                                [
                                    "Owner",
                                    "trusted-service-user",
                                    ""
                                ],
                                [
                                    "Created Time",
                                    "Thu Nov 23 14:52:41 UTC 2023",
                                    ""
                                ],
                                [
                                    "Last Access",
                                    "UNKNOWN",
                                    ""
                                ],
                                [
                                    "Created By",
                                    "Spark 3.4.1.5.3-108466340",
                                    ""
                                ],
                                [
                                    "Type",
                                    "MANAGED",
                                    ""
                                ],
                                [
                                    "Provider",
                                    "parquet",
                                    ""
                                ],
                                [
                                    "Comment",
                                    "Delta 101",
                                    ""
                                ],
                                [
                                    "Location",
                                    "abfss://8b66e216-bf25-482e-aad8-e674ad9dbae6@onelake.dfs.fabric.microsoft.com/e4fac868-d1ce-48e0-8d1d-040dc8b27d74/Tables/delta101",
                                    ""
                                ],
                                [
                                    "Serde Library",
                                    "org.apache.hadoop.hive.ql.io.parquet.serde.ParquetHiveSerDe",
                                    ""
                                ],
                                [
                                    "InputFormat",
                                    "org.apache.hadoop.hive.ql.io.parquet.MapredParquetInputFormat",
                                    ""
                                ],
                                [
                                    "OutputFormat",
                                    "org.apache.hadoop.hive.ql.io.parquet.MapredParquetOutputFormat",
                                    ""
                                ],
                                [
                                    "Partition Provider",
                                    "Catalog",
                                    ""
                                ]
                            ]
                        },
                        "text/plain": "<Spark SQL result set with 23 rows and 3 fields>"
                    },
                    "metadata": {}
                }
            ],
            "execution_count": 5,
            "metadata": {
                "jupyter": {
                    "source_hidden": false,
                    "outputs_hidden": false
                },
                "nteract": {
                    "transient": {
                        "deleting": false
                    }
                },
                "microsoft": {
                    "language": "sparksql"
                },
                "collapsed": false
            },
            "id": "b1c31b98-1c10-47e1-a0b8-17bea4fb20b4"
        },
        {
            "cell_type": "markdown",
            "source": [
                "## ➡️ CONVERT TO DELTA"
            ],
            "metadata": {
                "nteract": {
                    "transient": {
                        "deleting": false
                    }
                }
            },
            "id": "b538f798-294c-48f0-b59c-9c57e09125ee"
        },
        {
            "cell_type": "code",
            "source": [
                "%%sql\n",
                "CONVERT TO DELTA delta101\n",
                "PARTITIONED BY (month INT)"
            ],
            "outputs": [
                {
                    "output_type": "display_data",
                    "data": {
                        "application/vnd.livy.statement-meta+json": {
                            "spark_pool": null,
                            "session_id": "0b46a2ad-b0ca-42b8-b7f6-9ab4cc7db587",
                            "statement_id": 8,
                            "state": "finished",
                            "livy_statement_state": "available",
                            "queued_time": "2023-11-23T14:52:11.2265556Z",
                            "session_start_time": null,
                            "execution_start_time": "2023-11-23T14:52:47.439658Z",
                            "execution_finish_time": "2023-11-23T14:53:03.3736811Z",
                            "spark_jobs": {
                                "numbers": {
                                    "FAILED": 0,
                                    "SUCCEEDED": 12,
                                    "UNKNOWN": 0,
                                    "RUNNING": 0
                                },
                                "jobs": [
                                    {
                                        "displayName": "$anonfun$recordDeltaOperationInternal$1 at SynapseLoggingShim.scala:107",
                                        "dataWritten": 0,
                                        "dataRead": 4349,
                                        "rowCount": 50,
                                        "usageDescription": "",
                                        "jobId": 22,
                                        "name": "$anonfun$recordDeltaOperationInternal$1 at SynapseLoggingShim.scala:107",
                                        "description": "Delta: Job group for statement 8:\nCONVERT TO DELTA delta101\nPARTITIONED BY (month INT): Compute snapshot for version: 0",
                                        "submissionTime": "2023-11-23T14:52:53.692GMT",
                                        "completionTime": "2023-11-23T14:52:53.741GMT",
                                        "stageIds": [
                                            34,
                                            35,
                                            36
                                        ],
                                        "jobGroup": "8",
                                        "status": "SUCCEEDED",
                                        "numTasks": 52,
                                        "numActiveTasks": 0,
                                        "numCompletedTasks": 1,
                                        "numSkippedTasks": 51,
                                        "numFailedTasks": 0,
                                        "numKilledTasks": 0,
                                        "numCompletedIndices": 1,
                                        "numActiveStages": 0,
                                        "numCompletedStages": 1,
                                        "numSkippedStages": 2,
                                        "numFailedStages": 0,
                                        "killedTasksSummary": {}
                                    },
                                    {
                                        "displayName": "$anonfun$recordDeltaOperationInternal$1 at SynapseLoggingShim.scala:107",
                                        "dataWritten": 4349,
                                        "dataRead": 1686,
                                        "rowCount": 53,
                                        "usageDescription": "",
                                        "jobId": 21,
                                        "name": "$anonfun$recordDeltaOperationInternal$1 at SynapseLoggingShim.scala:107",
                                        "description": "Delta: Job group for statement 8:\nCONVERT TO DELTA delta101\nPARTITIONED BY (month INT): Compute snapshot for version: 0",
                                        "submissionTime": "2023-11-23T14:52:53.266GMT",
                                        "completionTime": "2023-11-23T14:52:53.662GMT",
                                        "stageIds": [
                                            33,
                                            32
                                        ],
                                        "jobGroup": "8",
                                        "status": "SUCCEEDED",
                                        "numTasks": 51,
                                        "numActiveTasks": 0,
                                        "numCompletedTasks": 50,
                                        "numSkippedTasks": 1,
                                        "numFailedTasks": 0,
                                        "numKilledTasks": 0,
                                        "numCompletedIndices": 50,
                                        "numActiveStages": 0,
                                        "numCompletedStages": 1,
                                        "numSkippedStages": 1,
                                        "numFailedStages": 0,
                                        "killedTasksSummary": {}
                                    },
                                    {
                                        "displayName": "$anonfun$recordDeltaOperationInternal$1 at SynapseLoggingShim.scala:107",
                                        "dataWritten": 0,
                                        "dataRead": 657,
                                        "rowCount": 3,
                                        "usageDescription": "",
                                        "jobId": 20,
                                        "name": "$anonfun$recordDeltaOperationInternal$1 at SynapseLoggingShim.scala:107",
                                        "description": "Job group for statement 8:\nCONVERT TO DELTA delta101\nPARTITIONED BY (month INT)",
                                        "submissionTime": "2023-11-23T14:52:52.510GMT",
                                        "completionTime": "2023-11-23T14:52:53.206GMT",
                                        "stageIds": [
                                            30,
                                            31,
                                            29
                                        ],
                                        "jobGroup": "8",
                                        "status": "SUCCEEDED",
                                        "numTasks": 52,
                                        "numActiveTasks": 0,
                                        "numCompletedTasks": 1,
                                        "numSkippedTasks": 51,
                                        "numFailedTasks": 0,
                                        "numKilledTasks": 0,
                                        "numCompletedIndices": 1,
                                        "numActiveStages": 0,
                                        "numCompletedStages": 1,
                                        "numSkippedStages": 2,
                                        "numFailedStages": 0,
                                        "killedTasksSummary": {}
                                    },
                                    {
                                        "displayName": "$anonfun$recordDeltaOperationInternal$1 at SynapseLoggingShim.scala:107",
                                        "dataWritten": 657,
                                        "dataRead": 1448,
                                        "rowCount": 7,
                                        "usageDescription": "",
                                        "jobId": 19,
                                        "name": "$anonfun$recordDeltaOperationInternal$1 at SynapseLoggingShim.scala:107",
                                        "description": "Job group for statement 8:\nCONVERT TO DELTA delta101\nPARTITIONED BY (month INT)",
                                        "submissionTime": "2023-11-23T14:52:51.361GMT",
                                        "completionTime": "2023-11-23T14:52:52.229GMT",
                                        "stageIds": [
                                            27,
                                            28
                                        ],
                                        "jobGroup": "8",
                                        "status": "SUCCEEDED",
                                        "numTasks": 51,
                                        "numActiveTasks": 0,
                                        "numCompletedTasks": 50,
                                        "numSkippedTasks": 1,
                                        "numFailedTasks": 0,
                                        "numKilledTasks": 0,
                                        "numCompletedIndices": 50,
                                        "numActiveStages": 0,
                                        "numCompletedStages": 1,
                                        "numSkippedStages": 1,
                                        "numFailedStages": 0,
                                        "killedTasksSummary": {}
                                    },
                                    {
                                        "displayName": "$anonfun$recordDeltaOperationInternal$1 at SynapseLoggingShim.scala:107",
                                        "dataWritten": 1448,
                                        "dataRead": 1309,
                                        "rowCount": 8,
                                        "usageDescription": "",
                                        "jobId": 18,
                                        "name": "$anonfun$recordDeltaOperationInternal$1 at SynapseLoggingShim.scala:107",
                                        "description": "Job group for statement 8:\nCONVERT TO DELTA delta101\nPARTITIONED BY (month INT)",
                                        "submissionTime": "2023-11-23T14:52:50.860GMT",
                                        "completionTime": "2023-11-23T14:52:50.980GMT",
                                        "stageIds": [
                                            26
                                        ],
                                        "jobGroup": "8",
                                        "status": "SUCCEEDED",
                                        "numTasks": 1,
                                        "numActiveTasks": 0,
                                        "numCompletedTasks": 1,
                                        "numSkippedTasks": 0,
                                        "numFailedTasks": 0,
                                        "numKilledTasks": 0,
                                        "numCompletedIndices": 1,
                                        "numActiveStages": 0,
                                        "numCompletedStages": 1,
                                        "numSkippedStages": 0,
                                        "numFailedStages": 0,
                                        "killedTasksSummary": {}
                                    },
                                    {
                                        "displayName": "toString at String.java:2951",
                                        "dataWritten": 0,
                                        "dataRead": 1309,
                                        "rowCount": 4,
                                        "usageDescription": "",
                                        "jobId": 17,
                                        "name": "toString at String.java:2951",
                                        "description": "Job group for statement 8:\nCONVERT TO DELTA delta101\nPARTITIONED BY (month INT)",
                                        "submissionTime": "2023-11-23T14:52:50.539GMT",
                                        "completionTime": "2023-11-23T14:52:50.605GMT",
                                        "stageIds": [
                                            25
                                        ],
                                        "jobGroup": "8",
                                        "status": "SUCCEEDED",
                                        "numTasks": 1,
                                        "numActiveTasks": 0,
                                        "numCompletedTasks": 1,
                                        "numSkippedTasks": 0,
                                        "numFailedTasks": 0,
                                        "numKilledTasks": 0,
                                        "numCompletedIndices": 1,
                                        "numActiveStages": 0,
                                        "numCompletedStages": 1,
                                        "numSkippedStages": 0,
                                        "numFailedStages": 0,
                                        "killedTasksSummary": {}
                                    },
                                    {
                                        "displayName": "$anonfun$recordDeltaOperationInternal$1 at SynapseLoggingShim.scala:107",
                                        "dataWritten": 0,
                                        "dataRead": 309,
                                        "rowCount": 1,
                                        "usageDescription": "",
                                        "jobId": 16,
                                        "name": "$anonfun$recordDeltaOperationInternal$1 at SynapseLoggingShim.scala:107",
                                        "description": "Job group for statement 8:\nCONVERT TO DELTA delta101\nPARTITIONED BY (month INT)",
                                        "submissionTime": "2023-11-23T14:52:49.938GMT",
                                        "completionTime": "2023-11-23T14:52:50.081GMT",
                                        "stageIds": [
                                            24,
                                            23
                                        ],
                                        "jobGroup": "8",
                                        "status": "SUCCEEDED",
                                        "numTasks": 2,
                                        "numActiveTasks": 0,
                                        "numCompletedTasks": 1,
                                        "numSkippedTasks": 1,
                                        "numFailedTasks": 0,
                                        "numKilledTasks": 0,
                                        "numCompletedIndices": 1,
                                        "numActiveStages": 0,
                                        "numCompletedStages": 1,
                                        "numSkippedStages": 1,
                                        "numFailedStages": 0,
                                        "killedTasksSummary": {}
                                    },
                                    {
                                        "displayName": "$anonfun$recordDeltaOperationInternal$1 at SynapseLoggingShim.scala:107",
                                        "dataWritten": 309,
                                        "dataRead": 136,
                                        "rowCount": 2,
                                        "usageDescription": "",
                                        "jobId": 15,
                                        "name": "$anonfun$recordDeltaOperationInternal$1 at SynapseLoggingShim.scala:107",
                                        "description": "Job group for statement 8:\nCONVERT TO DELTA delta101\nPARTITIONED BY (month INT)",
                                        "submissionTime": "2023-11-23T14:52:49.639GMT",
                                        "completionTime": "2023-11-23T14:52:49.890GMT",
                                        "stageIds": [
                                            22
                                        ],
                                        "jobGroup": "8",
                                        "status": "SUCCEEDED",
                                        "numTasks": 1,
                                        "numActiveTasks": 0,
                                        "numCompletedTasks": 1,
                                        "numSkippedTasks": 0,
                                        "numFailedTasks": 0,
                                        "numKilledTasks": 0,
                                        "numCompletedIndices": 1,
                                        "numActiveStages": 0,
                                        "numCompletedStages": 1,
                                        "numSkippedStages": 0,
                                        "numFailedStages": 0,
                                        "killedTasksSummary": {}
                                    },
                                    {
                                        "displayName": "$anonfun$recordDeltaOperationInternal$1 at SynapseLoggingShim.scala:107",
                                        "dataWritten": 0,
                                        "dataRead": 720,
                                        "rowCount": 1,
                                        "usageDescription": "",
                                        "jobId": 14,
                                        "name": "$anonfun$recordDeltaOperationInternal$1 at SynapseLoggingShim.scala:107",
                                        "description": "Job group for statement 8:\nCONVERT TO DELTA delta101\nPARTITIONED BY (month INT)",
                                        "submissionTime": "2023-11-23T14:52:49.372GMT",
                                        "completionTime": "2023-11-23T14:52:49.390GMT",
                                        "stageIds": [
                                            20,
                                            21
                                        ],
                                        "jobGroup": "8",
                                        "status": "SUCCEEDED",
                                        "numTasks": 9,
                                        "numActiveTasks": 0,
                                        "numCompletedTasks": 1,
                                        "numSkippedTasks": 8,
                                        "numFailedTasks": 0,
                                        "numKilledTasks": 0,
                                        "numCompletedIndices": 1,
                                        "numActiveStages": 0,
                                        "numCompletedStages": 1,
                                        "numSkippedStages": 1,
                                        "numFailedStages": 0,
                                        "killedTasksSummary": {}
                                    },
                                    {
                                        "displayName": "$anonfun$recordDeltaOperationInternal$1 at SynapseLoggingShim.scala:107",
                                        "dataWritten": 0,
                                        "dataRead": 0,
                                        "rowCount": 0,
                                        "usageDescription": "",
                                        "jobId": 13,
                                        "name": "$anonfun$recordDeltaOperationInternal$1 at SynapseLoggingShim.scala:107",
                                        "description": "Job group for statement 8:\nCONVERT TO DELTA delta101\nPARTITIONED BY (month INT)",
                                        "submissionTime": "2023-11-23T14:52:49.087GMT",
                                        "completionTime": "2023-11-23T14:52:49.188GMT",
                                        "stageIds": [
                                            19
                                        ],
                                        "jobGroup": "8",
                                        "status": "SUCCEEDED",
                                        "numTasks": 1,
                                        "numActiveTasks": 0,
                                        "numCompletedTasks": 1,
                                        "numSkippedTasks": 0,
                                        "numFailedTasks": 0,
                                        "numKilledTasks": 0,
                                        "numCompletedIndices": 1,
                                        "numActiveStages": 0,
                                        "numCompletedStages": 1,
                                        "numSkippedStages": 0,
                                        "numFailedStages": 0,
                                        "killedTasksSummary": {}
                                    },
                                    {
                                        "displayName": "$anonfun$recordDeltaOperationInternal$1 at SynapseLoggingShim.scala:107",
                                        "dataWritten": 0,
                                        "dataRead": 720,
                                        "rowCount": 1,
                                        "usageDescription": "",
                                        "jobId": 12,
                                        "name": "$anonfun$recordDeltaOperationInternal$1 at SynapseLoggingShim.scala:107",
                                        "description": "Job group for statement 8:\nCONVERT TO DELTA delta101\nPARTITIONED BY (month INT)",
                                        "submissionTime": "2023-11-23T14:52:48.993GMT",
                                        "completionTime": "2023-11-23T14:52:49.019GMT",
                                        "stageIds": [
                                            17,
                                            18
                                        ],
                                        "jobGroup": "8",
                                        "status": "SUCCEEDED",
                                        "numTasks": 9,
                                        "numActiveTasks": 0,
                                        "numCompletedTasks": 1,
                                        "numSkippedTasks": 8,
                                        "numFailedTasks": 0,
                                        "numKilledTasks": 0,
                                        "numCompletedIndices": 1,
                                        "numActiveStages": 0,
                                        "numCompletedStages": 1,
                                        "numSkippedStages": 1,
                                        "numFailedStages": 0,
                                        "killedTasksSummary": {}
                                    },
                                    {
                                        "displayName": "$anonfun$recordDeltaOperationInternal$1 at SynapseLoggingShim.scala:107",
                                        "dataWritten": 207,
                                        "dataRead": 207,
                                        "rowCount": 2,
                                        "usageDescription": "",
                                        "jobId": 11,
                                        "name": "$anonfun$recordDeltaOperationInternal$1 at SynapseLoggingShim.scala:107",
                                        "description": "Job group for statement 8:\nCONVERT TO DELTA delta101\nPARTITIONED BY (month INT)",
                                        "submissionTime": "2023-11-23T14:52:48.617GMT",
                                        "completionTime": "2023-11-23T14:52:48.975GMT",
                                        "stageIds": [
                                            15,
                                            16
                                        ],
                                        "jobGroup": "8",
                                        "status": "SUCCEEDED",
                                        "numTasks": 9,
                                        "numActiveTasks": 0,
                                        "numCompletedTasks": 9,
                                        "numSkippedTasks": 0,
                                        "numFailedTasks": 0,
                                        "numKilledTasks": 0,
                                        "numCompletedIndices": 9,
                                        "numActiveStages": 0,
                                        "numCompletedStages": 2,
                                        "numSkippedStages": 0,
                                        "numFailedStages": 0,
                                        "killedTasksSummary": {}
                                    }
                                ],
                                "limit": 20,
                                "rule": "ALL_DESC"
                            },
                            "parent_msg_id": "668f21f4-a440-4bb0-ac59-ec39b26ddca7"
                        },
                        "text/plain": "StatementMeta(, 0b46a2ad-b0ca-42b8-b7f6-9ab4cc7db587, 8, Finished, Available)"
                    },
                    "metadata": {}
                },
                {
                    "output_type": "execute_result",
                    "execution_count": 6,
                    "data": {
                        "application/vnd.synapse.sparksql-result+json": {
                            "schema": {
                                "type": "struct",
                                "fields": []
                            },
                            "data": []
                        },
                        "text/plain": "<Spark SQL result set with 0 rows and 0 fields>"
                    },
                    "metadata": {}
                }
            ],
            "execution_count": 6,
            "metadata": {
                "jupyter": {
                    "source_hidden": false,
                    "outputs_hidden": false
                },
                "nteract": {
                    "transient": {
                        "deleting": false
                    }
                },
                "microsoft": {
                    "language": "sparksql"
                },
                "collapsed": false
            },
            "id": "6b2fe81a-7f30-4e8d-86c8-dcf5139968ff"
        },
        {
            "cell_type": "markdown",
            "source": [
                "Notice that with the above command, we still need to configure the partitioning field (again).\n",
                "\n",
                "More information: [here](https://docs.delta.io/latest/delta-utility.html#convert-a-parquet-table-to-a-delta-table)\n",
                "\n",
                "Refresh the lakehouse view and notice that the icon is now showing as a delta table."
            ],
            "metadata": {
                "nteract": {
                    "transient": {
                        "deleting": false
                    }
                }
            },
            "id": "b5866f95-a707-40da-8c79-8356ea8d944e"
        },
        {
            "cell_type": "code",
            "source": [
                "%%sql\n",
                "DESCRIBE DETAIL delta101"
            ],
            "outputs": [
                {
                    "output_type": "display_data",
                    "data": {
                        "application/vnd.livy.statement-meta+json": {
                            "spark_pool": null,
                            "session_id": "0b46a2ad-b0ca-42b8-b7f6-9ab4cc7db587",
                            "statement_id": 9,
                            "state": "finished",
                            "livy_statement_state": "available",
                            "queued_time": "2023-11-23T14:52:11.2274256Z",
                            "session_start_time": null,
                            "execution_start_time": "2023-11-23T14:53:04.0715031Z",
                            "execution_finish_time": "2023-11-23T14:53:07.7559118Z",
                            "spark_jobs": {
                                "numbers": {
                                    "FAILED": 0,
                                    "SUCCEEDED": 4,
                                    "UNKNOWN": 0,
                                    "RUNNING": 0
                                },
                                "jobs": [
                                    {
                                        "displayName": "$anonfun$recordDeltaOperationInternal$1 at SynapseLoggingShim.scala:107",
                                        "dataWritten": 0,
                                        "dataRead": 4349,
                                        "rowCount": 50,
                                        "usageDescription": "",
                                        "jobId": 26,
                                        "name": "$anonfun$recordDeltaOperationInternal$1 at SynapseLoggingShim.scala:107",
                                        "description": "Delta: Job group for statement 9:\nDESCRIBE DETAIL delta101: Compute snapshot for version: 0",
                                        "submissionTime": "2023-11-23T14:53:06.410GMT",
                                        "completionTime": "2023-11-23T14:53:06.455GMT",
                                        "stageIds": [
                                            42,
                                            43,
                                            41
                                        ],
                                        "jobGroup": "9",
                                        "status": "SUCCEEDED",
                                        "numTasks": 52,
                                        "numActiveTasks": 0,
                                        "numCompletedTasks": 1,
                                        "numSkippedTasks": 51,
                                        "numFailedTasks": 0,
                                        "numKilledTasks": 0,
                                        "numCompletedIndices": 1,
                                        "numActiveStages": 0,
                                        "numCompletedStages": 1,
                                        "numSkippedStages": 2,
                                        "numFailedStages": 0,
                                        "killedTasksSummary": {}
                                    },
                                    {
                                        "displayName": "$anonfun$recordDeltaOperationInternal$1 at SynapseLoggingShim.scala:107",
                                        "dataWritten": 4349,
                                        "dataRead": 1017,
                                        "rowCount": 53,
                                        "usageDescription": "",
                                        "jobId": 25,
                                        "name": "$anonfun$recordDeltaOperationInternal$1 at SynapseLoggingShim.scala:107",
                                        "description": "Delta: Job group for statement 9:\nDESCRIBE DETAIL delta101: Compute snapshot for version: 0",
                                        "submissionTime": "2023-11-23T14:53:05.629GMT",
                                        "completionTime": "2023-11-23T14:53:06.387GMT",
                                        "stageIds": [
                                            39,
                                            40
                                        ],
                                        "jobGroup": "9",
                                        "status": "SUCCEEDED",
                                        "numTasks": 51,
                                        "numActiveTasks": 0,
                                        "numCompletedTasks": 50,
                                        "numSkippedTasks": 1,
                                        "numFailedTasks": 0,
                                        "numKilledTasks": 0,
                                        "numCompletedIndices": 50,
                                        "numActiveStages": 0,
                                        "numCompletedStages": 1,
                                        "numSkippedStages": 1,
                                        "numFailedStages": 0,
                                        "killedTasksSummary": {}
                                    },
                                    {
                                        "displayName": "$anonfun$recordDeltaOperationInternal$1 at SynapseLoggingShim.scala:107",
                                        "dataWritten": 1017,
                                        "dataRead": 2174,
                                        "rowCount": 6,
                                        "usageDescription": "",
                                        "jobId": 24,
                                        "name": "$anonfun$recordDeltaOperationInternal$1 at SynapseLoggingShim.scala:107",
                                        "description": "Delta: Job group for statement 9:\nDESCRIBE DETAIL delta101: Compute snapshot for version: 0",
                                        "submissionTime": "2023-11-23T14:53:05.238GMT",
                                        "completionTime": "2023-11-23T14:53:05.444GMT",
                                        "stageIds": [
                                            38
                                        ],
                                        "jobGroup": "9",
                                        "status": "SUCCEEDED",
                                        "numTasks": 1,
                                        "numActiveTasks": 0,
                                        "numCompletedTasks": 1,
                                        "numSkippedTasks": 0,
                                        "numFailedTasks": 0,
                                        "numKilledTasks": 0,
                                        "numCompletedIndices": 1,
                                        "numActiveStages": 0,
                                        "numCompletedStages": 1,
                                        "numSkippedStages": 0,
                                        "numFailedStages": 0,
                                        "killedTasksSummary": {}
                                    },
                                    {
                                        "displayName": "toString at String.java:2951",
                                        "dataWritten": 0,
                                        "dataRead": 14336,
                                        "rowCount": 3,
                                        "usageDescription": "",
                                        "jobId": 23,
                                        "name": "toString at String.java:2951",
                                        "description": "Job group for statement 9:\nDESCRIBE DETAIL delta101",
                                        "submissionTime": "2023-11-23T14:53:04.705GMT",
                                        "completionTime": "2023-11-23T14:53:04.862GMT",
                                        "stageIds": [
                                            37
                                        ],
                                        "jobGroup": "9",
                                        "status": "SUCCEEDED",
                                        "numTasks": 1,
                                        "numActiveTasks": 0,
                                        "numCompletedTasks": 1,
                                        "numSkippedTasks": 0,
                                        "numFailedTasks": 0,
                                        "numKilledTasks": 0,
                                        "numCompletedIndices": 1,
                                        "numActiveStages": 0,
                                        "numCompletedStages": 1,
                                        "numSkippedStages": 0,
                                        "numFailedStages": 0,
                                        "killedTasksSummary": {}
                                    }
                                ],
                                "limit": 20,
                                "rule": "ALL_DESC"
                            },
                            "parent_msg_id": "eb104aad-4f2b-46ca-8f3d-f967ac72236e"
                        },
                        "text/plain": "StatementMeta(, 0b46a2ad-b0ca-42b8-b7f6-9ab4cc7db587, 9, Finished, Available)"
                    },
                    "metadata": {}
                },
                {
                    "output_type": "execute_result",
                    "execution_count": 7,
                    "data": {
                        "application/vnd.synapse.sparksql-result+json": {
                            "schema": {
                                "type": "struct",
                                "fields": [
                                    {
                                        "name": "format",
                                        "type": "string",
                                        "nullable": true,
                                        "metadata": {}
                                    },
                                    {
                                        "name": "id",
                                        "type": "string",
                                        "nullable": true,
                                        "metadata": {}
                                    },
                                    {
                                        "name": "name",
                                        "type": "string",
                                        "nullable": true,
                                        "metadata": {}
                                    },
                                    {
                                        "name": "description",
                                        "type": "string",
                                        "nullable": true,
                                        "metadata": {}
                                    },
                                    {
                                        "name": "location",
                                        "type": "string",
                                        "nullable": true,
                                        "metadata": {}
                                    },
                                    {
                                        "name": "createdAt",
                                        "type": "timestamp",
                                        "nullable": true,
                                        "metadata": {}
                                    },
                                    {
                                        "name": "lastModified",
                                        "type": "timestamp",
                                        "nullable": true,
                                        "metadata": {}
                                    },
                                    {
                                        "name": "partitionColumns",
                                        "type": {
                                            "type": "array",
                                            "elementType": "string",
                                            "containsNull": true
                                        },
                                        "nullable": true,
                                        "metadata": {}
                                    },
                                    {
                                        "name": "numFiles",
                                        "type": "long",
                                        "nullable": true,
                                        "metadata": {}
                                    },
                                    {
                                        "name": "sizeInBytes",
                                        "type": "long",
                                        "nullable": true,
                                        "metadata": {}
                                    },
                                    {
                                        "name": "properties",
                                        "type": {
                                            "type": "map",
                                            "keyType": "string",
                                            "valueType": "string",
                                            "valueContainsNull": true
                                        },
                                        "nullable": true,
                                        "metadata": {}
                                    },
                                    {
                                        "name": "minReaderVersion",
                                        "type": "integer",
                                        "nullable": true,
                                        "metadata": {}
                                    },
                                    {
                                        "name": "minWriterVersion",
                                        "type": "integer",
                                        "nullable": true,
                                        "metadata": {}
                                    },
                                    {
                                        "name": "tableFeatures",
                                        "type": {
                                            "type": "array",
                                            "elementType": "string",
                                            "containsNull": true
                                        },
                                        "nullable": true,
                                        "metadata": {}
                                    }
                                ]
                            },
                            "data": [
                                [
                                    "delta",
                                    "9a2f8088-b219-4270-b0cc-8a157418d562",
                                    "spark_catalog.hr.delta101",
                                    null,
                                    "abfss://8b66e216-bf25-482e-aad8-e674ad9dbae6@onelake.dfs.fabric.microsoft.com/e4fac868-d1ce-48e0-8d1d-040dc8b27d74/Tables/delta101",
                                    "2023-11-23T14:52:48Z",
                                    "2023-11-23T14:52:50Z",
                                    [
                                        "month"
                                    ],
                                    "1",
                                    "1186",
                                    {},
                                    1,
                                    2,
                                    [
                                        "appendOnly",
                                        "invariants"
                                    ]
                                ]
                            ]
                        },
                        "text/plain": "<Spark SQL result set with 1 rows and 14 fields>"
                    },
                    "metadata": {}
                }
            ],
            "execution_count": 7,
            "metadata": {
                "jupyter": {
                    "source_hidden": false,
                    "outputs_hidden": false
                },
                "nteract": {
                    "transient": {
                        "deleting": false
                    }
                },
                "microsoft": {
                    "language": "sparksql"
                },
                "collapsed": false
            },
            "id": "d8ef0972-b4de-4df0-bead-02e80bd4d7ac"
        },
        {
            "cell_type": "markdown",
            "source": [
                "## ➡️ DESCRIBE HISTORY\n",
                "\n",
                "Provides provenance information, including the operation, user, and so on, and operation metrics for each write to a table. Table history is retained for 30 days.\n",
                "\n",
                "More information at https://docs.delta.io/latest/delta-batch.html#-describe-history"
            ],
            "metadata": {
                "nteract": {
                    "transient": {
                        "deleting": false
                    }
                }
            },
            "id": "852e4466-cc7b-4321-a64e-71ecdcba290b"
        },
        {
            "cell_type": "code",
            "source": [
                "%%sql\n",
                "DESCRIBE HISTORY delta101"
            ],
            "outputs": [
                {
                    "output_type": "display_data",
                    "data": {
                        "application/vnd.livy.statement-meta+json": {
                            "spark_pool": null,
                            "session_id": "0b46a2ad-b0ca-42b8-b7f6-9ab4cc7db587",
                            "statement_id": 10,
                            "state": "finished",
                            "livy_statement_state": "available",
                            "queued_time": "2023-11-23T14:52:11.2281405Z",
                            "session_start_time": null,
                            "execution_start_time": "2023-11-23T14:53:08.4714201Z",
                            "execution_finish_time": "2023-11-23T14:53:10.0494181Z",
                            "spark_jobs": {
                                "numbers": {
                                    "FAILED": 0,
                                    "SUCCEEDED": 1,
                                    "UNKNOWN": 0,
                                    "RUNNING": 0
                                },
                                "jobs": [
                                    {
                                        "displayName": "$anonfun$recordDeltaOperationInternal$1 at SynapseLoggingShim.scala:107",
                                        "dataWritten": 0,
                                        "dataRead": 0,
                                        "rowCount": 1,
                                        "usageDescription": "",
                                        "jobId": 27,
                                        "name": "$anonfun$recordDeltaOperationInternal$1 at SynapseLoggingShim.scala:107",
                                        "description": "Job group for statement 10:\nDESCRIBE HISTORY delta101",
                                        "submissionTime": "2023-11-23T14:53:09.108GMT",
                                        "completionTime": "2023-11-23T14:53:09.468GMT",
                                        "stageIds": [
                                            44
                                        ],
                                        "jobGroup": "10",
                                        "status": "SUCCEEDED",
                                        "numTasks": 8,
                                        "numActiveTasks": 0,
                                        "numCompletedTasks": 8,
                                        "numSkippedTasks": 0,
                                        "numFailedTasks": 0,
                                        "numKilledTasks": 0,
                                        "numCompletedIndices": 8,
                                        "numActiveStages": 0,
                                        "numCompletedStages": 1,
                                        "numSkippedStages": 0,
                                        "numFailedStages": 0,
                                        "killedTasksSummary": {}
                                    }
                                ],
                                "limit": 20,
                                "rule": "ALL_DESC"
                            },
                            "parent_msg_id": "f6902049-67b2-4908-af30-eb7ae75cd10b"
                        },
                        "text/plain": "StatementMeta(, 0b46a2ad-b0ca-42b8-b7f6-9ab4cc7db587, 10, Finished, Available)"
                    },
                    "metadata": {}
                },
                {
                    "output_type": "execute_result",
                    "execution_count": 8,
                    "data": {
                        "application/vnd.synapse.sparksql-result+json": {
                            "schema": {
                                "type": "struct",
                                "fields": [
                                    {
                                        "name": "version",
                                        "type": "long",
                                        "nullable": true,
                                        "metadata": {}
                                    },
                                    {
                                        "name": "timestamp",
                                        "type": "timestamp",
                                        "nullable": true,
                                        "metadata": {}
                                    },
                                    {
                                        "name": "userId",
                                        "type": "string",
                                        "nullable": true,
                                        "metadata": {}
                                    },
                                    {
                                        "name": "userName",
                                        "type": "string",
                                        "nullable": true,
                                        "metadata": {}
                                    },
                                    {
                                        "name": "operation",
                                        "type": "string",
                                        "nullable": true,
                                        "metadata": {}
                                    },
                                    {
                                        "name": "operationParameters",
                                        "type": {
                                            "type": "map",
                                            "keyType": "string",
                                            "valueType": "string",
                                            "valueContainsNull": true
                                        },
                                        "nullable": true,
                                        "metadata": {}
                                    },
                                    {
                                        "name": "job",
                                        "type": {
                                            "type": "struct",
                                            "fields": [
                                                {
                                                    "name": "jobId",
                                                    "type": "string",
                                                    "nullable": true,
                                                    "metadata": {}
                                                },
                                                {
                                                    "name": "jobName",
                                                    "type": "string",
                                                    "nullable": true,
                                                    "metadata": {}
                                                },
                                                {
                                                    "name": "runId",
                                                    "type": "string",
                                                    "nullable": true,
                                                    "metadata": {}
                                                },
                                                {
                                                    "name": "jobOwnerId",
                                                    "type": "string",
                                                    "nullable": true,
                                                    "metadata": {}
                                                },
                                                {
                                                    "name": "triggerType",
                                                    "type": "string",
                                                    "nullable": true,
                                                    "metadata": {}
                                                }
                                            ]
                                        },
                                        "nullable": true,
                                        "metadata": {}
                                    },
                                    {
                                        "name": "notebook",
                                        "type": {
                                            "type": "struct",
                                            "fields": [
                                                {
                                                    "name": "notebookId",
                                                    "type": "string",
                                                    "nullable": true,
                                                    "metadata": {}
                                                }
                                            ]
                                        },
                                        "nullable": true,
                                        "metadata": {}
                                    },
                                    {
                                        "name": "clusterId",
                                        "type": "string",
                                        "nullable": true,
                                        "metadata": {}
                                    },
                                    {
                                        "name": "readVersion",
                                        "type": "long",
                                        "nullable": true,
                                        "metadata": {}
                                    },
                                    {
                                        "name": "isolationLevel",
                                        "type": "string",
                                        "nullable": true,
                                        "metadata": {}
                                    },
                                    {
                                        "name": "isBlindAppend",
                                        "type": "boolean",
                                        "nullable": true,
                                        "metadata": {}
                                    },
                                    {
                                        "name": "operationMetrics",
                                        "type": {
                                            "type": "map",
                                            "keyType": "string",
                                            "valueType": "string",
                                            "valueContainsNull": true
                                        },
                                        "nullable": true,
                                        "metadata": {}
                                    },
                                    {
                                        "name": "userMetadata",
                                        "type": "string",
                                        "nullable": true,
                                        "metadata": {}
                                    },
                                    {
                                        "name": "engineInfo",
                                        "type": "string",
                                        "nullable": true,
                                        "metadata": {}
                                    }
                                ]
                            },
                            "data": [
                                [
                                    "0",
                                    "2023-11-23T14:52:50Z",
                                    null,
                                    null,
                                    "CONVERT",
                                    {
                                        "catalogTable": "`spark_catalog`.`hr`.`delta101`",
                                        "numFiles": "1",
                                        "partitionedBy": "[\"month\"]",
                                        "sourceFormat": "parquet",
                                        "collectStats": "true"
                                    },
                                    null,
                                    null,
                                    null,
                                    "-1",
                                    "Serializable",
                                    false,
                                    {
                                        "numConvertedFiles": "1"
                                    },
                                    null,
                                    "Apache-Spark/3.4.1.5.3-108466340 Delta-Lake/2.4.0.8"
                                ]
                            ]
                        },
                        "text/plain": "<Spark SQL result set with 1 rows and 15 fields>"
                    },
                    "metadata": {}
                }
            ],
            "execution_count": 8,
            "metadata": {
                "jupyter": {
                    "source_hidden": false,
                    "outputs_hidden": false
                },
                "nteract": {
                    "transient": {
                        "deleting": false
                    }
                },
                "microsoft": {
                    "language": "sparksql"
                },
                "collapsed": false
            },
            "id": "67da942e-2543-4dc2-88d0-b17a136b5d89"
        },
        {
            "cell_type": "markdown",
            "source": [
                "## ➡️ INSERT"
            ],
            "metadata": {
                "nteract": {
                    "transient": {
                        "deleting": false
                    }
                }
            },
            "id": "ee8f8111-f38b-4aee-ab45-97a4f43496d2"
        },
        {
            "cell_type": "code",
            "source": [
                "%%sql\n",
                "INSERT INTO delta101 VALUES (1, 'one', 1)"
            ],
            "outputs": [
                {
                    "output_type": "display_data",
                    "data": {
                        "application/vnd.livy.statement-meta+json": {
                            "spark_pool": null,
                            "session_id": "0b46a2ad-b0ca-42b8-b7f6-9ab4cc7db587",
                            "statement_id": 11,
                            "state": "finished",
                            "livy_statement_state": "available",
                            "queued_time": "2023-11-23T14:52:11.2288094Z",
                            "session_start_time": null,
                            "execution_start_time": "2023-11-23T14:53:10.743921Z",
                            "execution_finish_time": "2023-11-23T14:53:15.6795526Z",
                            "spark_jobs": {
                                "numbers": {
                                    "FAILED": 0,
                                    "SUCCEEDED": 6,
                                    "UNKNOWN": 0,
                                    "RUNNING": 0
                                },
                                "jobs": [
                                    {
                                        "displayName": "$anonfun$recordDeltaOperationInternal$1 at SynapseLoggingShim.scala:107",
                                        "dataWritten": 0,
                                        "dataRead": 4362,
                                        "rowCount": 50,
                                        "usageDescription": "",
                                        "jobId": 33,
                                        "name": "$anonfun$recordDeltaOperationInternal$1 at SynapseLoggingShim.scala:107",
                                        "description": "Delta: Job group for statement 11:\nINSERT INTO delta101 VALUES (1L, 'one', 1): Compute snapshot for version: 1",
                                        "submissionTime": "2023-11-23T14:53:14.882GMT",
                                        "completionTime": "2023-11-23T14:53:14.919GMT",
                                        "stageIds": [
                                            52,
                                            53,
                                            54
                                        ],
                                        "jobGroup": "11",
                                        "status": "SUCCEEDED",
                                        "numTasks": 53,
                                        "numActiveTasks": 0,
                                        "numCompletedTasks": 1,
                                        "numSkippedTasks": 52,
                                        "numFailedTasks": 0,
                                        "numKilledTasks": 0,
                                        "numCompletedIndices": 1,
                                        "numActiveStages": 0,
                                        "numCompletedStages": 1,
                                        "numSkippedStages": 2,
                                        "numFailedStages": 0,
                                        "killedTasksSummary": {}
                                    },
                                    {
                                        "displayName": "$anonfun$recordDeltaOperationInternal$1 at SynapseLoggingShim.scala:107",
                                        "dataWritten": 4362,
                                        "dataRead": 2154,
                                        "rowCount": 55,
                                        "usageDescription": "",
                                        "jobId": 32,
                                        "name": "$anonfun$recordDeltaOperationInternal$1 at SynapseLoggingShim.scala:107",
                                        "description": "Delta: Job group for statement 11:\nINSERT INTO delta101 VALUES (1L, 'one', 1): Compute snapshot for version: 1",
                                        "submissionTime": "2023-11-23T14:53:13.773GMT",
                                        "completionTime": "2023-11-23T14:53:14.859GMT",
                                        "stageIds": [
                                            51,
                                            50
                                        ],
                                        "jobGroup": "11",
                                        "status": "SUCCEEDED",
                                        "numTasks": 52,
                                        "numActiveTasks": 0,
                                        "numCompletedTasks": 50,
                                        "numSkippedTasks": 2,
                                        "numFailedTasks": 0,
                                        "numKilledTasks": 0,
                                        "numCompletedIndices": 50,
                                        "numActiveStages": 0,
                                        "numCompletedStages": 1,
                                        "numSkippedStages": 1,
                                        "numFailedStages": 0,
                                        "killedTasksSummary": {}
                                    },
                                    {
                                        "displayName": "$anonfun$recordDeltaOperationInternal$1 at SynapseLoggingShim.scala:107",
                                        "dataWritten": 2154,
                                        "dataRead": 774,
                                        "rowCount": 10,
                                        "usageDescription": "",
                                        "jobId": 31,
                                        "name": "$anonfun$recordDeltaOperationInternal$1 at SynapseLoggingShim.scala:107",
                                        "description": "Delta: Job group for statement 11:\nINSERT INTO delta101 VALUES (1L, 'one', 1): Compute snapshot for version: 1",
                                        "submissionTime": "2023-11-23T14:53:13.247GMT",
                                        "completionTime": "2023-11-23T14:53:13.447GMT",
                                        "stageIds": [
                                            49
                                        ],
                                        "jobGroup": "11",
                                        "status": "SUCCEEDED",
                                        "numTasks": 2,
                                        "numActiveTasks": 0,
                                        "numCompletedTasks": 2,
                                        "numSkippedTasks": 0,
                                        "numFailedTasks": 0,
                                        "numKilledTasks": 0,
                                        "numCompletedIndices": 2,
                                        "numActiveStages": 0,
                                        "numCompletedStages": 1,
                                        "numSkippedStages": 0,
                                        "numFailedStages": 0,
                                        "killedTasksSummary": {}
                                    },
                                    {
                                        "displayName": "toString at String.java:2951",
                                        "dataWritten": 0,
                                        "dataRead": 774,
                                        "rowCount": 5,
                                        "usageDescription": "",
                                        "jobId": 30,
                                        "name": "toString at String.java:2951",
                                        "description": "Job group for statement 11:\nINSERT INTO delta101 VALUES (1L, 'one', 1)",
                                        "submissionTime": "2023-11-23T14:53:12.649GMT",
                                        "completionTime": "2023-11-23T14:53:12.811GMT",
                                        "stageIds": [
                                            48
                                        ],
                                        "jobGroup": "11",
                                        "status": "SUCCEEDED",
                                        "numTasks": 2,
                                        "numActiveTasks": 0,
                                        "numCompletedTasks": 2,
                                        "numSkippedTasks": 0,
                                        "numFailedTasks": 0,
                                        "numKilledTasks": 0,
                                        "numCompletedIndices": 2,
                                        "numActiveStages": 0,
                                        "numCompletedStages": 1,
                                        "numSkippedStages": 0,
                                        "numFailedStages": 0,
                                        "killedTasksSummary": {}
                                    },
                                    {
                                        "displayName": "sql at SQLInterpreter.scala:150",
                                        "dataWritten": 1189,
                                        "dataRead": 71,
                                        "rowCount": 2,
                                        "usageDescription": "",
                                        "jobId": 29,
                                        "name": "sql at SQLInterpreter.scala:150",
                                        "description": "Job group for statement 11:\nINSERT INTO delta101 VALUES (1L, 'one', 1)",
                                        "submissionTime": "2023-11-23T14:53:11.194GMT",
                                        "completionTime": "2023-11-23T14:53:11.652GMT",
                                        "stageIds": [
                                            46,
                                            47
                                        ],
                                        "jobGroup": "11",
                                        "status": "SUCCEEDED",
                                        "numTasks": 2,
                                        "numActiveTasks": 0,
                                        "numCompletedTasks": 1,
                                        "numSkippedTasks": 1,
                                        "numFailedTasks": 0,
                                        "numKilledTasks": 0,
                                        "numCompletedIndices": 1,
                                        "numActiveStages": 0,
                                        "numCompletedStages": 1,
                                        "numSkippedStages": 1,
                                        "numFailedStages": 0,
                                        "killedTasksSummary": {}
                                    },
                                    {
                                        "displayName": "sql at SQLInterpreter.scala:150",
                                        "dataWritten": 71,
                                        "dataRead": 0,
                                        "rowCount": 1,
                                        "usageDescription": "",
                                        "jobId": 28,
                                        "name": "sql at SQLInterpreter.scala:150",
                                        "description": "Job group for statement 11:\nINSERT INTO delta101 VALUES (1L, 'one', 1)",
                                        "submissionTime": "2023-11-23T14:53:11.121GMT",
                                        "completionTime": "2023-11-23T14:53:11.153GMT",
                                        "stageIds": [
                                            45
                                        ],
                                        "jobGroup": "11",
                                        "status": "SUCCEEDED",
                                        "numTasks": 1,
                                        "numActiveTasks": 0,
                                        "numCompletedTasks": 1,
                                        "numSkippedTasks": 0,
                                        "numFailedTasks": 0,
                                        "numKilledTasks": 0,
                                        "numCompletedIndices": 1,
                                        "numActiveStages": 0,
                                        "numCompletedStages": 1,
                                        "numSkippedStages": 0,
                                        "numFailedStages": 0,
                                        "killedTasksSummary": {}
                                    }
                                ],
                                "limit": 20,
                                "rule": "ALL_DESC"
                            },
                            "parent_msg_id": "82114ae4-851b-4666-b984-d237971dabaa"
                        },
                        "text/plain": "StatementMeta(, 0b46a2ad-b0ca-42b8-b7f6-9ab4cc7db587, 11, Finished, Available)"
                    },
                    "metadata": {}
                },
                {
                    "output_type": "execute_result",
                    "execution_count": 9,
                    "data": {
                        "application/vnd.synapse.sparksql-result+json": {
                            "schema": {
                                "type": "struct",
                                "fields": []
                            },
                            "data": []
                        },
                        "text/plain": "<Spark SQL result set with 0 rows and 0 fields>"
                    },
                    "metadata": {}
                }
            ],
            "execution_count": 9,
            "metadata": {
                "jupyter": {
                    "source_hidden": false,
                    "outputs_hidden": false
                },
                "nteract": {
                    "transient": {
                        "deleting": false
                    }
                },
                "microsoft": {
                    "language": "sparksql"
                },
                "collapsed": false
            },
            "id": "f91e9ac4-1687-4fe4-88e7-1ffb12b8d8d4"
        },
        {
            "cell_type": "code",
            "source": [
                "%%sql\n",
                "SELECT * FROM delta101"
            ],
            "outputs": [
                {
                    "output_type": "display_data",
                    "data": {
                        "application/vnd.livy.statement-meta+json": {
                            "spark_pool": null,
                            "session_id": "0b46a2ad-b0ca-42b8-b7f6-9ab4cc7db587",
                            "statement_id": 12,
                            "state": "finished",
                            "livy_statement_state": "available",
                            "queued_time": "2023-11-23T14:52:11.2295209Z",
                            "session_start_time": null,
                            "execution_start_time": "2023-11-23T14:53:16.4867261Z",
                            "execution_finish_time": "2023-11-23T14:53:18.0516836Z",
                            "spark_jobs": {
                                "numbers": {
                                    "FAILED": 0,
                                    "SUCCEEDED": 3,
                                    "UNKNOWN": 0,
                                    "RUNNING": 0
                                },
                                "jobs": [
                                    {
                                        "displayName": "take at SQLInterpreter.scala:155",
                                        "dataWritten": 0,
                                        "dataRead": 0,
                                        "rowCount": 1,
                                        "usageDescription": "",
                                        "jobId": 36,
                                        "name": "take at SQLInterpreter.scala:155",
                                        "description": "Job group for statement 12:\nSELECT * FROM delta101",
                                        "submissionTime": "2023-11-23T14:53:17.749GMT",
                                        "completionTime": "2023-11-23T14:53:17.807GMT",
                                        "stageIds": [
                                            58
                                        ],
                                        "jobGroup": "12",
                                        "status": "SUCCEEDED",
                                        "numTasks": 1,
                                        "numActiveTasks": 0,
                                        "numCompletedTasks": 1,
                                        "numSkippedTasks": 0,
                                        "numFailedTasks": 0,
                                        "numKilledTasks": 0,
                                        "numCompletedIndices": 1,
                                        "numActiveStages": 0,
                                        "numCompletedStages": 1,
                                        "numSkippedStages": 0,
                                        "numFailedStages": 0,
                                        "killedTasksSummary": {}
                                    },
                                    {
                                        "displayName": "take at SQLInterpreter.scala:155",
                                        "dataWritten": 0,
                                        "dataRead": 145,
                                        "rowCount": 1,
                                        "usageDescription": "",
                                        "jobId": 35,
                                        "name": "take at SQLInterpreter.scala:155",
                                        "description": "Job group for statement 12:\nSELECT * FROM delta101",
                                        "submissionTime": "2023-11-23T14:53:17.639GMT",
                                        "completionTime": "2023-11-23T14:53:17.745GMT",
                                        "stageIds": [
                                            57
                                        ],
                                        "jobGroup": "12",
                                        "status": "SUCCEEDED",
                                        "numTasks": 1,
                                        "numActiveTasks": 0,
                                        "numCompletedTasks": 1,
                                        "numSkippedTasks": 0,
                                        "numFailedTasks": 0,
                                        "numKilledTasks": 0,
                                        "numCompletedIndices": 1,
                                        "numActiveStages": 0,
                                        "numCompletedStages": 1,
                                        "numSkippedStages": 0,
                                        "numFailedStages": 0,
                                        "killedTasksSummary": {}
                                    },
                                    {
                                        "displayName": "$anonfun$recordDeltaOperationInternal$1 at SynapseLoggingShim.scala:107",
                                        "dataWritten": 0,
                                        "dataRead": 2009,
                                        "rowCount": 4,
                                        "usageDescription": "",
                                        "jobId": 34,
                                        "name": "$anonfun$recordDeltaOperationInternal$1 at SynapseLoggingShim.scala:107",
                                        "description": "Delta: Job group for statement 12:\nSELECT * FROM delta101: Filtering files for query",
                                        "submissionTime": "2023-11-23T14:53:17.145GMT",
                                        "completionTime": "2023-11-23T14:53:17.536GMT",
                                        "stageIds": [
                                            56,
                                            55
                                        ],
                                        "jobGroup": "12",
                                        "status": "SUCCEEDED",
                                        "numTasks": 52,
                                        "numActiveTasks": 0,
                                        "numCompletedTasks": 50,
                                        "numSkippedTasks": 2,
                                        "numFailedTasks": 0,
                                        "numKilledTasks": 0,
                                        "numCompletedIndices": 50,
                                        "numActiveStages": 0,
                                        "numCompletedStages": 1,
                                        "numSkippedStages": 1,
                                        "numFailedStages": 0,
                                        "killedTasksSummary": {}
                                    }
                                ],
                                "limit": 20,
                                "rule": "ALL_DESC"
                            },
                            "parent_msg_id": "0610a80c-25dd-434b-9a2d-a97c238eaa33"
                        },
                        "text/plain": "StatementMeta(, 0b46a2ad-b0ca-42b8-b7f6-9ab4cc7db587, 12, Finished, Available)"
                    },
                    "metadata": {}
                },
                {
                    "output_type": "execute_result",
                    "execution_count": 10,
                    "data": {
                        "application/vnd.synapse.sparksql-result+json": {
                            "schema": {
                                "type": "struct",
                                "fields": [
                                    {
                                        "name": "id",
                                        "type": "integer",
                                        "nullable": true,
                                        "metadata": {}
                                    },
                                    {
                                        "name": "name",
                                        "type": "string",
                                        "nullable": true,
                                        "metadata": {}
                                    },
                                    {
                                        "name": "month",
                                        "type": "integer",
                                        "nullable": true,
                                        "metadata": {}
                                    }
                                ]
                            },
                            "data": [
                                [
                                    1,
                                    "one",
                                    1
                                ],
                                [
                                    0,
                                    "zero",
                                    1
                                ]
                            ]
                        },
                        "text/plain": "<Spark SQL result set with 2 rows and 3 fields>"
                    },
                    "metadata": {}
                }
            ],
            "execution_count": 10,
            "metadata": {
                "jupyter": {
                    "source_hidden": false,
                    "outputs_hidden": false
                },
                "nteract": {
                    "transient": {
                        "deleting": false
                    }
                },
                "microsoft": {
                    "language": "sparksql"
                },
                "collapsed": false
            },
            "id": "4949b998-98b9-4b72-a29e-468f71e2d5e1"
        },
        {
            "cell_type": "code",
            "source": [
                "%%sql\n",
                "DESCRIBE HISTORY delta101"
            ],
            "outputs": [
                {
                    "output_type": "display_data",
                    "data": {
                        "application/vnd.livy.statement-meta+json": {
                            "spark_pool": null,
                            "session_id": "0b46a2ad-b0ca-42b8-b7f6-9ab4cc7db587",
                            "statement_id": 13,
                            "state": "finished",
                            "livy_statement_state": "available",
                            "queued_time": "2023-11-23T14:52:11.2302133Z",
                            "session_start_time": null,
                            "execution_start_time": "2023-11-23T14:53:18.758527Z",
                            "execution_finish_time": "2023-11-23T14:53:20.3208148Z",
                            "spark_jobs": {
                                "numbers": {
                                    "FAILED": 0,
                                    "SUCCEEDED": 1,
                                    "UNKNOWN": 0,
                                    "RUNNING": 0
                                },
                                "jobs": [
                                    {
                                        "displayName": "$anonfun$recordDeltaOperationInternal$1 at SynapseLoggingShim.scala:107",
                                        "dataWritten": 0,
                                        "dataRead": 0,
                                        "rowCount": 2,
                                        "usageDescription": "",
                                        "jobId": 37,
                                        "name": "$anonfun$recordDeltaOperationInternal$1 at SynapseLoggingShim.scala:107",
                                        "description": "Job group for statement 13:\nDESCRIBE HISTORY delta101",
                                        "submissionTime": "2023-11-23T14:53:19.262GMT",
                                        "completionTime": "2023-11-23T14:53:19.364GMT",
                                        "stageIds": [
                                            59
                                        ],
                                        "jobGroup": "13",
                                        "status": "SUCCEEDED",
                                        "numTasks": 8,
                                        "numActiveTasks": 0,
                                        "numCompletedTasks": 8,
                                        "numSkippedTasks": 0,
                                        "numFailedTasks": 0,
                                        "numKilledTasks": 0,
                                        "numCompletedIndices": 8,
                                        "numActiveStages": 0,
                                        "numCompletedStages": 1,
                                        "numSkippedStages": 0,
                                        "numFailedStages": 0,
                                        "killedTasksSummary": {}
                                    }
                                ],
                                "limit": 20,
                                "rule": "ALL_DESC"
                            },
                            "parent_msg_id": "087190d4-8802-4fe4-83b1-ea58f4cbb3ae"
                        },
                        "text/plain": "StatementMeta(, 0b46a2ad-b0ca-42b8-b7f6-9ab4cc7db587, 13, Finished, Available)"
                    },
                    "metadata": {}
                },
                {
                    "output_type": "execute_result",
                    "execution_count": 11,
                    "data": {
                        "application/vnd.synapse.sparksql-result+json": {
                            "schema": {
                                "type": "struct",
                                "fields": [
                                    {
                                        "name": "version",
                                        "type": "long",
                                        "nullable": true,
                                        "metadata": {}
                                    },
                                    {
                                        "name": "timestamp",
                                        "type": "timestamp",
                                        "nullable": true,
                                        "metadata": {}
                                    },
                                    {
                                        "name": "userId",
                                        "type": "string",
                                        "nullable": true,
                                        "metadata": {}
                                    },
                                    {
                                        "name": "userName",
                                        "type": "string",
                                        "nullable": true,
                                        "metadata": {}
                                    },
                                    {
                                        "name": "operation",
                                        "type": "string",
                                        "nullable": true,
                                        "metadata": {}
                                    },
                                    {
                                        "name": "operationParameters",
                                        "type": {
                                            "type": "map",
                                            "keyType": "string",
                                            "valueType": "string",
                                            "valueContainsNull": true
                                        },
                                        "nullable": true,
                                        "metadata": {}
                                    },
                                    {
                                        "name": "job",
                                        "type": {
                                            "type": "struct",
                                            "fields": [
                                                {
                                                    "name": "jobId",
                                                    "type": "string",
                                                    "nullable": true,
                                                    "metadata": {}
                                                },
                                                {
                                                    "name": "jobName",
                                                    "type": "string",
                                                    "nullable": true,
                                                    "metadata": {}
                                                },
                                                {
                                                    "name": "runId",
                                                    "type": "string",
                                                    "nullable": true,
                                                    "metadata": {}
                                                },
                                                {
                                                    "name": "jobOwnerId",
                                                    "type": "string",
                                                    "nullable": true,
                                                    "metadata": {}
                                                },
                                                {
                                                    "name": "triggerType",
                                                    "type": "string",
                                                    "nullable": true,
                                                    "metadata": {}
                                                }
                                            ]
                                        },
                                        "nullable": true,
                                        "metadata": {}
                                    },
                                    {
                                        "name": "notebook",
                                        "type": {
                                            "type": "struct",
                                            "fields": [
                                                {
                                                    "name": "notebookId",
                                                    "type": "string",
                                                    "nullable": true,
                                                    "metadata": {}
                                                }
                                            ]
                                        },
                                        "nullable": true,
                                        "metadata": {}
                                    },
                                    {
                                        "name": "clusterId",
                                        "type": "string",
                                        "nullable": true,
                                        "metadata": {}
                                    },
                                    {
                                        "name": "readVersion",
                                        "type": "long",
                                        "nullable": true,
                                        "metadata": {}
                                    },
                                    {
                                        "name": "isolationLevel",
                                        "type": "string",
                                        "nullable": true,
                                        "metadata": {}
                                    },
                                    {
                                        "name": "isBlindAppend",
                                        "type": "boolean",
                                        "nullable": true,
                                        "metadata": {}
                                    },
                                    {
                                        "name": "operationMetrics",
                                        "type": {
                                            "type": "map",
                                            "keyType": "string",
                                            "valueType": "string",
                                            "valueContainsNull": true
                                        },
                                        "nullable": true,
                                        "metadata": {}
                                    },
                                    {
                                        "name": "userMetadata",
                                        "type": "string",
                                        "nullable": true,
                                        "metadata": {}
                                    },
                                    {
                                        "name": "engineInfo",
                                        "type": "string",
                                        "nullable": true,
                                        "metadata": {}
                                    }
                                ]
                            },
                            "data": [
                                [
                                    "1",
                                    "2023-11-23T14:53:11Z",
                                    null,
                                    null,
                                    "WRITE",
                                    {
                                        "mode": "Append",
                                        "partitionBy": "[]"
                                    },
                                    null,
                                    null,
                                    null,
                                    "0",
                                    "Serializable",
                                    true,
                                    {
                                        "numFiles": "1",
                                        "numOutputRows": "1",
                                        "numOutputBytes": "1189"
                                    },
                                    null,
                                    "Apache-Spark/3.4.1.5.3-108466340 Delta-Lake/2.4.0.8"
                                ],
                                [
                                    "0",
                                    "2023-11-23T14:52:50Z",
                                    null,
                                    null,
                                    "CONVERT",
                                    {
                                        "catalogTable": "`spark_catalog`.`hr`.`delta101`",
                                        "numFiles": "1",
                                        "partitionedBy": "[\"month\"]",
                                        "sourceFormat": "parquet",
                                        "collectStats": "true"
                                    },
                                    null,
                                    null,
                                    null,
                                    "-1",
                                    "Serializable",
                                    false,
                                    {
                                        "numConvertedFiles": "1"
                                    },
                                    null,
                                    "Apache-Spark/3.4.1.5.3-108466340 Delta-Lake/2.4.0.8"
                                ]
                            ]
                        },
                        "text/plain": "<Spark SQL result set with 2 rows and 15 fields>"
                    },
                    "metadata": {}
                }
            ],
            "execution_count": 11,
            "metadata": {
                "jupyter": {
                    "source_hidden": false,
                    "outputs_hidden": false
                },
                "nteract": {
                    "transient": {
                        "deleting": false
                    }
                },
                "microsoft": {
                    "language": "sparksql"
                },
                "collapsed": false
            },
            "id": "2085f19a-c7d5-47e5-8f4d-827c83cee906"
        },
        {
            "cell_type": "markdown",
            "source": [
                "## ➡️ UPDATE"
            ],
            "metadata": {
                "nteract": {
                    "transient": {
                        "deleting": false
                    }
                }
            },
            "id": "914856fb-d4bf-438e-80c3-b5457e8f684c"
        },
        {
            "cell_type": "code",
            "source": [
                "%%sql\n",
                "\n",
                "UPDATE delta101\n",
                "SET name = 'one_UPDATE' WHERE id = 1"
            ],
            "outputs": [
                {
                    "output_type": "display_data",
                    "data": {
                        "application/vnd.livy.statement-meta+json": {
                            "spark_pool": null,
                            "session_id": "0b46a2ad-b0ca-42b8-b7f6-9ab4cc7db587",
                            "statement_id": 14,
                            "state": "finished",
                            "livy_statement_state": "available",
                            "queued_time": "2023-11-23T14:52:11.2309155Z",
                            "session_start_time": null,
                            "execution_start_time": "2023-11-23T14:53:20.9489051Z",
                            "execution_finish_time": "2023-11-23T14:53:25.8656395Z",
                            "spark_jobs": {
                                "numbers": {
                                    "FAILED": 0,
                                    "SUCCEEDED": 9,
                                    "UNKNOWN": 0,
                                    "RUNNING": 0
                                },
                                "jobs": [
                                    {
                                        "displayName": "$anonfun$recordDeltaOperationInternal$1 at SynapseLoggingShim.scala:107",
                                        "dataWritten": 0,
                                        "dataRead": 4367,
                                        "rowCount": 50,
                                        "usageDescription": "",
                                        "jobId": 46,
                                        "name": "$anonfun$recordDeltaOperationInternal$1 at SynapseLoggingShim.scala:107",
                                        "description": "Delta: Job group for statement 14:\n\nUPDATE delta101\nSET name = 'one_UPDATE' WHERE id = 1: Compute snapshot for version: 2",
                                        "submissionTime": "2023-11-23T14:53:24.850GMT",
                                        "completionTime": "2023-11-23T14:53:24.888GMT",
                                        "stageIds": [
                                            74,
                                            72,
                                            73
                                        ],
                                        "jobGroup": "14",
                                        "status": "SUCCEEDED",
                                        "numTasks": 54,
                                        "numActiveTasks": 0,
                                        "numCompletedTasks": 1,
                                        "numSkippedTasks": 53,
                                        "numFailedTasks": 0,
                                        "numKilledTasks": 0,
                                        "numCompletedIndices": 1,
                                        "numActiveStages": 0,
                                        "numCompletedStages": 1,
                                        "numSkippedStages": 2,
                                        "numFailedStages": 0,
                                        "killedTasksSummary": {}
                                    },
                                    {
                                        "displayName": "$anonfun$recordDeltaOperationInternal$1 at SynapseLoggingShim.scala:107",
                                        "dataWritten": 4367,
                                        "dataRead": 3911,
                                        "rowCount": 58,
                                        "usageDescription": "",
                                        "jobId": 45,
                                        "name": "$anonfun$recordDeltaOperationInternal$1 at SynapseLoggingShim.scala:107",
                                        "description": "Delta: Job group for statement 14:\n\nUPDATE delta101\nSET name = 'one_UPDATE' WHERE id = 1: Compute snapshot for version: 2",
                                        "submissionTime": "2023-11-23T14:53:24.150GMT",
                                        "completionTime": "2023-11-23T14:53:24.826GMT",
                                        "stageIds": [
                                            70,
                                            71
                                        ],
                                        "jobGroup": "14",
                                        "status": "SUCCEEDED",
                                        "numTasks": 53,
                                        "numActiveTasks": 0,
                                        "numCompletedTasks": 50,
                                        "numSkippedTasks": 3,
                                        "numFailedTasks": 0,
                                        "numKilledTasks": 0,
                                        "numCompletedIndices": 50,
                                        "numActiveStages": 0,
                                        "numCompletedStages": 1,
                                        "numSkippedStages": 1,
                                        "numFailedStages": 0,
                                        "killedTasksSummary": {}
                                    },
                                    {
                                        "displayName": "$anonfun$recordDeltaOperationInternal$1 at SynapseLoggingShim.scala:107",
                                        "dataWritten": 3911,
                                        "dataRead": 1974,
                                        "rowCount": 16,
                                        "usageDescription": "",
                                        "jobId": 44,
                                        "name": "$anonfun$recordDeltaOperationInternal$1 at SynapseLoggingShim.scala:107",
                                        "description": "Delta: Job group for statement 14:\n\nUPDATE delta101\nSET name = 'one_UPDATE' WHERE id = 1: Compute snapshot for version: 2",
                                        "submissionTime": "2023-11-23T14:53:23.490GMT",
                                        "completionTime": "2023-11-23T14:53:24.012GMT",
                                        "stageIds": [
                                            69
                                        ],
                                        "jobGroup": "14",
                                        "status": "SUCCEEDED",
                                        "numTasks": 3,
                                        "numActiveTasks": 0,
                                        "numCompletedTasks": 3,
                                        "numSkippedTasks": 0,
                                        "numFailedTasks": 0,
                                        "numKilledTasks": 0,
                                        "numCompletedIndices": 3,
                                        "numActiveStages": 0,
                                        "numCompletedStages": 1,
                                        "numSkippedStages": 0,
                                        "numFailedStages": 0,
                                        "killedTasksSummary": {}
                                    },
                                    {
                                        "displayName": "toString at String.java:2951",
                                        "dataWritten": 0,
                                        "dataRead": 1974,
                                        "rowCount": 8,
                                        "usageDescription": "",
                                        "jobId": 43,
                                        "name": "toString at String.java:2951",
                                        "description": "Job group for statement 14:\n\nUPDATE delta101\nSET name = 'one_UPDATE' WHERE id = 1",
                                        "submissionTime": "2023-11-23T14:53:23.134GMT",
                                        "completionTime": "2023-11-23T14:53:23.223GMT",
                                        "stageIds": [
                                            68
                                        ],
                                        "jobGroup": "14",
                                        "status": "SUCCEEDED",
                                        "numTasks": 3,
                                        "numActiveTasks": 0,
                                        "numCompletedTasks": 3,
                                        "numSkippedTasks": 0,
                                        "numFailedTasks": 0,
                                        "numKilledTasks": 0,
                                        "numCompletedIndices": 3,
                                        "numActiveStages": 0,
                                        "numCompletedStages": 1,
                                        "numSkippedStages": 0,
                                        "numFailedStages": 0,
                                        "killedTasksSummary": {}
                                    },
                                    {
                                        "displayName": "$anonfun$recordDeltaOperationInternal$1 at SynapseLoggingShim.scala:107",
                                        "dataWritten": 1240,
                                        "dataRead": 80,
                                        "rowCount": 2,
                                        "usageDescription": "",
                                        "jobId": 42,
                                        "name": "$anonfun$recordDeltaOperationInternal$1 at SynapseLoggingShim.scala:107",
                                        "description": "Delta: Job group for statement 14:\n\nUPDATE delta101\nSET name = 'one_UPDATE' WHERE id = 1: Rewriting 1 files for UPDATE operation",
                                        "submissionTime": "2023-11-23T14:53:22.318GMT",
                                        "completionTime": "2023-11-23T14:53:22.676GMT",
                                        "stageIds": [
                                            66,
                                            67
                                        ],
                                        "jobGroup": "14",
                                        "status": "SUCCEEDED",
                                        "numTasks": 2,
                                        "numActiveTasks": 0,
                                        "numCompletedTasks": 1,
                                        "numSkippedTasks": 1,
                                        "numFailedTasks": 0,
                                        "numKilledTasks": 0,
                                        "numCompletedIndices": 1,
                                        "numActiveStages": 0,
                                        "numCompletedStages": 1,
                                        "numSkippedStages": 1,
                                        "numFailedStages": 0,
                                        "killedTasksSummary": {}
                                    },
                                    {
                                        "displayName": "$anonfun$recordDeltaOperationInternal$1 at SynapseLoggingShim.scala:107",
                                        "dataWritten": 80,
                                        "dataRead": 0,
                                        "rowCount": 2,
                                        "usageDescription": "",
                                        "jobId": 41,
                                        "name": "$anonfun$recordDeltaOperationInternal$1 at SynapseLoggingShim.scala:107",
                                        "description": "Delta: Job group for statement 14:\n\nUPDATE delta101\nSET name = 'one_UPDATE' WHERE id = 1: Rewriting 1 files for UPDATE operation",
                                        "submissionTime": "2023-11-23T14:53:22.189GMT",
                                        "completionTime": "2023-11-23T14:53:22.275GMT",
                                        "stageIds": [
                                            65
                                        ],
                                        "jobGroup": "14",
                                        "status": "SUCCEEDED",
                                        "numTasks": 1,
                                        "numActiveTasks": 0,
                                        "numCompletedTasks": 1,
                                        "numSkippedTasks": 0,
                                        "numFailedTasks": 0,
                                        "numKilledTasks": 0,
                                        "numCompletedIndices": 1,
                                        "numActiveStages": 0,
                                        "numCompletedStages": 1,
                                        "numSkippedStages": 0,
                                        "numFailedStages": 0,
                                        "killedTasksSummary": {}
                                    },
                                    {
                                        "displayName": "$anonfun$recordDeltaOperationInternal$1 at SynapseLoggingShim.scala:107",
                                        "dataWritten": 0,
                                        "dataRead": 268,
                                        "rowCount": 1,
                                        "usageDescription": "",
                                        "jobId": 40,
                                        "name": "$anonfun$recordDeltaOperationInternal$1 at SynapseLoggingShim.scala:107",
                                        "description": "Delta: Job group for statement 14:\n\nUPDATE delta101\nSET name = 'one_UPDATE' WHERE id = 1: Finding files to rewrite for UPDATE operation",
                                        "submissionTime": "2023-11-23T14:53:22.013GMT",
                                        "completionTime": "2023-11-23T14:53:22.043GMT",
                                        "stageIds": [
                                            63,
                                            64
                                        ],
                                        "jobGroup": "14",
                                        "status": "SUCCEEDED",
                                        "numTasks": 2,
                                        "numActiveTasks": 0,
                                        "numCompletedTasks": 1,
                                        "numSkippedTasks": 1,
                                        "numFailedTasks": 0,
                                        "numKilledTasks": 0,
                                        "numCompletedIndices": 1,
                                        "numActiveStages": 0,
                                        "numCompletedStages": 1,
                                        "numSkippedStages": 1,
                                        "numFailedStages": 0,
                                        "killedTasksSummary": {}
                                    },
                                    {
                                        "displayName": "$anonfun$recordDeltaOperationInternal$1 at SynapseLoggingShim.scala:107",
                                        "dataWritten": 268,
                                        "dataRead": 0,
                                        "rowCount": 2,
                                        "usageDescription": "",
                                        "jobId": 39,
                                        "name": "$anonfun$recordDeltaOperationInternal$1 at SynapseLoggingShim.scala:107",
                                        "description": "Delta: Job group for statement 14:\n\nUPDATE delta101\nSET name = 'one_UPDATE' WHERE id = 1: Finding files to rewrite for UPDATE operation",
                                        "submissionTime": "2023-11-23T14:53:21.838GMT",
                                        "completionTime": "2023-11-23T14:53:21.980GMT",
                                        "stageIds": [
                                            62
                                        ],
                                        "jobGroup": "14",
                                        "status": "SUCCEEDED",
                                        "numTasks": 1,
                                        "numActiveTasks": 0,
                                        "numCompletedTasks": 1,
                                        "numSkippedTasks": 0,
                                        "numFailedTasks": 0,
                                        "numKilledTasks": 0,
                                        "numCompletedIndices": 1,
                                        "numActiveStages": 0,
                                        "numCompletedStages": 1,
                                        "numSkippedStages": 0,
                                        "numFailedStages": 0,
                                        "killedTasksSummary": {}
                                    },
                                    {
                                        "displayName": "$anonfun$recordDeltaOperationInternal$1 at SynapseLoggingShim.scala:107",
                                        "dataWritten": 0,
                                        "dataRead": 1579,
                                        "rowCount": 2,
                                        "usageDescription": "",
                                        "jobId": 38,
                                        "name": "$anonfun$recordDeltaOperationInternal$1 at SynapseLoggingShim.scala:107",
                                        "description": "Job group for statement 14:\n\nUPDATE delta101\nSET name = 'one_UPDATE' WHERE id = 1",
                                        "submissionTime": "2023-11-23T14:53:21.373GMT",
                                        "completionTime": "2023-11-23T14:53:21.644GMT",
                                        "stageIds": [
                                            60,
                                            61
                                        ],
                                        "jobGroup": "14",
                                        "status": "SUCCEEDED",
                                        "numTasks": 52,
                                        "numActiveTasks": 0,
                                        "numCompletedTasks": 50,
                                        "numSkippedTasks": 2,
                                        "numFailedTasks": 0,
                                        "numKilledTasks": 0,
                                        "numCompletedIndices": 50,
                                        "numActiveStages": 0,
                                        "numCompletedStages": 1,
                                        "numSkippedStages": 1,
                                        "numFailedStages": 0,
                                        "killedTasksSummary": {}
                                    }
                                ],
                                "limit": 20,
                                "rule": "ALL_DESC"
                            },
                            "parent_msg_id": "c9edee2f-57f5-47db-b1f3-f975f80cb3e6"
                        },
                        "text/plain": "StatementMeta(, 0b46a2ad-b0ca-42b8-b7f6-9ab4cc7db587, 14, Finished, Available)"
                    },
                    "metadata": {}
                },
                {
                    "output_type": "execute_result",
                    "execution_count": 12,
                    "data": {
                        "application/vnd.synapse.sparksql-result+json": {
                            "schema": {
                                "type": "struct",
                                "fields": [
                                    {
                                        "name": "num_affected_rows",
                                        "type": "long",
                                        "nullable": true,
                                        "metadata": {}
                                    }
                                ]
                            },
                            "data": [
                                [
                                    "1"
                                ]
                            ]
                        },
                        "text/plain": "<Spark SQL result set with 1 rows and 1 fields>"
                    },
                    "metadata": {}
                }
            ],
            "execution_count": 12,
            "metadata": {
                "jupyter": {
                    "source_hidden": false,
                    "outputs_hidden": false
                },
                "nteract": {
                    "transient": {
                        "deleting": false
                    }
                },
                "microsoft": {
                    "language": "sparksql"
                },
                "collapsed": false
            },
            "id": "738487bf-a88e-4088-8d0c-fc271fd4502a"
        },
        {
            "cell_type": "code",
            "source": [
                "%%sql\n",
                "DESCRIBE HISTORY delta101"
            ],
            "outputs": [
                {
                    "output_type": "display_data",
                    "data": {
                        "application/vnd.livy.statement-meta+json": {
                            "spark_pool": null,
                            "session_id": "0b46a2ad-b0ca-42b8-b7f6-9ab4cc7db587",
                            "statement_id": 15,
                            "state": "finished",
                            "livy_statement_state": "available",
                            "queued_time": "2023-11-23T14:52:11.2316776Z",
                            "session_start_time": null,
                            "execution_start_time": "2023-11-23T14:53:26.5400181Z",
                            "execution_finish_time": "2023-11-23T14:53:28.0725119Z",
                            "spark_jobs": {
                                "numbers": {
                                    "FAILED": 0,
                                    "SUCCEEDED": 1,
                                    "UNKNOWN": 0,
                                    "RUNNING": 0
                                },
                                "jobs": [
                                    {
                                        "displayName": "$anonfun$recordDeltaOperationInternal$1 at SynapseLoggingShim.scala:107",
                                        "dataWritten": 0,
                                        "dataRead": 0,
                                        "rowCount": 3,
                                        "usageDescription": "",
                                        "jobId": 47,
                                        "name": "$anonfun$recordDeltaOperationInternal$1 at SynapseLoggingShim.scala:107",
                                        "description": "Job group for statement 15:\nDESCRIBE HISTORY delta101",
                                        "submissionTime": "2023-11-23T14:53:27.149GMT",
                                        "completionTime": "2023-11-23T14:53:27.261GMT",
                                        "stageIds": [
                                            75
                                        ],
                                        "jobGroup": "15",
                                        "status": "SUCCEEDED",
                                        "numTasks": 8,
                                        "numActiveTasks": 0,
                                        "numCompletedTasks": 8,
                                        "numSkippedTasks": 0,
                                        "numFailedTasks": 0,
                                        "numKilledTasks": 0,
                                        "numCompletedIndices": 8,
                                        "numActiveStages": 0,
                                        "numCompletedStages": 1,
                                        "numSkippedStages": 0,
                                        "numFailedStages": 0,
                                        "killedTasksSummary": {}
                                    }
                                ],
                                "limit": 20,
                                "rule": "ALL_DESC"
                            },
                            "parent_msg_id": "2ef1a955-26d5-47fd-b5fd-c117f44a3fa5"
                        },
                        "text/plain": "StatementMeta(, 0b46a2ad-b0ca-42b8-b7f6-9ab4cc7db587, 15, Finished, Available)"
                    },
                    "metadata": {}
                },
                {
                    "output_type": "execute_result",
                    "execution_count": 13,
                    "data": {
                        "application/vnd.synapse.sparksql-result+json": {
                            "schema": {
                                "type": "struct",
                                "fields": [
                                    {
                                        "name": "version",
                                        "type": "long",
                                        "nullable": true,
                                        "metadata": {}
                                    },
                                    {
                                        "name": "timestamp",
                                        "type": "timestamp",
                                        "nullable": true,
                                        "metadata": {}
                                    },
                                    {
                                        "name": "userId",
                                        "type": "string",
                                        "nullable": true,
                                        "metadata": {}
                                    },
                                    {
                                        "name": "userName",
                                        "type": "string",
                                        "nullable": true,
                                        "metadata": {}
                                    },
                                    {
                                        "name": "operation",
                                        "type": "string",
                                        "nullable": true,
                                        "metadata": {}
                                    },
                                    {
                                        "name": "operationParameters",
                                        "type": {
                                            "type": "map",
                                            "keyType": "string",
                                            "valueType": "string",
                                            "valueContainsNull": true
                                        },
                                        "nullable": true,
                                        "metadata": {}
                                    },
                                    {
                                        "name": "job",
                                        "type": {
                                            "type": "struct",
                                            "fields": [
                                                {
                                                    "name": "jobId",
                                                    "type": "string",
                                                    "nullable": true,
                                                    "metadata": {}
                                                },
                                                {
                                                    "name": "jobName",
                                                    "type": "string",
                                                    "nullable": true,
                                                    "metadata": {}
                                                },
                                                {
                                                    "name": "runId",
                                                    "type": "string",
                                                    "nullable": true,
                                                    "metadata": {}
                                                },
                                                {
                                                    "name": "jobOwnerId",
                                                    "type": "string",
                                                    "nullable": true,
                                                    "metadata": {}
                                                },
                                                {
                                                    "name": "triggerType",
                                                    "type": "string",
                                                    "nullable": true,
                                                    "metadata": {}
                                                }
                                            ]
                                        },
                                        "nullable": true,
                                        "metadata": {}
                                    },
                                    {
                                        "name": "notebook",
                                        "type": {
                                            "type": "struct",
                                            "fields": [
                                                {
                                                    "name": "notebookId",
                                                    "type": "string",
                                                    "nullable": true,
                                                    "metadata": {}
                                                }
                                            ]
                                        },
                                        "nullable": true,
                                        "metadata": {}
                                    },
                                    {
                                        "name": "clusterId",
                                        "type": "string",
                                        "nullable": true,
                                        "metadata": {}
                                    },
                                    {
                                        "name": "readVersion",
                                        "type": "long",
                                        "nullable": true,
                                        "metadata": {}
                                    },
                                    {
                                        "name": "isolationLevel",
                                        "type": "string",
                                        "nullable": true,
                                        "metadata": {}
                                    },
                                    {
                                        "name": "isBlindAppend",
                                        "type": "boolean",
                                        "nullable": true,
                                        "metadata": {}
                                    },
                                    {
                                        "name": "operationMetrics",
                                        "type": {
                                            "type": "map",
                                            "keyType": "string",
                                            "valueType": "string",
                                            "valueContainsNull": true
                                        },
                                        "nullable": true,
                                        "metadata": {}
                                    },
                                    {
                                        "name": "userMetadata",
                                        "type": "string",
                                        "nullable": true,
                                        "metadata": {}
                                    },
                                    {
                                        "name": "engineInfo",
                                        "type": "string",
                                        "nullable": true,
                                        "metadata": {}
                                    }
                                ]
                            },
                            "data": [
                                [
                                    "2",
                                    "2023-11-23T14:53:22Z",
                                    null,
                                    null,
                                    "UPDATE",
                                    {
                                        "predicate": "[\"(id#2472 = 1)\"]"
                                    },
                                    null,
                                    null,
                                    null,
                                    "1",
                                    "Serializable",
                                    false,
                                    {
                                        "numRemovedFiles": "1",
                                        "numRemovedBytes": "1189",
                                        "numCopiedRows": "0",
                                        "numAddedChangeFiles": "0",
                                        "executionTimeMs": "1435",
                                        "scanTimeMs": "810",
                                        "numAddedFiles": "1",
                                        "numUpdatedRows": "1",
                                        "numAddedBytes": "1240",
                                        "rewriteTimeMs": "622"
                                    },
                                    null,
                                    "Apache-Spark/3.4.1.5.3-108466340 Delta-Lake/2.4.0.8"
                                ],
                                [
                                    "1",
                                    "2023-11-23T14:53:11Z",
                                    null,
                                    null,
                                    "WRITE",
                                    {
                                        "mode": "Append",
                                        "partitionBy": "[]"
                                    },
                                    null,
                                    null,
                                    null,
                                    "0",
                                    "Serializable",
                                    true,
                                    {
                                        "numFiles": "1",
                                        "numOutputRows": "1",
                                        "numOutputBytes": "1189"
                                    },
                                    null,
                                    "Apache-Spark/3.4.1.5.3-108466340 Delta-Lake/2.4.0.8"
                                ],
                                [
                                    "0",
                                    "2023-11-23T14:52:50Z",
                                    null,
                                    null,
                                    "CONVERT",
                                    {
                                        "catalogTable": "`spark_catalog`.`hr`.`delta101`",
                                        "numFiles": "1",
                                        "partitionedBy": "[\"month\"]",
                                        "sourceFormat": "parquet",
                                        "collectStats": "true"
                                    },
                                    null,
                                    null,
                                    null,
                                    "-1",
                                    "Serializable",
                                    false,
                                    {
                                        "numConvertedFiles": "1"
                                    },
                                    null,
                                    "Apache-Spark/3.4.1.5.3-108466340 Delta-Lake/2.4.0.8"
                                ]
                            ]
                        },
                        "text/plain": "<Spark SQL result set with 3 rows and 15 fields>"
                    },
                    "metadata": {}
                }
            ],
            "execution_count": 13,
            "metadata": {
                "jupyter": {
                    "source_hidden": false,
                    "outputs_hidden": false
                },
                "nteract": {
                    "transient": {
                        "deleting": false
                    }
                },
                "microsoft": {
                    "language": "sparksql"
                },
                "collapsed": false
            },
            "id": "4f4b72e8-2689-4e32-8dd1-32e7ab3174f6"
        },
        {
            "cell_type": "markdown",
            "source": [
                "## ➡️ DELETE"
            ],
            "metadata": {
                "nteract": {
                    "transient": {
                        "deleting": false
                    }
                }
            },
            "id": "be1b4b07-581c-4837-a3da-03eaceef8a08"
        },
        {
            "cell_type": "code",
            "source": [
                "%%sql\n",
                "DELETE FROM delta101 WHERE id > 0"
            ],
            "outputs": [
                {
                    "output_type": "display_data",
                    "data": {
                        "application/vnd.livy.statement-meta+json": {
                            "spark_pool": null,
                            "session_id": "0b46a2ad-b0ca-42b8-b7f6-9ab4cc7db587",
                            "statement_id": 16,
                            "state": "finished",
                            "livy_statement_state": "available",
                            "queued_time": "2023-11-23T14:52:11.2323909Z",
                            "session_start_time": null,
                            "execution_start_time": "2023-11-23T14:53:28.7864838Z",
                            "execution_finish_time": "2023-11-23T14:53:32.3881405Z",
                            "spark_jobs": {
                                "numbers": {
                                    "FAILED": 0,
                                    "SUCCEEDED": 9,
                                    "UNKNOWN": 0,
                                    "RUNNING": 0
                                },
                                "jobs": [
                                    {
                                        "displayName": "$anonfun$recordDeltaOperationInternal$1 at SynapseLoggingShim.scala:107",
                                        "dataWritten": 0,
                                        "dataRead": 4359,
                                        "rowCount": 50,
                                        "usageDescription": "",
                                        "jobId": 56,
                                        "name": "$anonfun$recordDeltaOperationInternal$1 at SynapseLoggingShim.scala:107",
                                        "description": "Delta: Job group for statement 16:\nDELETE FROM delta101 WHERE id > 0: Compute snapshot for version: 3",
                                        "submissionTime": "2023-11-23T14:53:31.934GMT",
                                        "completionTime": "2023-11-23T14:53:31.971GMT",
                                        "stageIds": [
                                            88,
                                            89,
                                            87
                                        ],
                                        "jobGroup": "16",
                                        "status": "SUCCEEDED",
                                        "numTasks": 55,
                                        "numActiveTasks": 0,
                                        "numCompletedTasks": 1,
                                        "numSkippedTasks": 54,
                                        "numFailedTasks": 0,
                                        "numKilledTasks": 0,
                                        "numCompletedIndices": 1,
                                        "numActiveStages": 0,
                                        "numCompletedStages": 1,
                                        "numSkippedStages": 2,
                                        "numFailedStages": 0,
                                        "killedTasksSummary": {}
                                    },
                                    {
                                        "displayName": "$anonfun$recordDeltaOperationInternal$1 at SynapseLoggingShim.scala:107",
                                        "dataWritten": 4359,
                                        "dataRead": 5098,
                                        "rowCount": 60,
                                        "usageDescription": "",
                                        "jobId": 55,
                                        "name": "$anonfun$recordDeltaOperationInternal$1 at SynapseLoggingShim.scala:107",
                                        "description": "Delta: Job group for statement 16:\nDELETE FROM delta101 WHERE id > 0: Compute snapshot for version: 3",
                                        "submissionTime": "2023-11-23T14:53:31.155GMT",
                                        "completionTime": "2023-11-23T14:53:31.914GMT",
                                        "stageIds": [
                                            85,
                                            86
                                        ],
                                        "jobGroup": "16",
                                        "status": "SUCCEEDED",
                                        "numTasks": 54,
                                        "numActiveTasks": 0,
                                        "numCompletedTasks": 50,
                                        "numSkippedTasks": 4,
                                        "numFailedTasks": 0,
                                        "numKilledTasks": 0,
                                        "numCompletedIndices": 50,
                                        "numActiveStages": 0,
                                        "numCompletedStages": 1,
                                        "numSkippedStages": 1,
                                        "numFailedStages": 0,
                                        "killedTasksSummary": {}
                                    },
                                    {
                                        "displayName": "$anonfun$recordDeltaOperationInternal$1 at SynapseLoggingShim.scala:107",
                                        "dataWritten": 5098,
                                        "dataRead": 2768,
                                        "rowCount": 20,
                                        "usageDescription": "",
                                        "jobId": 54,
                                        "name": "$anonfun$recordDeltaOperationInternal$1 at SynapseLoggingShim.scala:107",
                                        "description": "Delta: Job group for statement 16:\nDELETE FROM delta101 WHERE id > 0: Compute snapshot for version: 3",
                                        "submissionTime": "2023-11-23T14:53:30.864GMT",
                                        "completionTime": "2023-11-23T14:53:30.997GMT",
                                        "stageIds": [
                                            84
                                        ],
                                        "jobGroup": "16",
                                        "status": "SUCCEEDED",
                                        "numTasks": 4,
                                        "numActiveTasks": 0,
                                        "numCompletedTasks": 4,
                                        "numSkippedTasks": 0,
                                        "numFailedTasks": 0,
                                        "numKilledTasks": 0,
                                        "numCompletedIndices": 4,
                                        "numActiveStages": 0,
                                        "numCompletedStages": 1,
                                        "numSkippedStages": 0,
                                        "numFailedStages": 0,
                                        "killedTasksSummary": {}
                                    },
                                    {
                                        "displayName": "toString at String.java:2951",
                                        "dataWritten": 0,
                                        "dataRead": 2768,
                                        "rowCount": 10,
                                        "usageDescription": "",
                                        "jobId": 53,
                                        "name": "toString at String.java:2951",
                                        "description": "Job group for statement 16:\nDELETE FROM delta101 WHERE id > 0",
                                        "submissionTime": "2023-11-23T14:53:30.532GMT",
                                        "completionTime": "2023-11-23T14:53:30.603GMT",
                                        "stageIds": [
                                            83
                                        ],
                                        "jobGroup": "16",
                                        "status": "SUCCEEDED",
                                        "numTasks": 4,
                                        "numActiveTasks": 0,
                                        "numCompletedTasks": 4,
                                        "numSkippedTasks": 0,
                                        "numFailedTasks": 0,
                                        "numKilledTasks": 0,
                                        "numCompletedIndices": 4,
                                        "numActiveStages": 0,
                                        "numCompletedStages": 1,
                                        "numSkippedStages": 0,
                                        "numFailedStages": 0,
                                        "killedTasksSummary": {}
                                    },
                                    {
                                        "displayName": "$anonfun$recordDeltaOperationInternal$1 at SynapseLoggingShim.scala:107",
                                        "dataWritten": 0,
                                        "dataRead": 0,
                                        "rowCount": 0,
                                        "usageDescription": "",
                                        "jobId": 52,
                                        "name": "$anonfun$recordDeltaOperationInternal$1 at SynapseLoggingShim.scala:107",
                                        "description": "Delta: Job group for statement 16:\nDELETE FROM delta101 WHERE id > 0: Rewriting 1 files for DELETE operation",
                                        "submissionTime": "2023-11-23T14:53:29.963GMT",
                                        "completionTime": "2023-11-23T14:53:30.037GMT",
                                        "stageIds": [
                                            82
                                        ],
                                        "jobGroup": "16",
                                        "status": "SUCCEEDED",
                                        "numTasks": 1,
                                        "numActiveTasks": 0,
                                        "numCompletedTasks": 1,
                                        "numSkippedTasks": 0,
                                        "numFailedTasks": 0,
                                        "numKilledTasks": 0,
                                        "numCompletedIndices": 1,
                                        "numActiveStages": 0,
                                        "numCompletedStages": 1,
                                        "numSkippedStages": 0,
                                        "numFailedStages": 0,
                                        "killedTasksSummary": {}
                                    },
                                    {
                                        "displayName": "$anonfun$recordDeltaOperationInternal$1 at SynapseLoggingShim.scala:107",
                                        "dataWritten": 0,
                                        "dataRead": 88,
                                        "rowCount": 1,
                                        "usageDescription": "",
                                        "jobId": 51,
                                        "name": "$anonfun$recordDeltaOperationInternal$1 at SynapseLoggingShim.scala:107",
                                        "description": "Delta: Job group for statement 16:\nDELETE FROM delta101 WHERE id > 0: Rewriting 1 files for DELETE operation",
                                        "submissionTime": "2023-11-23T14:53:29.846GMT",
                                        "completionTime": "2023-11-23T14:53:29.921GMT",
                                        "stageIds": [
                                            81
                                        ],
                                        "jobGroup": "16",
                                        "status": "SUCCEEDED",
                                        "numTasks": 1,
                                        "numActiveTasks": 0,
                                        "numCompletedTasks": 1,
                                        "numSkippedTasks": 0,
                                        "numFailedTasks": 0,
                                        "numKilledTasks": 0,
                                        "numCompletedIndices": 1,
                                        "numActiveStages": 0,
                                        "numCompletedStages": 1,
                                        "numSkippedStages": 0,
                                        "numFailedStages": 0,
                                        "killedTasksSummary": {}
                                    },
                                    {
                                        "displayName": "$anonfun$recordDeltaOperationInternal$1 at SynapseLoggingShim.scala:107",
                                        "dataWritten": 0,
                                        "dataRead": 268,
                                        "rowCount": 1,
                                        "usageDescription": "",
                                        "jobId": 50,
                                        "name": "$anonfun$recordDeltaOperationInternal$1 at SynapseLoggingShim.scala:107",
                                        "description": "Delta: Job group for statement 16:\nDELETE FROM delta101 WHERE id > 0: Finding files to rewrite for DELETE operation",
                                        "submissionTime": "2023-11-23T14:53:29.728GMT",
                                        "completionTime": "2023-11-23T14:53:29.744GMT",
                                        "stageIds": [
                                            79,
                                            80
                                        ],
                                        "jobGroup": "16",
                                        "status": "SUCCEEDED",
                                        "numTasks": 2,
                                        "numActiveTasks": 0,
                                        "numCompletedTasks": 1,
                                        "numSkippedTasks": 1,
                                        "numFailedTasks": 0,
                                        "numKilledTasks": 0,
                                        "numCompletedIndices": 1,
                                        "numActiveStages": 0,
                                        "numCompletedStages": 1,
                                        "numSkippedStages": 1,
                                        "numFailedStages": 0,
                                        "killedTasksSummary": {}
                                    },
                                    {
                                        "displayName": "$anonfun$recordDeltaOperationInternal$1 at SynapseLoggingShim.scala:107",
                                        "dataWritten": 268,
                                        "dataRead": 98,
                                        "rowCount": 2,
                                        "usageDescription": "",
                                        "jobId": 49,
                                        "name": "$anonfun$recordDeltaOperationInternal$1 at SynapseLoggingShim.scala:107",
                                        "description": "Delta: Job group for statement 16:\nDELETE FROM delta101 WHERE id > 0: Finding files to rewrite for DELETE operation",
                                        "submissionTime": "2023-11-23T14:53:29.603GMT",
                                        "completionTime": "2023-11-23T14:53:29.710GMT",
                                        "stageIds": [
                                            78
                                        ],
                                        "jobGroup": "16",
                                        "status": "SUCCEEDED",
                                        "numTasks": 1,
                                        "numActiveTasks": 0,
                                        "numCompletedTasks": 1,
                                        "numSkippedTasks": 0,
                                        "numFailedTasks": 0,
                                        "numKilledTasks": 0,
                                        "numCompletedIndices": 1,
                                        "numActiveStages": 0,
                                        "numCompletedStages": 1,
                                        "numSkippedStages": 0,
                                        "numFailedStages": 0,
                                        "killedTasksSummary": {}
                                    },
                                    {
                                        "displayName": "$anonfun$recordDeltaOperationInternal$1 at SynapseLoggingShim.scala:107",
                                        "dataWritten": 0,
                                        "dataRead": 2259,
                                        "rowCount": 5,
                                        "usageDescription": "",
                                        "jobId": 48,
                                        "name": "$anonfun$recordDeltaOperationInternal$1 at SynapseLoggingShim.scala:107",
                                        "description": "Job group for statement 16:\nDELETE FROM delta101 WHERE id > 0",
                                        "submissionTime": "2023-11-23T14:53:29.168GMT",
                                        "completionTime": "2023-11-23T14:53:29.458GMT",
                                        "stageIds": [
                                            76,
                                            77
                                        ],
                                        "jobGroup": "16",
                                        "status": "SUCCEEDED",
                                        "numTasks": 53,
                                        "numActiveTasks": 0,
                                        "numCompletedTasks": 50,
                                        "numSkippedTasks": 3,
                                        "numFailedTasks": 0,
                                        "numKilledTasks": 0,
                                        "numCompletedIndices": 50,
                                        "numActiveStages": 0,
                                        "numCompletedStages": 1,
                                        "numSkippedStages": 1,
                                        "numFailedStages": 0,
                                        "killedTasksSummary": {}
                                    }
                                ],
                                "limit": 20,
                                "rule": "ALL_DESC"
                            },
                            "parent_msg_id": "9815a0c6-4345-4c64-add5-074c19a25cbb"
                        },
                        "text/plain": "StatementMeta(, 0b46a2ad-b0ca-42b8-b7f6-9ab4cc7db587, 16, Finished, Available)"
                    },
                    "metadata": {}
                },
                {
                    "output_type": "execute_result",
                    "execution_count": 14,
                    "data": {
                        "application/vnd.synapse.sparksql-result+json": {
                            "schema": {
                                "type": "struct",
                                "fields": [
                                    {
                                        "name": "num_affected_rows",
                                        "type": "long",
                                        "nullable": true,
                                        "metadata": {}
                                    }
                                ]
                            },
                            "data": [
                                [
                                    "1"
                                ]
                            ]
                        },
                        "text/plain": "<Spark SQL result set with 1 rows and 1 fields>"
                    },
                    "metadata": {}
                }
            ],
            "execution_count": 14,
            "metadata": {
                "jupyter": {
                    "source_hidden": false,
                    "outputs_hidden": false
                },
                "nteract": {
                    "transient": {
                        "deleting": false
                    }
                },
                "microsoft": {
                    "language": "sparksql"
                },
                "collapsed": false
            },
            "id": "00c83bd4-08ae-4e9a-aea6-77fbf790b327"
        },
        {
            "cell_type": "code",
            "source": [
                "%%sql\n",
                "DESCRIBE HISTORY delta101"
            ],
            "outputs": [
                {
                    "output_type": "display_data",
                    "data": {
                        "application/vnd.livy.statement-meta+json": {
                            "spark_pool": null,
                            "session_id": "0b46a2ad-b0ca-42b8-b7f6-9ab4cc7db587",
                            "statement_id": 17,
                            "state": "finished",
                            "livy_statement_state": "available",
                            "queued_time": "2023-11-23T14:52:11.2331097Z",
                            "session_start_time": null,
                            "execution_start_time": "2023-11-23T14:53:33.0978984Z",
                            "execution_finish_time": "2023-11-23T14:53:33.9464327Z",
                            "spark_jobs": {
                                "numbers": {
                                    "FAILED": 0,
                                    "SUCCEEDED": 1,
                                    "UNKNOWN": 0,
                                    "RUNNING": 0
                                },
                                "jobs": [
                                    {
                                        "displayName": "$anonfun$recordDeltaOperationInternal$1 at SynapseLoggingShim.scala:107",
                                        "dataWritten": 0,
                                        "dataRead": 0,
                                        "rowCount": 4,
                                        "usageDescription": "",
                                        "jobId": 57,
                                        "name": "$anonfun$recordDeltaOperationInternal$1 at SynapseLoggingShim.scala:107",
                                        "description": "Job group for statement 17:\nDESCRIBE HISTORY delta101",
                                        "submissionTime": "2023-11-23T14:53:33.574GMT",
                                        "completionTime": "2023-11-23T14:53:33.662GMT",
                                        "stageIds": [
                                            90
                                        ],
                                        "jobGroup": "17",
                                        "status": "SUCCEEDED",
                                        "numTasks": 8,
                                        "numActiveTasks": 0,
                                        "numCompletedTasks": 8,
                                        "numSkippedTasks": 0,
                                        "numFailedTasks": 0,
                                        "numKilledTasks": 0,
                                        "numCompletedIndices": 8,
                                        "numActiveStages": 0,
                                        "numCompletedStages": 1,
                                        "numSkippedStages": 0,
                                        "numFailedStages": 0,
                                        "killedTasksSummary": {}
                                    }
                                ],
                                "limit": 20,
                                "rule": "ALL_DESC"
                            },
                            "parent_msg_id": "5437bb73-ab37-4ec8-acf2-46b4630d0c3e"
                        },
                        "text/plain": "StatementMeta(, 0b46a2ad-b0ca-42b8-b7f6-9ab4cc7db587, 17, Finished, Available)"
                    },
                    "metadata": {}
                },
                {
                    "output_type": "execute_result",
                    "execution_count": 15,
                    "data": {
                        "application/vnd.synapse.sparksql-result+json": {
                            "schema": {
                                "type": "struct",
                                "fields": [
                                    {
                                        "name": "version",
                                        "type": "long",
                                        "nullable": true,
                                        "metadata": {}
                                    },
                                    {
                                        "name": "timestamp",
                                        "type": "timestamp",
                                        "nullable": true,
                                        "metadata": {}
                                    },
                                    {
                                        "name": "userId",
                                        "type": "string",
                                        "nullable": true,
                                        "metadata": {}
                                    },
                                    {
                                        "name": "userName",
                                        "type": "string",
                                        "nullable": true,
                                        "metadata": {}
                                    },
                                    {
                                        "name": "operation",
                                        "type": "string",
                                        "nullable": true,
                                        "metadata": {}
                                    },
                                    {
                                        "name": "operationParameters",
                                        "type": {
                                            "type": "map",
                                            "keyType": "string",
                                            "valueType": "string",
                                            "valueContainsNull": true
                                        },
                                        "nullable": true,
                                        "metadata": {}
                                    },
                                    {
                                        "name": "job",
                                        "type": {
                                            "type": "struct",
                                            "fields": [
                                                {
                                                    "name": "jobId",
                                                    "type": "string",
                                                    "nullable": true,
                                                    "metadata": {}
                                                },
                                                {
                                                    "name": "jobName",
                                                    "type": "string",
                                                    "nullable": true,
                                                    "metadata": {}
                                                },
                                                {
                                                    "name": "runId",
                                                    "type": "string",
                                                    "nullable": true,
                                                    "metadata": {}
                                                },
                                                {
                                                    "name": "jobOwnerId",
                                                    "type": "string",
                                                    "nullable": true,
                                                    "metadata": {}
                                                },
                                                {
                                                    "name": "triggerType",
                                                    "type": "string",
                                                    "nullable": true,
                                                    "metadata": {}
                                                }
                                            ]
                                        },
                                        "nullable": true,
                                        "metadata": {}
                                    },
                                    {
                                        "name": "notebook",
                                        "type": {
                                            "type": "struct",
                                            "fields": [
                                                {
                                                    "name": "notebookId",
                                                    "type": "string",
                                                    "nullable": true,
                                                    "metadata": {}
                                                }
                                            ]
                                        },
                                        "nullable": true,
                                        "metadata": {}
                                    },
                                    {
                                        "name": "clusterId",
                                        "type": "string",
                                        "nullable": true,
                                        "metadata": {}
                                    },
                                    {
                                        "name": "readVersion",
                                        "type": "long",
                                        "nullable": true,
                                        "metadata": {}
                                    },
                                    {
                                        "name": "isolationLevel",
                                        "type": "string",
                                        "nullable": true,
                                        "metadata": {}
                                    },
                                    {
                                        "name": "isBlindAppend",
                                        "type": "boolean",
                                        "nullable": true,
                                        "metadata": {}
                                    },
                                    {
                                        "name": "operationMetrics",
                                        "type": {
                                            "type": "map",
                                            "keyType": "string",
                                            "valueType": "string",
                                            "valueContainsNull": true
                                        },
                                        "nullable": true,
                                        "metadata": {}
                                    },
                                    {
                                        "name": "userMetadata",
                                        "type": "string",
                                        "nullable": true,
                                        "metadata": {}
                                    },
                                    {
                                        "name": "engineInfo",
                                        "type": "string",
                                        "nullable": true,
                                        "metadata": {}
                                    }
                                ]
                            },
                            "data": [
                                [
                                    "3",
                                    "2023-11-23T14:53:30Z",
                                    null,
                                    null,
                                    "DELETE",
                                    {
                                        "predicate": "[\"(id#3223 > 0)\"]"
                                    },
                                    null,
                                    null,
                                    null,
                                    "2",
                                    "Serializable",
                                    false,
                                    {
                                        "numRemovedFiles": "1",
                                        "numRemovedBytes": "1240",
                                        "numCopiedRows": "0",
                                        "numAddedChangeFiles": "0",
                                        "executionTimeMs": "1045",
                                        "numDeletedRows": "1",
                                        "scanTimeMs": "750",
                                        "numAddedFiles": "0",
                                        "numAddedBytes": "0",
                                        "rewriteTimeMs": "294"
                                    },
                                    null,
                                    "Apache-Spark/3.4.1.5.3-108466340 Delta-Lake/2.4.0.8"
                                ],
                                [
                                    "2",
                                    "2023-11-23T14:53:22Z",
                                    null,
                                    null,
                                    "UPDATE",
                                    {
                                        "predicate": "[\"(id#2472 = 1)\"]"
                                    },
                                    null,
                                    null,
                                    null,
                                    "1",
                                    "Serializable",
                                    false,
                                    {
                                        "numRemovedFiles": "1",
                                        "numRemovedBytes": "1189",
                                        "numCopiedRows": "0",
                                        "numAddedChangeFiles": "0",
                                        "executionTimeMs": "1435",
                                        "scanTimeMs": "810",
                                        "numAddedFiles": "1",
                                        "numUpdatedRows": "1",
                                        "numAddedBytes": "1240",
                                        "rewriteTimeMs": "622"
                                    },
                                    null,
                                    "Apache-Spark/3.4.1.5.3-108466340 Delta-Lake/2.4.0.8"
                                ],
                                [
                                    "1",
                                    "2023-11-23T14:53:11Z",
                                    null,
                                    null,
                                    "WRITE",
                                    {
                                        "mode": "Append",
                                        "partitionBy": "[]"
                                    },
                                    null,
                                    null,
                                    null,
                                    "0",
                                    "Serializable",
                                    true,
                                    {
                                        "numFiles": "1",
                                        "numOutputRows": "1",
                                        "numOutputBytes": "1189"
                                    },
                                    null,
                                    "Apache-Spark/3.4.1.5.3-108466340 Delta-Lake/2.4.0.8"
                                ],
                                [
                                    "0",
                                    "2023-11-23T14:52:50Z",
                                    null,
                                    null,
                                    "CONVERT",
                                    {
                                        "catalogTable": "`spark_catalog`.`hr`.`delta101`",
                                        "numFiles": "1",
                                        "partitionedBy": "[\"month\"]",
                                        "sourceFormat": "parquet",
                                        "collectStats": "true"
                                    },
                                    null,
                                    null,
                                    null,
                                    "-1",
                                    "Serializable",
                                    false,
                                    {
                                        "numConvertedFiles": "1"
                                    },
                                    null,
                                    "Apache-Spark/3.4.1.5.3-108466340 Delta-Lake/2.4.0.8"
                                ]
                            ]
                        },
                        "text/plain": "<Spark SQL result set with 4 rows and 15 fields>"
                    },
                    "metadata": {}
                }
            ],
            "execution_count": 15,
            "metadata": {
                "jupyter": {
                    "source_hidden": false,
                    "outputs_hidden": false
                },
                "nteract": {
                    "transient": {
                        "deleting": false
                    }
                },
                "microsoft": {
                    "language": "sparksql"
                },
                "collapsed": false
            },
            "id": "0f21cfef-f73b-47bc-b11d-8ad34ec8d0aa"
        },
        {
            "cell_type": "markdown",
            "source": [
                "## ➡️ RESTORE\n"
            ],
            "metadata": {
                "nteract": {
                    "transient": {
                        "deleting": false
                    }
                }
            },
            "id": "ed4e940f-7ade-458b-b5b7-6db12fec2dc2"
        },
        {
            "cell_type": "code",
            "source": [
                "%%sql\n",
                "RESTORE TABLE delta101\n",
                "TO VERSION AS OF 2"
            ],
            "outputs": [
                {
                    "output_type": "display_data",
                    "data": {
                        "application/vnd.livy.statement-meta+json": {
                            "spark_pool": null,
                            "session_id": "0b46a2ad-b0ca-42b8-b7f6-9ab4cc7db587",
                            "statement_id": 18,
                            "state": "finished",
                            "livy_statement_state": "available",
                            "queued_time": "2023-11-23T14:52:11.2338421Z",
                            "session_start_time": null,
                            "execution_start_time": "2023-11-23T14:53:34.58817Z",
                            "execution_finish_time": "2023-11-23T14:53:47.1309945Z",
                            "spark_jobs": {
                                "numbers": {
                                    "FAILED": 0,
                                    "SUCCEEDED": 28,
                                    "UNKNOWN": 0,
                                    "RUNNING": 0
                                },
                                "jobs": [
                                    {
                                        "displayName": "$anonfun$recordDeltaOperationInternal$1 at SynapseLoggingShim.scala:107",
                                        "dataWritten": 0,
                                        "dataRead": 4367,
                                        "rowCount": 50,
                                        "usageDescription": "",
                                        "jobId": 90,
                                        "name": "$anonfun$recordDeltaOperationInternal$1 at SynapseLoggingShim.scala:107",
                                        "description": "Delta: Job group for statement 18:\nRESTORE TABLE delta101\nTO VERSION AS OF 2: Compute snapshot for version: 4",
                                        "submissionTime": "2023-11-23T14:53:44.547GMT",
                                        "completionTime": "2023-11-23T14:53:44.594GMT",
                                        "stageIds": [
                                            168,
                                            166,
                                            167
                                        ],
                                        "jobGroup": "18",
                                        "status": "SUCCEEDED",
                                        "numTasks": 56,
                                        "numActiveTasks": 0,
                                        "numCompletedTasks": 1,
                                        "numSkippedTasks": 55,
                                        "numFailedTasks": 0,
                                        "numKilledTasks": 0,
                                        "numCompletedIndices": 1,
                                        "numActiveStages": 0,
                                        "numCompletedStages": 1,
                                        "numSkippedStages": 2,
                                        "numFailedStages": 0,
                                        "killedTasksSummary": {}
                                    },
                                    {
                                        "displayName": "$anonfun$recordDeltaOperationInternal$1 at SynapseLoggingShim.scala:107",
                                        "dataWritten": 4367,
                                        "dataRead": 2259,
                                        "rowCount": 55,
                                        "usageDescription": "",
                                        "jobId": 89,
                                        "name": "$anonfun$recordDeltaOperationInternal$1 at SynapseLoggingShim.scala:107",
                                        "description": "Delta: Job group for statement 18:\nRESTORE TABLE delta101\nTO VERSION AS OF 2: Compute snapshot for version: 4",
                                        "submissionTime": "2023-11-23T14:53:44.252GMT",
                                        "completionTime": "2023-11-23T14:53:44.531GMT",
                                        "stageIds": [
                                            165,
                                            164
                                        ],
                                        "jobGroup": "18",
                                        "status": "SUCCEEDED",
                                        "numTasks": 55,
                                        "numActiveTasks": 0,
                                        "numCompletedTasks": 50,
                                        "numSkippedTasks": 5,
                                        "numFailedTasks": 0,
                                        "numKilledTasks": 0,
                                        "numCompletedIndices": 50,
                                        "numActiveStages": 0,
                                        "numCompletedStages": 1,
                                        "numSkippedStages": 1,
                                        "numFailedStages": 0,
                                        "killedTasksSummary": {}
                                    },
                                    {
                                        "displayName": "$anonfun$recordDeltaOperationInternal$1 at SynapseLoggingShim.scala:107",
                                        "dataWritten": 0,
                                        "dataRead": 1258,
                                        "rowCount": 5,
                                        "usageDescription": "",
                                        "jobId": 88,
                                        "name": "$anonfun$recordDeltaOperationInternal$1 at SynapseLoggingShim.scala:107",
                                        "description": "Job group for statement 18:\nRESTORE TABLE delta101\nTO VERSION AS OF 2",
                                        "submissionTime": "2023-11-23T14:53:43.866GMT",
                                        "completionTime": "2023-11-23T14:53:44.213GMT",
                                        "stageIds": [
                                            161,
                                            162,
                                            163
                                        ],
                                        "jobGroup": "18",
                                        "status": "SUCCEEDED",
                                        "numTasks": 56,
                                        "numActiveTasks": 0,
                                        "numCompletedTasks": 1,
                                        "numSkippedTasks": 55,
                                        "numFailedTasks": 0,
                                        "numKilledTasks": 0,
                                        "numCompletedIndices": 1,
                                        "numActiveStages": 0,
                                        "numCompletedStages": 1,
                                        "numSkippedStages": 2,
                                        "numFailedStages": 0,
                                        "killedTasksSummary": {}
                                    },
                                    {
                                        "displayName": "$anonfun$recordDeltaOperationInternal$1 at SynapseLoggingShim.scala:107",
                                        "dataWritten": 1258,
                                        "dataRead": 6607,
                                        "rowCount": 19,
                                        "usageDescription": "",
                                        "jobId": 87,
                                        "name": "$anonfun$recordDeltaOperationInternal$1 at SynapseLoggingShim.scala:107",
                                        "description": "Job group for statement 18:\nRESTORE TABLE delta101\nTO VERSION AS OF 2",
                                        "submissionTime": "2023-11-23T14:53:43.171GMT",
                                        "completionTime": "2023-11-23T14:53:43.743GMT",
                                        "stageIds": [
                                            159,
                                            160
                                        ],
                                        "jobGroup": "18",
                                        "status": "SUCCEEDED",
                                        "numTasks": 55,
                                        "numActiveTasks": 0,
                                        "numCompletedTasks": 50,
                                        "numSkippedTasks": 5,
                                        "numFailedTasks": 0,
                                        "numKilledTasks": 0,
                                        "numCompletedIndices": 50,
                                        "numActiveStages": 0,
                                        "numCompletedStages": 1,
                                        "numSkippedStages": 1,
                                        "numFailedStages": 0,
                                        "killedTasksSummary": {}
                                    },
                                    {
                                        "displayName": "$anonfun$recordDeltaOperationInternal$1 at SynapseLoggingShim.scala:107",
                                        "dataWritten": 6607,
                                        "dataRead": 4136,
                                        "rowCount": 28,
                                        "usageDescription": "",
                                        "jobId": 86,
                                        "name": "$anonfun$recordDeltaOperationInternal$1 at SynapseLoggingShim.scala:107",
                                        "description": "Job group for statement 18:\nRESTORE TABLE delta101\nTO VERSION AS OF 2",
                                        "submissionTime": "2023-11-23T14:53:42.848GMT",
                                        "completionTime": "2023-11-23T14:53:42.978GMT",
                                        "stageIds": [
                                            158
                                        ],
                                        "jobGroup": "18",
                                        "status": "SUCCEEDED",
                                        "numTasks": 5,
                                        "numActiveTasks": 0,
                                        "numCompletedTasks": 5,
                                        "numSkippedTasks": 0,
                                        "numFailedTasks": 0,
                                        "numKilledTasks": 0,
                                        "numCompletedIndices": 5,
                                        "numActiveStages": 0,
                                        "numCompletedStages": 1,
                                        "numSkippedStages": 0,
                                        "numFailedStages": 0,
                                        "killedTasksSummary": {}
                                    },
                                    {
                                        "displayName": "toString at String.java:2951",
                                        "dataWritten": 0,
                                        "dataRead": 4136,
                                        "rowCount": 14,
                                        "usageDescription": "",
                                        "jobId": 85,
                                        "name": "toString at String.java:2951",
                                        "description": "Job group for statement 18:\nRESTORE TABLE delta101\nTO VERSION AS OF 2",
                                        "submissionTime": "2023-11-23T14:53:42.449GMT",
                                        "completionTime": "2023-11-23T14:53:42.577GMT",
                                        "stageIds": [
                                            157
                                        ],
                                        "jobGroup": "18",
                                        "status": "SUCCEEDED",
                                        "numTasks": 5,
                                        "numActiveTasks": 0,
                                        "numCompletedTasks": 5,
                                        "numSkippedTasks": 0,
                                        "numFailedTasks": 0,
                                        "numKilledTasks": 0,
                                        "numCompletedIndices": 5,
                                        "numActiveStages": 0,
                                        "numCompletedStages": 1,
                                        "numSkippedStages": 0,
                                        "numFailedStages": 0,
                                        "killedTasksSummary": {}
                                    },
                                    {
                                        "displayName": "$anonfun$recordDeltaOperationInternal$1 at SynapseLoggingShim.scala:107",
                                        "dataWritten": 0,
                                        "dataRead": 316,
                                        "rowCount": 1,
                                        "usageDescription": "",
                                        "jobId": 84,
                                        "name": "$anonfun$recordDeltaOperationInternal$1 at SynapseLoggingShim.scala:107",
                                        "description": "Job group for statement 18:\nRESTORE TABLE delta101\nTO VERSION AS OF 2",
                                        "submissionTime": "2023-11-23T14:53:41.926GMT",
                                        "completionTime": "2023-11-23T14:53:42.023GMT",
                                        "stageIds": [
                                            154,
                                            155,
                                            156
                                        ],
                                        "jobGroup": "18",
                                        "status": "SUCCEEDED",
                                        "numTasks": 55,
                                        "numActiveTasks": 0,
                                        "numCompletedTasks": 1,
                                        "numSkippedTasks": 54,
                                        "numFailedTasks": 0,
                                        "numKilledTasks": 0,
                                        "numCompletedIndices": 1,
                                        "numActiveStages": 0,
                                        "numCompletedStages": 1,
                                        "numSkippedStages": 2,
                                        "numFailedStages": 0,
                                        "killedTasksSummary": {}
                                    },
                                    {
                                        "displayName": "$anonfun$recordDeltaOperationInternal$1 at SynapseLoggingShim.scala:107",
                                        "dataWritten": 0,
                                        "dataRead": 671,
                                        "rowCount": 2,
                                        "usageDescription": "",
                                        "jobId": 83,
                                        "name": "$anonfun$recordDeltaOperationInternal$1 at SynapseLoggingShim.scala:107",
                                        "description": "Job group for statement 18:\nRESTORE TABLE delta101\nTO VERSION AS OF 2",
                                        "submissionTime": "2023-11-23T14:53:41.819GMT",
                                        "completionTime": "2023-11-23T14:53:41.914GMT",
                                        "stageIds": [
                                            153,
                                            151,
                                            152
                                        ],
                                        "jobGroup": "18",
                                        "status": "SUCCEEDED",
                                        "numTasks": 54,
                                        "numActiveTasks": 0,
                                        "numCompletedTasks": 1,
                                        "numSkippedTasks": 53,
                                        "numFailedTasks": 0,
                                        "numKilledTasks": 0,
                                        "numCompletedIndices": 1,
                                        "numActiveStages": 0,
                                        "numCompletedStages": 1,
                                        "numSkippedStages": 2,
                                        "numFailedStages": 0,
                                        "killedTasksSummary": {}
                                    },
                                    {
                                        "displayName": "$anonfun$recordDeltaOperationInternal$1 at SynapseLoggingShim.scala:107",
                                        "dataWritten": 280,
                                        "dataRead": 2259,
                                        "rowCount": 7,
                                        "usageDescription": "",
                                        "jobId": 81,
                                        "name": "$anonfun$recordDeltaOperationInternal$1 at SynapseLoggingShim.scala:107",
                                        "description": "Delta: Job group for statement 18:\nRESTORE TABLE delta101\nTO VERSION AS OF 2: RestoreTableCommand: compute remove actions  (table path abfss://8b66e216-bf25-482e-aad8-e674ad9dbae6@onelake.dfs.fabric.microsoft.com/e4fac868-d1ce-48e0-8d1d-040dc8b27d74/Tables/delta101)",
                                        "submissionTime": "2023-11-23T14:53:41.082GMT",
                                        "completionTime": "2023-11-23T14:53:41.595GMT",
                                        "stageIds": [
                                            147,
                                            146
                                        ],
                                        "jobGroup": "18",
                                        "status": "SUCCEEDED",
                                        "numTasks": 53,
                                        "numActiveTasks": 0,
                                        "numCompletedTasks": 50,
                                        "numSkippedTasks": 3,
                                        "numFailedTasks": 0,
                                        "numKilledTasks": 0,
                                        "numCompletedIndices": 50,
                                        "numActiveStages": 0,
                                        "numCompletedStages": 1,
                                        "numSkippedStages": 1,
                                        "numFailedStages": 0,
                                        "killedTasksSummary": {}
                                    },
                                    {
                                        "displayName": "$anonfun$recordDeltaOperationInternal$1 at SynapseLoggingShim.scala:107",
                                        "dataWritten": 316,
                                        "dataRead": 2178,
                                        "rowCount": 6,
                                        "usageDescription": "",
                                        "jobId": 80,
                                        "name": "$anonfun$recordDeltaOperationInternal$1 at SynapseLoggingShim.scala:107",
                                        "description": "Delta: Job group for statement 18:\nRESTORE TABLE delta101\nTO VERSION AS OF 2: RestoreTableCommand: compute remove actions  (table path abfss://8b66e216-bf25-482e-aad8-e674ad9dbae6@onelake.dfs.fabric.microsoft.com/e4fac868-d1ce-48e0-8d1d-040dc8b27d74/Tables/delta101)",
                                        "submissionTime": "2023-11-23T14:53:41.021GMT",
                                        "completionTime": "2023-11-23T14:53:41.528GMT",
                                        "stageIds": [
                                            144,
                                            145
                                        ],
                                        "jobGroup": "18",
                                        "status": "SUCCEEDED",
                                        "numTasks": 54,
                                        "numActiveTasks": 0,
                                        "numCompletedTasks": 50,
                                        "numSkippedTasks": 4,
                                        "numFailedTasks": 0,
                                        "numKilledTasks": 0,
                                        "numCompletedIndices": 50,
                                        "numActiveStages": 0,
                                        "numCompletedStages": 1,
                                        "numSkippedStages": 1,
                                        "numFailedStages": 0,
                                        "killedTasksSummary": {}
                                    },
                                    {
                                        "displayName": "$anonfun$recordDeltaOperationInternal$1 at SynapseLoggingShim.scala:107",
                                        "dataWritten": 140,
                                        "dataRead": 2178,
                                        "rowCount": 6,
                                        "usageDescription": "",
                                        "jobId": 78,
                                        "name": "$anonfun$recordDeltaOperationInternal$1 at SynapseLoggingShim.scala:107",
                                        "description": "Delta: Job group for statement 18:\nRESTORE TABLE delta101\nTO VERSION AS OF 2: RestoreTableCommand: compute add actions  (table path abfss://8b66e216-bf25-482e-aad8-e674ad9dbae6@onelake.dfs.fabric.microsoft.com/e4fac868-d1ce-48e0-8d1d-040dc8b27d74/Tables/delta101)",
                                        "submissionTime": "2023-11-23T14:53:40.128GMT",
                                        "completionTime": "2023-11-23T14:53:40.672GMT",
                                        "stageIds": [
                                            139,
                                            140
                                        ],
                                        "jobGroup": "18",
                                        "status": "SUCCEEDED",
                                        "numTasks": 54,
                                        "numActiveTasks": 0,
                                        "numCompletedTasks": 50,
                                        "numSkippedTasks": 4,
                                        "numFailedTasks": 0,
                                        "numKilledTasks": 0,
                                        "numCompletedIndices": 50,
                                        "numActiveStages": 0,
                                        "numCompletedStages": 1,
                                        "numSkippedStages": 1,
                                        "numFailedStages": 0,
                                        "killedTasksSummary": {}
                                    },
                                    {
                                        "displayName": "$anonfun$recordDeltaOperationInternal$1 at SynapseLoggingShim.scala:107",
                                        "dataWritten": 671,
                                        "dataRead": 2259,
                                        "rowCount": 7,
                                        "usageDescription": "",
                                        "jobId": 77,
                                        "name": "$anonfun$recordDeltaOperationInternal$1 at SynapseLoggingShim.scala:107",
                                        "description": "Delta: Job group for statement 18:\nRESTORE TABLE delta101\nTO VERSION AS OF 2: RestoreTableCommand: compute add actions  (table path abfss://8b66e216-bf25-482e-aad8-e674ad9dbae6@onelake.dfs.fabric.microsoft.com/e4fac868-d1ce-48e0-8d1d-040dc8b27d74/Tables/delta101)",
                                        "submissionTime": "2023-11-23T14:53:40.067GMT",
                                        "completionTime": "2023-11-23T14:53:40.637GMT",
                                        "stageIds": [
                                            137,
                                            138
                                        ],
                                        "jobGroup": "18",
                                        "status": "SUCCEEDED",
                                        "numTasks": 53,
                                        "numActiveTasks": 0,
                                        "numCompletedTasks": 50,
                                        "numSkippedTasks": 3,
                                        "numFailedTasks": 0,
                                        "numKilledTasks": 0,
                                        "numCompletedIndices": 50,
                                        "numActiveStages": 0,
                                        "numCompletedStages": 1,
                                        "numSkippedStages": 1,
                                        "numFailedStages": 0,
                                        "killedTasksSummary": {}
                                    },
                                    {
                                        "displayName": "$anonfun$recordDeltaOperationInternal$1 at SynapseLoggingShim.scala:107",
                                        "dataWritten": 0,
                                        "dataRead": 4367,
                                        "rowCount": 50,
                                        "usageDescription": "",
                                        "jobId": 76,
                                        "name": "$anonfun$recordDeltaOperationInternal$1 at SynapseLoggingShim.scala:107",
                                        "description": "Delta: Delta: Job group for statement 18:\nRESTORE TABLE delta101\nTO VERSION AS OF 2: RestoreTableCommand: compute metrics  (table path abfss://8b66e216-bf25-482e-aad8-e674ad9dbae6@onelake.dfs.fabric.microsoft.com/e4fac868-d1ce-48e0-8d1d-040dc8b27d74/Tables/delta101): Compute snapshot for version: 2",
                                        "submissionTime": "2023-11-23T14:53:39.884GMT",
                                        "completionTime": "2023-11-23T14:53:39.928GMT",
                                        "stageIds": [
                                            135,
                                            136,
                                            134
                                        ],
                                        "jobGroup": "18",
                                        "status": "SUCCEEDED",
                                        "numTasks": 54,
                                        "numActiveTasks": 0,
                                        "numCompletedTasks": 1,
                                        "numSkippedTasks": 53,
                                        "numFailedTasks": 0,
                                        "numKilledTasks": 0,
                                        "numCompletedIndices": 1,
                                        "numActiveStages": 0,
                                        "numCompletedStages": 1,
                                        "numSkippedStages": 2,
                                        "numFailedStages": 0,
                                        "killedTasksSummary": {}
                                    },
                                    {
                                        "displayName": "$anonfun$recordDeltaOperationInternal$1 at SynapseLoggingShim.scala:107",
                                        "dataWritten": 4367,
                                        "dataRead": 2259,
                                        "rowCount": 55,
                                        "usageDescription": "",
                                        "jobId": 75,
                                        "name": "$anonfun$recordDeltaOperationInternal$1 at SynapseLoggingShim.scala:107",
                                        "description": "Delta: Delta: Job group for statement 18:\nRESTORE TABLE delta101\nTO VERSION AS OF 2: RestoreTableCommand: compute metrics  (table path abfss://8b66e216-bf25-482e-aad8-e674ad9dbae6@onelake.dfs.fabric.microsoft.com/e4fac868-d1ce-48e0-8d1d-040dc8b27d74/Tables/delta101): Compute snapshot for version: 2",
                                        "submissionTime": "2023-11-23T14:53:39.566GMT",
                                        "completionTime": "2023-11-23T14:53:39.868GMT",
                                        "stageIds": [
                                            132,
                                            133
                                        ],
                                        "jobGroup": "18",
                                        "status": "SUCCEEDED",
                                        "numTasks": 53,
                                        "numActiveTasks": 0,
                                        "numCompletedTasks": 50,
                                        "numSkippedTasks": 3,
                                        "numFailedTasks": 0,
                                        "numKilledTasks": 0,
                                        "numCompletedIndices": 50,
                                        "numActiveStages": 0,
                                        "numCompletedStages": 1,
                                        "numSkippedStages": 1,
                                        "numFailedStages": 0,
                                        "killedTasksSummary": {}
                                    },
                                    {
                                        "displayName": "$anonfun$recordDeltaOperationInternal$1 at SynapseLoggingShim.scala:107",
                                        "dataWritten": 0,
                                        "dataRead": 57,
                                        "rowCount": 1,
                                        "usageDescription": "",
                                        "jobId": 74,
                                        "name": "$anonfun$recordDeltaOperationInternal$1 at SynapseLoggingShim.scala:107",
                                        "description": "Delta: Job group for statement 18:\nRESTORE TABLE delta101\nTO VERSION AS OF 2: RestoreTableCommand: compute metrics  (table path abfss://8b66e216-bf25-482e-aad8-e674ad9dbae6@onelake.dfs.fabric.microsoft.com/e4fac868-d1ce-48e0-8d1d-040dc8b27d74/Tables/delta101)",
                                        "submissionTime": "2023-11-23T14:53:39.490GMT",
                                        "completionTime": "2023-11-23T14:53:39.516GMT",
                                        "stageIds": [
                                            129,
                                            130,
                                            131,
                                            128
                                        ],
                                        "jobGroup": "18",
                                        "status": "SUCCEEDED",
                                        "numTasks": 56,
                                        "numActiveTasks": 0,
                                        "numCompletedTasks": 1,
                                        "numSkippedTasks": 55,
                                        "numFailedTasks": 0,
                                        "numKilledTasks": 0,
                                        "numCompletedIndices": 1,
                                        "numActiveStages": 0,
                                        "numCompletedStages": 1,
                                        "numSkippedStages": 3,
                                        "numFailedStages": 0,
                                        "killedTasksSummary": {}
                                    },
                                    {
                                        "displayName": "$anonfun$recordDeltaOperationInternal$1 at SynapseLoggingShim.scala:107",
                                        "dataWritten": 57,
                                        "dataRead": 316,
                                        "rowCount": 2,
                                        "usageDescription": "",
                                        "jobId": 73,
                                        "name": "$anonfun$recordDeltaOperationInternal$1 at SynapseLoggingShim.scala:107",
                                        "description": "Delta: Job group for statement 18:\nRESTORE TABLE delta101\nTO VERSION AS OF 2: RestoreTableCommand: compute metrics  (table path abfss://8b66e216-bf25-482e-aad8-e674ad9dbae6@onelake.dfs.fabric.microsoft.com/e4fac868-d1ce-48e0-8d1d-040dc8b27d74/Tables/delta101)",
                                        "submissionTime": "2023-11-23T14:53:39.412GMT",
                                        "completionTime": "2023-11-23T14:53:39.476GMT",
                                        "stageIds": [
                                            125,
                                            126,
                                            127
                                        ],
                                        "jobGroup": "18",
                                        "status": "SUCCEEDED",
                                        "numTasks": 55,
                                        "numActiveTasks": 0,
                                        "numCompletedTasks": 1,
                                        "numSkippedTasks": 54,
                                        "numFailedTasks": 0,
                                        "numKilledTasks": 0,
                                        "numCompletedIndices": 1,
                                        "numActiveStages": 0,
                                        "numCompletedStages": 1,
                                        "numSkippedStages": 2,
                                        "numFailedStages": 0,
                                        "killedTasksSummary": {}
                                    },
                                    {
                                        "displayName": "$anonfun$recordDeltaOperationInternal$1 at SynapseLoggingShim.scala:107",
                                        "dataWritten": 280,
                                        "dataRead": 2259,
                                        "rowCount": 7,
                                        "usageDescription": "",
                                        "jobId": 71,
                                        "name": "$anonfun$recordDeltaOperationInternal$1 at SynapseLoggingShim.scala:107",
                                        "description": "Delta: Job group for statement 18:\nRESTORE TABLE delta101\nTO VERSION AS OF 2: RestoreTableCommand: compute metrics  (table path abfss://8b66e216-bf25-482e-aad8-e674ad9dbae6@onelake.dfs.fabric.microsoft.com/e4fac868-d1ce-48e0-8d1d-040dc8b27d74/Tables/delta101)",
                                        "submissionTime": "2023-11-23T14:53:38.794GMT",
                                        "completionTime": "2023-11-23T14:53:39.311GMT",
                                        "stageIds": [
                                            121,
                                            120
                                        ],
                                        "jobGroup": "18",
                                        "status": "SUCCEEDED",
                                        "numTasks": 53,
                                        "numActiveTasks": 0,
                                        "numCompletedTasks": 50,
                                        "numSkippedTasks": 3,
                                        "numFailedTasks": 0,
                                        "numKilledTasks": 0,
                                        "numCompletedIndices": 50,
                                        "numActiveStages": 0,
                                        "numCompletedStages": 1,
                                        "numSkippedStages": 1,
                                        "numFailedStages": 0,
                                        "killedTasksSummary": {}
                                    },
                                    {
                                        "displayName": "$anonfun$recordDeltaOperationInternal$1 at SynapseLoggingShim.scala:107",
                                        "dataWritten": 316,
                                        "dataRead": 2178,
                                        "rowCount": 6,
                                        "usageDescription": "",
                                        "jobId": 70,
                                        "name": "$anonfun$recordDeltaOperationInternal$1 at SynapseLoggingShim.scala:107",
                                        "description": "Delta: Job group for statement 18:\nRESTORE TABLE delta101\nTO VERSION AS OF 2: RestoreTableCommand: compute metrics  (table path abfss://8b66e216-bf25-482e-aad8-e674ad9dbae6@onelake.dfs.fabric.microsoft.com/e4fac868-d1ce-48e0-8d1d-040dc8b27d74/Tables/delta101)",
                                        "submissionTime": "2023-11-23T14:53:38.745GMT",
                                        "completionTime": "2023-11-23T14:53:39.202GMT",
                                        "stageIds": [
                                            118,
                                            119
                                        ],
                                        "jobGroup": "18",
                                        "status": "SUCCEEDED",
                                        "numTasks": 54,
                                        "numActiveTasks": 0,
                                        "numCompletedTasks": 50,
                                        "numSkippedTasks": 4,
                                        "numFailedTasks": 0,
                                        "numKilledTasks": 0,
                                        "numCompletedIndices": 50,
                                        "numActiveStages": 0,
                                        "numCompletedStages": 1,
                                        "numSkippedStages": 1,
                                        "numFailedStages": 0,
                                        "killedTasksSummary": {}
                                    },
                                    {
                                        "displayName": "$anonfun$recordDeltaOperationInternal$1 at SynapseLoggingShim.scala:107",
                                        "dataWritten": 0,
                                        "dataRead": 63,
                                        "rowCount": 1,
                                        "usageDescription": "",
                                        "jobId": 69,
                                        "name": "$anonfun$recordDeltaOperationInternal$1 at SynapseLoggingShim.scala:107",
                                        "description": "Delta: Job group for statement 18:\nRESTORE TABLE delta101\nTO VERSION AS OF 2: RestoreTableCommand: compute metrics  (table path abfss://8b66e216-bf25-482e-aad8-e674ad9dbae6@onelake.dfs.fabric.microsoft.com/e4fac868-d1ce-48e0-8d1d-040dc8b27d74/Tables/delta101)",
                                        "submissionTime": "2023-11-23T14:53:38.583GMT",
                                        "completionTime": "2023-11-23T14:53:38.607GMT",
                                        "stageIds": [
                                            117,
                                            114,
                                            115,
                                            116
                                        ],
                                        "jobGroup": "18",
                                        "status": "SUCCEEDED",
                                        "numTasks": 55,
                                        "numActiveTasks": 0,
                                        "numCompletedTasks": 1,
                                        "numSkippedTasks": 54,
                                        "numFailedTasks": 0,
                                        "numKilledTasks": 0,
                                        "numCompletedIndices": 1,
                                        "numActiveStages": 0,
                                        "numCompletedStages": 1,
                                        "numSkippedStages": 3,
                                        "numFailedStages": 0,
                                        "killedTasksSummary": {}
                                    },
                                    {
                                        "displayName": "$anonfun$recordDeltaOperationInternal$1 at SynapseLoggingShim.scala:107",
                                        "dataWritten": 63,
                                        "dataRead": 671,
                                        "rowCount": 3,
                                        "usageDescription": "",
                                        "jobId": 68,
                                        "name": "$anonfun$recordDeltaOperationInternal$1 at SynapseLoggingShim.scala:107",
                                        "description": "Delta: Job group for statement 18:\nRESTORE TABLE delta101\nTO VERSION AS OF 2: RestoreTableCommand: compute metrics  (table path abfss://8b66e216-bf25-482e-aad8-e674ad9dbae6@onelake.dfs.fabric.microsoft.com/e4fac868-d1ce-48e0-8d1d-040dc8b27d74/Tables/delta101)",
                                        "submissionTime": "2023-11-23T14:53:38.487GMT",
                                        "completionTime": "2023-11-23T14:53:38.555GMT",
                                        "stageIds": [
                                            111,
                                            112,
                                            113
                                        ],
                                        "jobGroup": "18",
                                        "status": "SUCCEEDED",
                                        "numTasks": 54,
                                        "numActiveTasks": 0,
                                        "numCompletedTasks": 1,
                                        "numSkippedTasks": 53,
                                        "numFailedTasks": 0,
                                        "numKilledTasks": 0,
                                        "numCompletedIndices": 1,
                                        "numActiveStages": 0,
                                        "numCompletedStages": 1,
                                        "numSkippedStages": 2,
                                        "numFailedStages": 0,
                                        "killedTasksSummary": {}
                                    }
                                ],
                                "limit": 20,
                                "rule": "ALL_DESC"
                            },
                            "parent_msg_id": "02b12eda-3379-4204-aeb1-78926c1bfe65"
                        },
                        "text/plain": "StatementMeta(, 0b46a2ad-b0ca-42b8-b7f6-9ab4cc7db587, 18, Finished, Available)"
                    },
                    "metadata": {}
                },
                {
                    "output_type": "execute_result",
                    "execution_count": 16,
                    "data": {
                        "application/vnd.synapse.sparksql-result+json": {
                            "schema": {
                                "type": "struct",
                                "fields": [
                                    {
                                        "name": "table_size_after_restore",
                                        "type": "long",
                                        "nullable": true,
                                        "metadata": {}
                                    },
                                    {
                                        "name": "num_of_files_after_restore",
                                        "type": "long",
                                        "nullable": true,
                                        "metadata": {}
                                    },
                                    {
                                        "name": "num_removed_files",
                                        "type": "long",
                                        "nullable": true,
                                        "metadata": {}
                                    },
                                    {
                                        "name": "num_restored_files",
                                        "type": "long",
                                        "nullable": true,
                                        "metadata": {}
                                    },
                                    {
                                        "name": "removed_files_size",
                                        "type": "long",
                                        "nullable": true,
                                        "metadata": {}
                                    },
                                    {
                                        "name": "restored_files_size",
                                        "type": "long",
                                        "nullable": true,
                                        "metadata": {}
                                    }
                                ]
                            },
                            "data": [
                                [
                                    "2426",
                                    "2",
                                    "0",
                                    "1",
                                    "0",
                                    "1240"
                                ]
                            ]
                        },
                        "text/plain": "<Spark SQL result set with 1 rows and 6 fields>"
                    },
                    "metadata": {}
                }
            ],
            "execution_count": 16,
            "metadata": {
                "jupyter": {
                    "source_hidden": false,
                    "outputs_hidden": false
                },
                "nteract": {
                    "transient": {
                        "deleting": false
                    }
                },
                "microsoft": {
                    "language": "sparksql"
                },
                "collapsed": false
            },
            "id": "954fcc62-57ea-40c7-ba50-7c040bb0f44f"
        },
        {
            "cell_type": "code",
            "source": [
                "%%sql\n",
                "SELECT * FROM delta101"
            ],
            "outputs": [
                {
                    "output_type": "display_data",
                    "data": {
                        "application/vnd.livy.statement-meta+json": {
                            "spark_pool": null,
                            "session_id": "0b46a2ad-b0ca-42b8-b7f6-9ab4cc7db587",
                            "statement_id": 19,
                            "state": "finished",
                            "livy_statement_state": "available",
                            "queued_time": "2023-11-23T14:52:11.236544Z",
                            "session_start_time": null,
                            "execution_start_time": "2023-11-23T14:53:47.7820943Z",
                            "execution_finish_time": "2023-11-23T14:53:50.2912489Z",
                            "spark_jobs": {
                                "numbers": {
                                    "FAILED": 0,
                                    "SUCCEEDED": 7,
                                    "UNKNOWN": 0,
                                    "RUNNING": 0
                                },
                                "jobs": [
                                    {
                                        "displayName": "take at SQLInterpreter.scala:155",
                                        "dataWritten": 0,
                                        "dataRead": 0,
                                        "rowCount": 1,
                                        "usageDescription": "",
                                        "jobId": 97,
                                        "name": "take at SQLInterpreter.scala:155",
                                        "description": "Job group for statement 19:\nSELECT * FROM delta101",
                                        "submissionTime": "2023-11-23T14:53:49.963GMT",
                                        "completionTime": "2023-11-23T14:53:50.009GMT",
                                        "stageIds": [
                                            179
                                        ],
                                        "jobGroup": "19",
                                        "status": "SUCCEEDED",
                                        "numTasks": 1,
                                        "numActiveTasks": 0,
                                        "numCompletedTasks": 1,
                                        "numSkippedTasks": 0,
                                        "numFailedTasks": 0,
                                        "numKilledTasks": 0,
                                        "numCompletedIndices": 1,
                                        "numActiveStages": 0,
                                        "numCompletedStages": 1,
                                        "numSkippedStages": 0,
                                        "numFailedStages": 0,
                                        "killedTasksSummary": {}
                                    },
                                    {
                                        "displayName": "take at SQLInterpreter.scala:155",
                                        "dataWritten": 0,
                                        "dataRead": 0,
                                        "rowCount": 1,
                                        "usageDescription": "",
                                        "jobId": 96,
                                        "name": "take at SQLInterpreter.scala:155",
                                        "description": "Job group for statement 19:\nSELECT * FROM delta101",
                                        "submissionTime": "2023-11-23T14:53:49.900GMT",
                                        "completionTime": "2023-11-23T14:53:49.959GMT",
                                        "stageIds": [
                                            178
                                        ],
                                        "jobGroup": "19",
                                        "status": "SUCCEEDED",
                                        "numTasks": 1,
                                        "numActiveTasks": 0,
                                        "numCompletedTasks": 1,
                                        "numSkippedTasks": 0,
                                        "numFailedTasks": 0,
                                        "numKilledTasks": 0,
                                        "numCompletedIndices": 1,
                                        "numActiveStages": 0,
                                        "numCompletedStages": 1,
                                        "numSkippedStages": 0,
                                        "numFailedStages": 0,
                                        "killedTasksSummary": {}
                                    },
                                    {
                                        "displayName": "$anonfun$recordDeltaOperationInternal$1 at SynapseLoggingShim.scala:107",
                                        "dataWritten": 0,
                                        "dataRead": 4367,
                                        "rowCount": 50,
                                        "usageDescription": "",
                                        "jobId": 95,
                                        "name": "$anonfun$recordDeltaOperationInternal$1 at SynapseLoggingShim.scala:107",
                                        "description": "Delta: Delta: Job group for statement 19:\nSELECT * FROM delta101: Filtering files for query: Compute snapshot for version: 4",
                                        "submissionTime": "2023-11-23T14:53:49.802GMT",
                                        "completionTime": "2023-11-23T14:53:49.832GMT",
                                        "stageIds": [
                                            176,
                                            177,
                                            175
                                        ],
                                        "jobGroup": "19",
                                        "status": "SUCCEEDED",
                                        "numTasks": 52,
                                        "numActiveTasks": 0,
                                        "numCompletedTasks": 1,
                                        "numSkippedTasks": 51,
                                        "numFailedTasks": 0,
                                        "numKilledTasks": 0,
                                        "numCompletedIndices": 1,
                                        "numActiveStages": 0,
                                        "numCompletedStages": 1,
                                        "numSkippedStages": 2,
                                        "numFailedStages": 0,
                                        "killedTasksSummary": {}
                                    },
                                    {
                                        "displayName": "$anonfun$recordDeltaOperationInternal$1 at SynapseLoggingShim.scala:107",
                                        "dataWritten": 4367,
                                        "dataRead": 2222,
                                        "rowCount": 55,
                                        "usageDescription": "",
                                        "jobId": 94,
                                        "name": "$anonfun$recordDeltaOperationInternal$1 at SynapseLoggingShim.scala:107",
                                        "description": "Delta: Delta: Job group for statement 19:\nSELECT * FROM delta101: Filtering files for query: Compute snapshot for version: 4",
                                        "submissionTime": "2023-11-23T14:53:49.497GMT",
                                        "completionTime": "2023-11-23T14:53:49.779GMT",
                                        "stageIds": [
                                            173,
                                            174
                                        ],
                                        "jobGroup": "19",
                                        "status": "SUCCEEDED",
                                        "numTasks": 51,
                                        "numActiveTasks": 0,
                                        "numCompletedTasks": 50,
                                        "numSkippedTasks": 1,
                                        "numFailedTasks": 0,
                                        "numKilledTasks": 0,
                                        "numCompletedIndices": 50,
                                        "numActiveStages": 0,
                                        "numCompletedStages": 1,
                                        "numSkippedStages": 1,
                                        "numFailedStages": 0,
                                        "killedTasksSummary": {}
                                    },
                                    {
                                        "displayName": "$anonfun$recordDeltaOperationInternal$1 at SynapseLoggingShim.scala:107",
                                        "dataWritten": 0,
                                        "dataRead": 1930,
                                        "rowCount": 5,
                                        "usageDescription": "",
                                        "jobId": 93,
                                        "name": "$anonfun$recordDeltaOperationInternal$1 at SynapseLoggingShim.scala:107",
                                        "description": "Delta: Job group for statement 19:\nSELECT * FROM delta101: Filtering files for query",
                                        "submissionTime": "2023-11-23T14:53:48.984GMT",
                                        "completionTime": "2023-11-23T14:53:49.441GMT",
                                        "stageIds": [
                                            171,
                                            172
                                        ],
                                        "jobGroup": "19",
                                        "status": "SUCCEEDED",
                                        "numTasks": 51,
                                        "numActiveTasks": 0,
                                        "numCompletedTasks": 50,
                                        "numSkippedTasks": 1,
                                        "numFailedTasks": 0,
                                        "numKilledTasks": 0,
                                        "numCompletedIndices": 50,
                                        "numActiveStages": 0,
                                        "numCompletedStages": 1,
                                        "numSkippedStages": 1,
                                        "numFailedStages": 0,
                                        "killedTasksSummary": {}
                                    },
                                    {
                                        "displayName": "$anonfun$recordDeltaOperationInternal$1 at SynapseLoggingShim.scala:107",
                                        "dataWritten": 1930,
                                        "dataRead": 2767,
                                        "rowCount": 10,
                                        "usageDescription": "",
                                        "jobId": 92,
                                        "name": "$anonfun$recordDeltaOperationInternal$1 at SynapseLoggingShim.scala:107",
                                        "description": "Delta: Job group for statement 19:\nSELECT * FROM delta101: Filtering files for query",
                                        "submissionTime": "2023-11-23T14:53:48.706GMT",
                                        "completionTime": "2023-11-23T14:53:48.796GMT",
                                        "stageIds": [
                                            170
                                        ],
                                        "jobGroup": "19",
                                        "status": "SUCCEEDED",
                                        "numTasks": 1,
                                        "numActiveTasks": 0,
                                        "numCompletedTasks": 1,
                                        "numSkippedTasks": 0,
                                        "numFailedTasks": 0,
                                        "numKilledTasks": 0,
                                        "numCompletedIndices": 1,
                                        "numActiveStages": 0,
                                        "numCompletedStages": 1,
                                        "numSkippedStages": 0,
                                        "numFailedStages": 0,
                                        "killedTasksSummary": {}
                                    },
                                    {
                                        "displayName": "toString at String.java:2951",
                                        "dataWritten": 0,
                                        "dataRead": 14764,
                                        "rowCount": 5,
                                        "usageDescription": "",
                                        "jobId": 91,
                                        "name": "toString at String.java:2951",
                                        "description": "Job group for statement 19:\nSELECT * FROM delta101",
                                        "submissionTime": "2023-11-23T14:53:48.335GMT",
                                        "completionTime": "2023-11-23T14:53:48.461GMT",
                                        "stageIds": [
                                            169
                                        ],
                                        "jobGroup": "19",
                                        "status": "SUCCEEDED",
                                        "numTasks": 1,
                                        "numActiveTasks": 0,
                                        "numCompletedTasks": 1,
                                        "numSkippedTasks": 0,
                                        "numFailedTasks": 0,
                                        "numKilledTasks": 0,
                                        "numCompletedIndices": 1,
                                        "numActiveStages": 0,
                                        "numCompletedStages": 1,
                                        "numSkippedStages": 0,
                                        "numFailedStages": 0,
                                        "killedTasksSummary": {}
                                    }
                                ],
                                "limit": 20,
                                "rule": "ALL_DESC"
                            },
                            "parent_msg_id": "6313e8eb-2750-4deb-8c14-c1ce41775f0c"
                        },
                        "text/plain": "StatementMeta(, 0b46a2ad-b0ca-42b8-b7f6-9ab4cc7db587, 19, Finished, Available)"
                    },
                    "metadata": {}
                },
                {
                    "output_type": "execute_result",
                    "execution_count": 17,
                    "data": {
                        "application/vnd.synapse.sparksql-result+json": {
                            "schema": {
                                "type": "struct",
                                "fields": [
                                    {
                                        "name": "id",
                                        "type": "integer",
                                        "nullable": true,
                                        "metadata": {}
                                    },
                                    {
                                        "name": "name",
                                        "type": "string",
                                        "nullable": true,
                                        "metadata": {}
                                    },
                                    {
                                        "name": "month",
                                        "type": "integer",
                                        "nullable": true,
                                        "metadata": {}
                                    }
                                ]
                            },
                            "data": [
                                [
                                    1,
                                    "one_UPDATE",
                                    1
                                ],
                                [
                                    0,
                                    "zero",
                                    1
                                ]
                            ]
                        },
                        "text/plain": "<Spark SQL result set with 2 rows and 3 fields>"
                    },
                    "metadata": {}
                }
            ],
            "execution_count": 17,
            "metadata": {
                "jupyter": {
                    "source_hidden": false,
                    "outputs_hidden": false
                },
                "nteract": {
                    "transient": {
                        "deleting": false
                    }
                },
                "microsoft": {
                    "language": "sparksql"
                },
                "collapsed": false
            },
            "id": "60f5e180-731d-49e0-a135-36b6a35022af"
        },
        {
            "cell_type": "code",
            "source": [
                "%%sql\n",
                "DESCRIBE HISTORY delta101"
            ],
            "outputs": [
                {
                    "output_type": "display_data",
                    "data": {
                        "application/vnd.livy.statement-meta+json": {
                            "spark_pool": null,
                            "session_id": "0b46a2ad-b0ca-42b8-b7f6-9ab4cc7db587",
                            "statement_id": 20,
                            "state": "finished",
                            "livy_statement_state": "available",
                            "queued_time": "2023-11-23T14:52:11.237365Z",
                            "session_start_time": null,
                            "execution_start_time": "2023-11-23T14:53:50.9486402Z",
                            "execution_finish_time": "2023-11-23T14:53:52.5168696Z",
                            "spark_jobs": {
                                "numbers": {
                                    "FAILED": 0,
                                    "SUCCEEDED": 1,
                                    "UNKNOWN": 0,
                                    "RUNNING": 0
                                },
                                "jobs": [
                                    {
                                        "displayName": "$anonfun$recordDeltaOperationInternal$1 at SynapseLoggingShim.scala:107",
                                        "dataWritten": 0,
                                        "dataRead": 0,
                                        "rowCount": 5,
                                        "usageDescription": "",
                                        "jobId": 98,
                                        "name": "$anonfun$recordDeltaOperationInternal$1 at SynapseLoggingShim.scala:107",
                                        "description": "Job group for statement 20:\nDESCRIBE HISTORY delta101",
                                        "submissionTime": "2023-11-23T14:53:51.448GMT",
                                        "completionTime": "2023-11-23T14:53:51.556GMT",
                                        "stageIds": [
                                            180
                                        ],
                                        "jobGroup": "20",
                                        "status": "SUCCEEDED",
                                        "numTasks": 8,
                                        "numActiveTasks": 0,
                                        "numCompletedTasks": 8,
                                        "numSkippedTasks": 0,
                                        "numFailedTasks": 0,
                                        "numKilledTasks": 0,
                                        "numCompletedIndices": 8,
                                        "numActiveStages": 0,
                                        "numCompletedStages": 1,
                                        "numSkippedStages": 0,
                                        "numFailedStages": 0,
                                        "killedTasksSummary": {}
                                    }
                                ],
                                "limit": 20,
                                "rule": "ALL_DESC"
                            },
                            "parent_msg_id": "37d2f58d-b365-4beb-8647-afd789d15c62"
                        },
                        "text/plain": "StatementMeta(, 0b46a2ad-b0ca-42b8-b7f6-9ab4cc7db587, 20, Finished, Available)"
                    },
                    "metadata": {}
                },
                {
                    "output_type": "execute_result",
                    "execution_count": 18,
                    "data": {
                        "application/vnd.synapse.sparksql-result+json": {
                            "schema": {
                                "type": "struct",
                                "fields": [
                                    {
                                        "name": "version",
                                        "type": "long",
                                        "nullable": true,
                                        "metadata": {}
                                    },
                                    {
                                        "name": "timestamp",
                                        "type": "timestamp",
                                        "nullable": true,
                                        "metadata": {}
                                    },
                                    {
                                        "name": "userId",
                                        "type": "string",
                                        "nullable": true,
                                        "metadata": {}
                                    },
                                    {
                                        "name": "userName",
                                        "type": "string",
                                        "nullable": true,
                                        "metadata": {}
                                    },
                                    {
                                        "name": "operation",
                                        "type": "string",
                                        "nullable": true,
                                        "metadata": {}
                                    },
                                    {
                                        "name": "operationParameters",
                                        "type": {
                                            "type": "map",
                                            "keyType": "string",
                                            "valueType": "string",
                                            "valueContainsNull": true
                                        },
                                        "nullable": true,
                                        "metadata": {}
                                    },
                                    {
                                        "name": "job",
                                        "type": {
                                            "type": "struct",
                                            "fields": [
                                                {
                                                    "name": "jobId",
                                                    "type": "string",
                                                    "nullable": true,
                                                    "metadata": {}
                                                },
                                                {
                                                    "name": "jobName",
                                                    "type": "string",
                                                    "nullable": true,
                                                    "metadata": {}
                                                },
                                                {
                                                    "name": "runId",
                                                    "type": "string",
                                                    "nullable": true,
                                                    "metadata": {}
                                                },
                                                {
                                                    "name": "jobOwnerId",
                                                    "type": "string",
                                                    "nullable": true,
                                                    "metadata": {}
                                                },
                                                {
                                                    "name": "triggerType",
                                                    "type": "string",
                                                    "nullable": true,
                                                    "metadata": {}
                                                }
                                            ]
                                        },
                                        "nullable": true,
                                        "metadata": {}
                                    },
                                    {
                                        "name": "notebook",
                                        "type": {
                                            "type": "struct",
                                            "fields": [
                                                {
                                                    "name": "notebookId",
                                                    "type": "string",
                                                    "nullable": true,
                                                    "metadata": {}
                                                }
                                            ]
                                        },
                                        "nullable": true,
                                        "metadata": {}
                                    },
                                    {
                                        "name": "clusterId",
                                        "type": "string",
                                        "nullable": true,
                                        "metadata": {}
                                    },
                                    {
                                        "name": "readVersion",
                                        "type": "long",
                                        "nullable": true,
                                        "metadata": {}
                                    },
                                    {
                                        "name": "isolationLevel",
                                        "type": "string",
                                        "nullable": true,
                                        "metadata": {}
                                    },
                                    {
                                        "name": "isBlindAppend",
                                        "type": "boolean",
                                        "nullable": true,
                                        "metadata": {}
                                    },
                                    {
                                        "name": "operationMetrics",
                                        "type": {
                                            "type": "map",
                                            "keyType": "string",
                                            "valueType": "string",
                                            "valueContainsNull": true
                                        },
                                        "nullable": true,
                                        "metadata": {}
                                    },
                                    {
                                        "name": "userMetadata",
                                        "type": "string",
                                        "nullable": true,
                                        "metadata": {}
                                    },
                                    {
                                        "name": "engineInfo",
                                        "type": "string",
                                        "nullable": true,
                                        "metadata": {}
                                    }
                                ]
                            },
                            "data": [
                                [
                                    "4",
                                    "2023-11-23T14:53:42Z",
                                    null,
                                    null,
                                    "RESTORE",
                                    {
                                        "version": "2",
                                        "timestamp": null
                                    },
                                    null,
                                    null,
                                    null,
                                    "3",
                                    "Serializable",
                                    false,
                                    {
                                        "numRestoredFiles": "1",
                                        "removedFilesSize": "0",
                                        "numRemovedFiles": "0",
                                        "restoredFilesSize": "1240",
                                        "numOfFilesAfterRestore": "2",
                                        "tableSizeAfterRestore": "2426"
                                    },
                                    null,
                                    "Apache-Spark/3.4.1.5.3-108466340 Delta-Lake/2.4.0.8"
                                ],
                                [
                                    "3",
                                    "2023-11-23T14:53:30Z",
                                    null,
                                    null,
                                    "DELETE",
                                    {
                                        "predicate": "[\"(id#3223 > 0)\"]"
                                    },
                                    null,
                                    null,
                                    null,
                                    "2",
                                    "Serializable",
                                    false,
                                    {
                                        "numRemovedFiles": "1",
                                        "numRemovedBytes": "1240",
                                        "numCopiedRows": "0",
                                        "numAddedChangeFiles": "0",
                                        "executionTimeMs": "1045",
                                        "numDeletedRows": "1",
                                        "scanTimeMs": "750",
                                        "numAddedFiles": "0",
                                        "numAddedBytes": "0",
                                        "rewriteTimeMs": "294"
                                    },
                                    null,
                                    "Apache-Spark/3.4.1.5.3-108466340 Delta-Lake/2.4.0.8"
                                ],
                                [
                                    "2",
                                    "2023-11-23T14:53:22Z",
                                    null,
                                    null,
                                    "UPDATE",
                                    {
                                        "predicate": "[\"(id#2472 = 1)\"]"
                                    },
                                    null,
                                    null,
                                    null,
                                    "1",
                                    "Serializable",
                                    false,
                                    {
                                        "numRemovedFiles": "1",
                                        "numRemovedBytes": "1189",
                                        "numCopiedRows": "0",
                                        "numAddedChangeFiles": "0",
                                        "executionTimeMs": "1435",
                                        "scanTimeMs": "810",
                                        "numAddedFiles": "1",
                                        "numUpdatedRows": "1",
                                        "numAddedBytes": "1240",
                                        "rewriteTimeMs": "622"
                                    },
                                    null,
                                    "Apache-Spark/3.4.1.5.3-108466340 Delta-Lake/2.4.0.8"
                                ],
                                [
                                    "1",
                                    "2023-11-23T14:53:11Z",
                                    null,
                                    null,
                                    "WRITE",
                                    {
                                        "mode": "Append",
                                        "partitionBy": "[]"
                                    },
                                    null,
                                    null,
                                    null,
                                    "0",
                                    "Serializable",
                                    true,
                                    {
                                        "numFiles": "1",
                                        "numOutputRows": "1",
                                        "numOutputBytes": "1189"
                                    },
                                    null,
                                    "Apache-Spark/3.4.1.5.3-108466340 Delta-Lake/2.4.0.8"
                                ],
                                [
                                    "0",
                                    "2023-11-23T14:52:50Z",
                                    null,
                                    null,
                                    "CONVERT",
                                    {
                                        "catalogTable": "`spark_catalog`.`hr`.`delta101`",
                                        "numFiles": "1",
                                        "partitionedBy": "[\"month\"]",
                                        "sourceFormat": "parquet",
                                        "collectStats": "true"
                                    },
                                    null,
                                    null,
                                    null,
                                    "-1",
                                    "Serializable",
                                    false,
                                    {
                                        "numConvertedFiles": "1"
                                    },
                                    null,
                                    "Apache-Spark/3.4.1.5.3-108466340 Delta-Lake/2.4.0.8"
                                ]
                            ]
                        },
                        "text/plain": "<Spark SQL result set with 5 rows and 15 fields>"
                    },
                    "metadata": {}
                }
            ],
            "execution_count": 18,
            "metadata": {
                "jupyter": {
                    "source_hidden": false,
                    "outputs_hidden": false
                },
                "nteract": {
                    "transient": {
                        "deleting": false
                    }
                },
                "microsoft": {
                    "language": "sparksql"
                },
                "collapsed": false
            },
            "id": "5e920bfc-56d5-4f05-a19a-f10cf00d9774"
        },
        {
            "cell_type": "markdown",
            "source": [
                "## ➡️ MERGE\n",
                "\n"
            ],
            "metadata": {
                "nteract": {
                    "transient": {
                        "deleting": false
                    }
                }
            },
            "id": "c99ac5de-d5db-415c-8500-22511761a34a"
        },
        {
            "cell_type": "code",
            "source": [
                "%%sql\n",
                "MERGE INTO delta101 AS target\n",
                "USING (\n",
                "    VALUES\n",
                "        (1, 'not important', 1),\n",
                "        (2, 'merge', 2) updates(id, name, month)\n",
                ")\n",
                "ON target.id = updates.id\n",
                "WHEN MATCHED THEN\n",
                "    UPDATE SET\n",
                "        name = concat(target.name, '_merge')\n",
                "WHEN NOT MATCHED THEN\n",
                "    INSERT *"
            ],
            "outputs": [
                {
                    "output_type": "display_data",
                    "data": {
                        "application/vnd.livy.statement-meta+json": {
                            "spark_pool": null,
                            "session_id": "0b46a2ad-b0ca-42b8-b7f6-9ab4cc7db587",
                            "statement_id": 23,
                            "state": "finished",
                            "livy_statement_state": "available",
                            "queued_time": "2023-11-23T14:54:23.3017963Z",
                            "session_start_time": null,
                            "execution_start_time": "2023-11-23T14:54:24.0947037Z",
                            "execution_finish_time": "2023-11-23T14:54:30.640677Z",
                            "spark_jobs": {
                                "numbers": {
                                    "FAILED": 0,
                                    "SUCCEEDED": 13,
                                    "UNKNOWN": 0,
                                    "RUNNING": 0
                                },
                                "jobs": [
                                    {
                                        "displayName": "$anonfun$recordDeltaOperationInternal$1 at SynapseLoggingShim.scala:107",
                                        "dataWritten": 0,
                                        "dataRead": 4385,
                                        "rowCount": 50,
                                        "usageDescription": "",
                                        "jobId": 116,
                                        "name": "$anonfun$recordDeltaOperationInternal$1 at SynapseLoggingShim.scala:107",
                                        "description": "Delta: Job group for statement 23:\nMERGE INTO delta101 AS target\nUSING (\n    VALUES\n        (1, 'not important', 1),\n        (2, 'merge', 2) updates(id, name, month)\n)\nON target.id = updates.id\nWHEN MATCHED THEN\n    UPDATE SET\n        name = concat(target.name, '_merge')\nWHEN NOT MATCHED THEN\n    INSERT *: Compute snapshot for version: 5",
                                        "submissionTime": "2023-11-23T14:54:29.402GMT",
                                        "completionTime": "2023-11-23T14:54:29.448GMT",
                                        "stageIds": [
                                            208,
                                            209,
                                            210
                                        ],
                                        "jobGroup": "23",
                                        "status": "SUCCEEDED",
                                        "numTasks": 53,
                                        "numActiveTasks": 0,
                                        "numCompletedTasks": 1,
                                        "numSkippedTasks": 52,
                                        "numFailedTasks": 0,
                                        "numKilledTasks": 0,
                                        "numCompletedIndices": 1,
                                        "numActiveStages": 0,
                                        "numCompletedStages": 1,
                                        "numSkippedStages": 2,
                                        "numFailedStages": 0,
                                        "killedTasksSummary": {}
                                    },
                                    {
                                        "displayName": "$anonfun$recordDeltaOperationInternal$1 at SynapseLoggingShim.scala:107",
                                        "dataWritten": 4385,
                                        "dataRead": 4573,
                                        "rowCount": 59,
                                        "usageDescription": "",
                                        "jobId": 115,
                                        "name": "$anonfun$recordDeltaOperationInternal$1 at SynapseLoggingShim.scala:107",
                                        "description": "Delta: Job group for statement 23:\nMERGE INTO delta101 AS target\nUSING (\n    VALUES\n        (1, 'not important', 1),\n        (2, 'merge', 2) updates(id, name, month)\n)\nON target.id = updates.id\nWHEN MATCHED THEN\n    UPDATE SET\n        name = concat(target.name, '_merge')\nWHEN NOT MATCHED THEN\n    INSERT *: Compute snapshot for version: 5",
                                        "submissionTime": "2023-11-23T14:54:28.600GMT",
                                        "completionTime": "2023-11-23T14:54:29.383GMT",
                                        "stageIds": [
                                            206,
                                            207
                                        ],
                                        "jobGroup": "23",
                                        "status": "SUCCEEDED",
                                        "numTasks": 52,
                                        "numActiveTasks": 0,
                                        "numCompletedTasks": 50,
                                        "numSkippedTasks": 2,
                                        "numFailedTasks": 0,
                                        "numKilledTasks": 0,
                                        "numCompletedIndices": 50,
                                        "numActiveStages": 0,
                                        "numCompletedStages": 1,
                                        "numSkippedStages": 1,
                                        "numFailedStages": 0,
                                        "killedTasksSummary": {}
                                    },
                                    {
                                        "displayName": "$anonfun$recordDeltaOperationInternal$1 at SynapseLoggingShim.scala:107",
                                        "dataWritten": 4573,
                                        "dataRead": 2057,
                                        "rowCount": 18,
                                        "usageDescription": "",
                                        "jobId": 114,
                                        "name": "$anonfun$recordDeltaOperationInternal$1 at SynapseLoggingShim.scala:107",
                                        "description": "Delta: Job group for statement 23:\nMERGE INTO delta101 AS target\nUSING (\n    VALUES\n        (1, 'not important', 1),\n        (2, 'merge', 2) updates(id, name, month)\n)\nON target.id = updates.id\nWHEN MATCHED THEN\n    UPDATE SET\n        name = concat(target.name, '_merge')\nWHEN NOT MATCHED THEN\n    INSERT *: Compute snapshot for version: 5",
                                        "submissionTime": "2023-11-23T14:54:28.334GMT",
                                        "completionTime": "2023-11-23T14:54:28.438GMT",
                                        "stageIds": [
                                            205
                                        ],
                                        "jobGroup": "23",
                                        "status": "SUCCEEDED",
                                        "numTasks": 2,
                                        "numActiveTasks": 0,
                                        "numCompletedTasks": 2,
                                        "numSkippedTasks": 0,
                                        "numFailedTasks": 0,
                                        "numKilledTasks": 0,
                                        "numCompletedIndices": 2,
                                        "numActiveStages": 0,
                                        "numCompletedStages": 1,
                                        "numSkippedStages": 0,
                                        "numFailedStages": 0,
                                        "killedTasksSummary": {}
                                    },
                                    {
                                        "displayName": "toString at String.java:2951",
                                        "dataWritten": 0,
                                        "dataRead": 2057,
                                        "rowCount": 9,
                                        "usageDescription": "",
                                        "jobId": 113,
                                        "name": "toString at String.java:2951",
                                        "description": "Job group for statement 23:\nMERGE INTO delta101 AS target\nUSING (\n    VALUES\n        (1, 'not important', 1),\n        (2, 'merge', 2) updates(id, name, month)\n)\nON target.id = updates.id\nWHEN MATCHED THEN\n    UPDATE SET\n        name = concat(target.name, '_merge')\nWHEN NOT MATCHED THEN\n    INSERT *",
                                        "submissionTime": "2023-11-23T14:54:28.011GMT",
                                        "completionTime": "2023-11-23T14:54:28.107GMT",
                                        "stageIds": [
                                            204
                                        ],
                                        "jobGroup": "23",
                                        "status": "SUCCEEDED",
                                        "numTasks": 2,
                                        "numActiveTasks": 0,
                                        "numCompletedTasks": 2,
                                        "numSkippedTasks": 0,
                                        "numFailedTasks": 0,
                                        "numKilledTasks": 0,
                                        "numCompletedIndices": 2,
                                        "numActiveStages": 0,
                                        "numCompletedStages": 1,
                                        "numSkippedStages": 0,
                                        "numFailedStages": 0,
                                        "killedTasksSummary": {}
                                    },
                                    {
                                        "displayName": "run at ForkJoinTask.java:1426",
                                        "dataWritten": 2487,
                                        "dataRead": 151,
                                        "rowCount": 4,
                                        "usageDescription": "",
                                        "jobId": 112,
                                        "name": "run at ForkJoinTask.java:1426",
                                        "description": "Delta: Job group for statement 23:\nMERGE INTO delta101 AS target\nUSING (\n    VALUES\n        (1, 'not important', 1),\n        (2, 'merge', 2) updates(id, name, month)\n)\nON target.id = updates.id\nWHEN MATCHED THEN\n    UPDATE SET\n        name = concat(target.name, '_merge')\nWHEN NOT MATCHED THEN\n    INSERT *: Writing merged data full update",
                                        "submissionTime": "2023-11-23T14:54:26.750GMT",
                                        "completionTime": "2023-11-23T14:54:27.405GMT",
                                        "stageIds": [
                                            201,
                                            202,
                                            203,
                                            200
                                        ],
                                        "jobGroup": "23",
                                        "status": "SUCCEEDED",
                                        "numTasks": 6,
                                        "numActiveTasks": 0,
                                        "numCompletedTasks": 2,
                                        "numSkippedTasks": 4,
                                        "numFailedTasks": 0,
                                        "numKilledTasks": 0,
                                        "numCompletedIndices": 2,
                                        "numActiveStages": 0,
                                        "numCompletedStages": 1,
                                        "numSkippedStages": 3,
                                        "numFailedStages": 0,
                                        "killedTasksSummary": {}
                                    },
                                    {
                                        "displayName": "run at ForkJoinTask.java:1426",
                                        "dataWritten": 151,
                                        "dataRead": 241,
                                        "rowCount": 5,
                                        "usageDescription": "",
                                        "jobId": 111,
                                        "name": "run at ForkJoinTask.java:1426",
                                        "description": "Delta: Job group for statement 23:\nMERGE INTO delta101 AS target\nUSING (\n    VALUES\n        (1, 'not important', 1),\n        (2, 'merge', 2) updates(id, name, month)\n)\nON target.id = updates.id\nWHEN MATCHED THEN\n    UPDATE SET\n        name = concat(target.name, '_merge')\nWHEN NOT MATCHED THEN\n    INSERT *: Writing merged data full update",
                                        "submissionTime": "2023-11-23T14:54:26.492GMT",
                                        "completionTime": "2023-11-23T14:54:26.716GMT",
                                        "stageIds": [
                                            197,
                                            198,
                                            199
                                        ],
                                        "jobGroup": "23",
                                        "status": "SUCCEEDED",
                                        "numTasks": 4,
                                        "numActiveTasks": 0,
                                        "numCompletedTasks": 1,
                                        "numSkippedTasks": 3,
                                        "numFailedTasks": 0,
                                        "numKilledTasks": 0,
                                        "numCompletedIndices": 1,
                                        "numActiveStages": 0,
                                        "numCompletedStages": 1,
                                        "numSkippedStages": 2,
                                        "numFailedStages": 0,
                                        "killedTasksSummary": {}
                                    },
                                    {
                                        "displayName": "run at ForkJoinTask.java:1426",
                                        "dataWritten": 0,
                                        "dataRead": 253,
                                        "rowCount": 1,
                                        "usageDescription": "",
                                        "jobId": 110,
                                        "name": "run at ForkJoinTask.java:1426",
                                        "description": "Delta: Job group for statement 23:\nMERGE INTO delta101 AS target\nUSING (\n    VALUES\n        (1, 'not important', 1),\n        (2, 'merge', 2) updates(id, name, month)\n)\nON target.id = updates.id\nWHEN MATCHED THEN\n    UPDATE SET\n        name = concat(target.name, '_merge')\nWHEN NOT MATCHED THEN\n    INSERT *: Writing merged no shuffle data",
                                        "submissionTime": "2023-11-23T14:54:26.310GMT",
                                        "completionTime": "2023-11-23T14:54:26.540GMT",
                                        "stageIds": [
                                            196
                                        ],
                                        "jobGroup": "23",
                                        "status": "SUCCEEDED",
                                        "numTasks": 1,
                                        "numActiveTasks": 0,
                                        "numCompletedTasks": 1,
                                        "numSkippedTasks": 0,
                                        "numFailedTasks": 0,
                                        "numKilledTasks": 0,
                                        "numCompletedIndices": 1,
                                        "numActiveStages": 0,
                                        "numCompletedStages": 1,
                                        "numSkippedStages": 0,
                                        "numFailedStages": 0,
                                        "killedTasksSummary": {}
                                    },
                                    {
                                        "displayName": "run at ForkJoinTask.java:1426",
                                        "dataWritten": 83,
                                        "dataRead": 253,
                                        "rowCount": 2,
                                        "usageDescription": "",
                                        "jobId": 109,
                                        "name": "run at ForkJoinTask.java:1426",
                                        "description": "Delta: Job group for statement 23:\nMERGE INTO delta101 AS target\nUSING (\n    VALUES\n        (1, 'not important', 1),\n        (2, 'merge', 2) updates(id, name, month)\n)\nON target.id = updates.id\nWHEN MATCHED THEN\n    UPDATE SET\n        name = concat(target.name, '_merge')\nWHEN NOT MATCHED THEN\n    INSERT *: Writing merged data full update",
                                        "submissionTime": "2023-11-23T14:54:26.261GMT",
                                        "completionTime": "2023-11-23T14:54:26.425GMT",
                                        "stageIds": [
                                            195
                                        ],
                                        "jobGroup": "23",
                                        "status": "SUCCEEDED",
                                        "numTasks": 1,
                                        "numActiveTasks": 0,
                                        "numCompletedTasks": 1,
                                        "numSkippedTasks": 0,
                                        "numFailedTasks": 0,
                                        "numKilledTasks": 0,
                                        "numCompletedIndices": 1,
                                        "numActiveStages": 0,
                                        "numCompletedStages": 1,
                                        "numSkippedStages": 0,
                                        "numFailedStages": 0,
                                        "killedTasksSummary": {}
                                    },
                                    {
                                        "displayName": "run at ForkJoinTask.java:1426",
                                        "dataWritten": 158,
                                        "dataRead": 159,
                                        "rowCount": 4,
                                        "usageDescription": "",
                                        "jobId": 108,
                                        "name": "run at ForkJoinTask.java:1426",
                                        "description": "Delta: Job group for statement 23:\nMERGE INTO delta101 AS target\nUSING (\n    VALUES\n        (1, 'not important', 1),\n        (2, 'merge', 2) updates(id, name, month)\n)\nON target.id = updates.id\nWHEN MATCHED THEN\n    UPDATE SET\n        name = concat(target.name, '_merge')\nWHEN NOT MATCHED THEN\n    INSERT *: Writing merged data full update",
                                        "submissionTime": "2023-11-23T14:54:26.140GMT",
                                        "completionTime": "2023-11-23T14:54:26.187GMT",
                                        "stageIds": [
                                            194
                                        ],
                                        "jobGroup": "23",
                                        "status": "SUCCEEDED",
                                        "numTasks": 2,
                                        "numActiveTasks": 0,
                                        "numCompletedTasks": 2,
                                        "numSkippedTasks": 0,
                                        "numFailedTasks": 0,
                                        "numKilledTasks": 0,
                                        "numCompletedIndices": 2,
                                        "numActiveStages": 0,
                                        "numCompletedStages": 1,
                                        "numSkippedStages": 0,
                                        "numFailedStages": 0,
                                        "killedTasksSummary": {}
                                    },
                                    {
                                        "displayName": "$anonfun$recordDeltaOperationInternal$1 at SynapseLoggingShim.scala:107",
                                        "dataWritten": 0,
                                        "dataRead": 468,
                                        "rowCount": 1,
                                        "usageDescription": "",
                                        "jobId": 107,
                                        "name": "$anonfun$recordDeltaOperationInternal$1 at SynapseLoggingShim.scala:107",
                                        "description": "Delta: Job group for statement 23:\nMERGE INTO delta101 AS target\nUSING (\n    VALUES\n        (1, 'not important', 1),\n        (2, 'merge', 2) updates(id, name, month)\n)\nON target.id = updates.id\nWHEN MATCHED THEN\n    UPDATE SET\n        name = concat(target.name, '_merge')\nWHEN NOT MATCHED THEN\n    INSERT *: Finding touched files - low shuffle merge",
                                        "submissionTime": "2023-11-23T14:54:25.172GMT",
                                        "completionTime": "2023-11-23T14:54:26.021GMT",
                                        "stageIds": [
                                            192,
                                            193
                                        ],
                                        "jobGroup": "23",
                                        "status": "SUCCEEDED",
                                        "numTasks": 202,
                                        "numActiveTasks": 0,
                                        "numCompletedTasks": 200,
                                        "numSkippedTasks": 2,
                                        "numFailedTasks": 0,
                                        "numKilledTasks": 0,
                                        "numCompletedIndices": 200,
                                        "numActiveStages": 0,
                                        "numCompletedStages": 1,
                                        "numSkippedStages": 1,
                                        "numFailedStages": 0,
                                        "killedTasksSummary": {}
                                    },
                                    {
                                        "displayName": "$anonfun$recordDeltaOperationInternal$1 at SynapseLoggingShim.scala:107",
                                        "dataWritten": 468,
                                        "dataRead": 0,
                                        "rowCount": 3,
                                        "usageDescription": "",
                                        "jobId": 106,
                                        "name": "$anonfun$recordDeltaOperationInternal$1 at SynapseLoggingShim.scala:107",
                                        "description": "Delta: Job group for statement 23:\nMERGE INTO delta101 AS target\nUSING (\n    VALUES\n        (1, 'not important', 1),\n        (2, 'merge', 2) updates(id, name, month)\n)\nON target.id = updates.id\nWHEN MATCHED THEN\n    UPDATE SET\n        name = concat(target.name, '_merge')\nWHEN NOT MATCHED THEN\n    INSERT *: Finding touched files - low shuffle merge",
                                        "submissionTime": "2023-11-23T14:54:24.926GMT",
                                        "completionTime": "2023-11-23T14:54:25.127GMT",
                                        "stageIds": [
                                            191
                                        ],
                                        "jobGroup": "23",
                                        "status": "SUCCEEDED",
                                        "numTasks": 2,
                                        "numActiveTasks": 0,
                                        "numCompletedTasks": 2,
                                        "numSkippedTasks": 0,
                                        "numFailedTasks": 0,
                                        "numKilledTasks": 0,
                                        "numCompletedIndices": 2,
                                        "numActiveStages": 0,
                                        "numCompletedStages": 1,
                                        "numSkippedStages": 0,
                                        "numFailedStages": 0,
                                        "killedTasksSummary": {}
                                    },
                                    {
                                        "displayName": "$anonfun$recordDeltaOperationInternal$1 at SynapseLoggingShim.scala:107",
                                        "dataWritten": 0,
                                        "dataRead": 2222,
                                        "rowCount": 5,
                                        "usageDescription": "",
                                        "jobId": 104,
                                        "name": "$anonfun$recordDeltaOperationInternal$1 at SynapseLoggingShim.scala:107",
                                        "description": "Delta: Job group for statement 23:\nMERGE INTO delta101 AS target\nUSING (\n    VALUES\n        (1, 'not important', 1),\n        (2, 'merge', 2) updates(id, name, month)\n)\nON target.id = updates.id\nWHEN MATCHED THEN\n    UPDATE SET\n        name = concat(target.name, '_merge')\nWHEN NOT MATCHED THEN\n    INSERT *: Finding touched files - low shuffle merge",
                                        "submissionTime": "2023-11-23T14:54:24.571GMT",
                                        "completionTime": "2023-11-23T14:54:24.683GMT",
                                        "stageIds": [
                                            188,
                                            189
                                        ],
                                        "jobGroup": "23",
                                        "status": "SUCCEEDED",
                                        "numTasks": 51,
                                        "numActiveTasks": 0,
                                        "numCompletedTasks": 50,
                                        "numSkippedTasks": 1,
                                        "numFailedTasks": 0,
                                        "numKilledTasks": 0,
                                        "numCompletedIndices": 50,
                                        "numActiveStages": 0,
                                        "numCompletedStages": 1,
                                        "numSkippedStages": 1,
                                        "numFailedStages": 0,
                                        "killedTasksSummary": {}
                                    },
                                    {
                                        "displayName": "$anonfun$recordDeltaOperationInternal$1 at SynapseLoggingShim.scala:107",
                                        "dataWritten": 0,
                                        "dataRead": 0,
                                        "rowCount": 0,
                                        "usageDescription": "",
                                        "jobId": 103,
                                        "name": "$anonfun$recordDeltaOperationInternal$1 at SynapseLoggingShim.scala:107",
                                        "description": "Job group for statement 23:\nMERGE INTO delta101 AS target\nUSING (\n    VALUES\n        (1, 'not important', 1),\n        (2, 'merge', 2) updates(id, name, month)\n)\nON target.id = updates.id\nWHEN MATCHED THEN\n    UPDATE SET\n        name = concat(target.name, '_merge')\nWHEN NOT MATCHED THEN\n    INSERT *",
                                        "submissionTime": "2023-11-23T14:54:24.467GMT",
                                        "completionTime": "2023-11-23T14:54:24.478GMT",
                                        "stageIds": [
                                            187
                                        ],
                                        "jobGroup": "23",
                                        "status": "SUCCEEDED",
                                        "numTasks": 2,
                                        "numActiveTasks": 0,
                                        "numCompletedTasks": 2,
                                        "numSkippedTasks": 0,
                                        "numFailedTasks": 0,
                                        "numKilledTasks": 0,
                                        "numCompletedIndices": 2,
                                        "numActiveStages": 0,
                                        "numCompletedStages": 1,
                                        "numSkippedStages": 0,
                                        "numFailedStages": 0,
                                        "killedTasksSummary": {}
                                    }
                                ],
                                "limit": 20,
                                "rule": "ALL_DESC"
                            },
                            "parent_msg_id": "56fd4a1b-fa97-47cf-b244-7244f6efc3b4"
                        },
                        "text/plain": "StatementMeta(, 0b46a2ad-b0ca-42b8-b7f6-9ab4cc7db587, 23, Finished, Available)"
                    },
                    "metadata": {}
                },
                {
                    "output_type": "execute_result",
                    "execution_count": 21,
                    "data": {
                        "application/vnd.synapse.sparksql-result+json": {
                            "schema": {
                                "type": "struct",
                                "fields": [
                                    {
                                        "name": "num_affected_rows",
                                        "type": "long",
                                        "nullable": true,
                                        "metadata": {}
                                    },
                                    {
                                        "name": "num_updated_rows",
                                        "type": "long",
                                        "nullable": true,
                                        "metadata": {}
                                    },
                                    {
                                        "name": "num_deleted_rows",
                                        "type": "long",
                                        "nullable": true,
                                        "metadata": {}
                                    },
                                    {
                                        "name": "num_inserted_rows",
                                        "type": "long",
                                        "nullable": true,
                                        "metadata": {}
                                    }
                                ]
                            },
                            "data": [
                                [
                                    "2",
                                    "1",
                                    "0",
                                    "1"
                                ]
                            ]
                        },
                        "text/plain": "<Spark SQL result set with 1 rows and 4 fields>"
                    },
                    "metadata": {}
                }
            ],
            "execution_count": 21,
            "metadata": {
                "jupyter": {
                    "source_hidden": false,
                    "outputs_hidden": false
                },
                "nteract": {
                    "transient": {
                        "deleting": false
                    }
                },
                "microsoft": {
                    "language": "sparksql"
                },
                "collapsed": false
            },
            "id": "a06863dc-8e93-4ae5-93e5-454c92cb77fa"
        },
        {
            "cell_type": "code",
            "source": [
                "%%sql\n",
                "SELECT * FROM delta101"
            ],
            "outputs": [
                {
                    "output_type": "display_data",
                    "data": {
                        "application/vnd.livy.statement-meta+json": {
                            "spark_pool": null,
                            "session_id": "0b46a2ad-b0ca-42b8-b7f6-9ab4cc7db587",
                            "statement_id": 24,
                            "state": "finished",
                            "livy_statement_state": "available",
                            "queued_time": "2023-11-23T14:54:48.3915854Z",
                            "session_start_time": null,
                            "execution_start_time": "2023-11-23T14:54:49.070648Z",
                            "execution_finish_time": "2023-11-23T14:55:10.256209Z",
                            "spark_jobs": {
                                "numbers": {
                                    "FAILED": 0,
                                    "SUCCEEDED": 3,
                                    "UNKNOWN": 0,
                                    "RUNNING": 0
                                },
                                "jobs": [
                                    {
                                        "displayName": "take at SQLInterpreter.scala:155",
                                        "dataWritten": 0,
                                        "dataRead": 1878,
                                        "rowCount": 2,
                                        "usageDescription": "",
                                        "jobId": 119,
                                        "name": "take at SQLInterpreter.scala:155",
                                        "description": "Job group for statement 24:\nSELECT * FROM delta101",
                                        "submissionTime": "2023-11-23T14:55:00.380GMT",
                                        "completionTime": "2023-11-23T14:55:09.249GMT",
                                        "stageIds": [
                                            214
                                        ],
                                        "jobGroup": "24",
                                        "status": "SUCCEEDED",
                                        "numTasks": 2,
                                        "numActiveTasks": 0,
                                        "numCompletedTasks": 2,
                                        "numSkippedTasks": 0,
                                        "numFailedTasks": 0,
                                        "numKilledTasks": 0,
                                        "numCompletedIndices": 2,
                                        "numActiveStages": 0,
                                        "numCompletedStages": 1,
                                        "numSkippedStages": 0,
                                        "numFailedStages": 0,
                                        "killedTasksSummary": {}
                                    },
                                    {
                                        "displayName": "take at SQLInterpreter.scala:155",
                                        "dataWritten": 0,
                                        "dataRead": 1002,
                                        "rowCount": 1,
                                        "usageDescription": "",
                                        "jobId": 118,
                                        "name": "take at SQLInterpreter.scala:155",
                                        "description": "Job group for statement 24:\nSELECT * FROM delta101",
                                        "submissionTime": "2023-11-23T14:54:56.930GMT",
                                        "completionTime": "2023-11-23T14:55:00.377GMT",
                                        "stageIds": [
                                            213
                                        ],
                                        "jobGroup": "24",
                                        "status": "SUCCEEDED",
                                        "numTasks": 1,
                                        "numActiveTasks": 0,
                                        "numCompletedTasks": 1,
                                        "numSkippedTasks": 0,
                                        "numFailedTasks": 0,
                                        "numKilledTasks": 0,
                                        "numCompletedIndices": 1,
                                        "numActiveStages": 0,
                                        "numCompletedStages": 1,
                                        "numSkippedStages": 0,
                                        "numFailedStages": 0,
                                        "killedTasksSummary": {}
                                    },
                                    {
                                        "displayName": "$anonfun$recordDeltaOperationInternal$1 at SynapseLoggingShim.scala:107",
                                        "dataWritten": 0,
                                        "dataRead": 4573,
                                        "rowCount": 9,
                                        "usageDescription": "",
                                        "jobId": 117,
                                        "name": "$anonfun$recordDeltaOperationInternal$1 at SynapseLoggingShim.scala:107",
                                        "description": "Delta: Job group for statement 24:\nSELECT * FROM delta101: Filtering files for query",
                                        "submissionTime": "2023-11-23T14:54:49.600GMT",
                                        "completionTime": "2023-11-23T14:54:56.871GMT",
                                        "stageIds": [
                                            212,
                                            211
                                        ],
                                        "jobGroup": "24",
                                        "status": "SUCCEEDED",
                                        "numTasks": 52,
                                        "numActiveTasks": 0,
                                        "numCompletedTasks": 50,
                                        "numSkippedTasks": 2,
                                        "numFailedTasks": 0,
                                        "numKilledTasks": 0,
                                        "numCompletedIndices": 50,
                                        "numActiveStages": 0,
                                        "numCompletedStages": 1,
                                        "numSkippedStages": 1,
                                        "numFailedStages": 0,
                                        "killedTasksSummary": {}
                                    }
                                ],
                                "limit": 20,
                                "rule": "ALL_DESC"
                            },
                            "parent_msg_id": "8b3717a6-7a8d-4ecb-8ffd-c83301b07e91"
                        },
                        "text/plain": "StatementMeta(, 0b46a2ad-b0ca-42b8-b7f6-9ab4cc7db587, 24, Finished, Available)"
                    },
                    "metadata": {}
                },
                {
                    "output_type": "execute_result",
                    "execution_count": 22,
                    "data": {
                        "application/vnd.synapse.sparksql-result+json": {
                            "schema": {
                                "type": "struct",
                                "fields": [
                                    {
                                        "name": "id",
                                        "type": "integer",
                                        "nullable": true,
                                        "metadata": {}
                                    },
                                    {
                                        "name": "name",
                                        "type": "string",
                                        "nullable": true,
                                        "metadata": {}
                                    },
                                    {
                                        "name": "month",
                                        "type": "integer",
                                        "nullable": true,
                                        "metadata": {}
                                    }
                                ]
                            },
                            "data": [
                                [
                                    1,
                                    "one_UPDATE_merge",
                                    1
                                ],
                                [
                                    2,
                                    "merge",
                                    2
                                ],
                                [
                                    0,
                                    "zero",
                                    1
                                ]
                            ]
                        },
                        "text/plain": "<Spark SQL result set with 3 rows and 3 fields>"
                    },
                    "metadata": {}
                }
            ],
            "execution_count": 22,
            "metadata": {
                "jupyter": {
                    "source_hidden": false,
                    "outputs_hidden": false
                },
                "nteract": {
                    "transient": {
                        "deleting": false
                    }
                },
                "microsoft": {
                    "language": "sparksql"
                },
                "collapsed": false
            },
            "id": "ea3f7936-ed9f-441b-a075-8120e26c3b32"
        },
        {
            "cell_type": "code",
            "source": [
                "%%sql\n",
                "DESCRIBE HISTORY delta101"
            ],
            "outputs": [
                {
                    "output_type": "display_data",
                    "data": {
                        "application/vnd.livy.statement-meta+json": {
                            "spark_pool": null,
                            "session_id": "0b46a2ad-b0ca-42b8-b7f6-9ab4cc7db587",
                            "statement_id": 25,
                            "state": "finished",
                            "livy_statement_state": "available",
                            "queued_time": "2023-11-23T14:55:14.5578232Z",
                            "session_start_time": null,
                            "execution_start_time": "2023-11-23T14:55:15.2754255Z",
                            "execution_finish_time": "2023-11-23T14:55:17.7354304Z",
                            "spark_jobs": {
                                "numbers": {
                                    "FAILED": 0,
                                    "SUCCEEDED": 1,
                                    "UNKNOWN": 0,
                                    "RUNNING": 0
                                },
                                "jobs": [
                                    {
                                        "displayName": "$anonfun$recordDeltaOperationInternal$1 at SynapseLoggingShim.scala:107",
                                        "dataWritten": 0,
                                        "dataRead": 0,
                                        "rowCount": 6,
                                        "usageDescription": "",
                                        "jobId": 120,
                                        "name": "$anonfun$recordDeltaOperationInternal$1 at SynapseLoggingShim.scala:107",
                                        "description": "Job group for statement 25:\nDESCRIBE HISTORY delta101",
                                        "submissionTime": "2023-11-23T14:55:15.851GMT",
                                        "completionTime": "2023-11-23T14:55:17.241GMT",
                                        "stageIds": [
                                            215
                                        ],
                                        "jobGroup": "25",
                                        "status": "SUCCEEDED",
                                        "numTasks": 16,
                                        "numActiveTasks": 0,
                                        "numCompletedTasks": 16,
                                        "numSkippedTasks": 0,
                                        "numFailedTasks": 0,
                                        "numKilledTasks": 0,
                                        "numCompletedIndices": 16,
                                        "numActiveStages": 0,
                                        "numCompletedStages": 1,
                                        "numSkippedStages": 0,
                                        "numFailedStages": 0,
                                        "killedTasksSummary": {}
                                    }
                                ],
                                "limit": 20,
                                "rule": "ALL_DESC"
                            },
                            "parent_msg_id": "324cf926-3bf2-41a4-9633-4ba19fca3ebb"
                        },
                        "text/plain": "StatementMeta(, 0b46a2ad-b0ca-42b8-b7f6-9ab4cc7db587, 25, Finished, Available)"
                    },
                    "metadata": {}
                },
                {
                    "output_type": "execute_result",
                    "execution_count": 23,
                    "data": {
                        "application/vnd.synapse.sparksql-result+json": {
                            "schema": {
                                "type": "struct",
                                "fields": [
                                    {
                                        "name": "version",
                                        "type": "long",
                                        "nullable": true,
                                        "metadata": {}
                                    },
                                    {
                                        "name": "timestamp",
                                        "type": "timestamp",
                                        "nullable": true,
                                        "metadata": {}
                                    },
                                    {
                                        "name": "userId",
                                        "type": "string",
                                        "nullable": true,
                                        "metadata": {}
                                    },
                                    {
                                        "name": "userName",
                                        "type": "string",
                                        "nullable": true,
                                        "metadata": {}
                                    },
                                    {
                                        "name": "operation",
                                        "type": "string",
                                        "nullable": true,
                                        "metadata": {}
                                    },
                                    {
                                        "name": "operationParameters",
                                        "type": {
                                            "type": "map",
                                            "keyType": "string",
                                            "valueType": "string",
                                            "valueContainsNull": true
                                        },
                                        "nullable": true,
                                        "metadata": {}
                                    },
                                    {
                                        "name": "job",
                                        "type": {
                                            "type": "struct",
                                            "fields": [
                                                {
                                                    "name": "jobId",
                                                    "type": "string",
                                                    "nullable": true,
                                                    "metadata": {}
                                                },
                                                {
                                                    "name": "jobName",
                                                    "type": "string",
                                                    "nullable": true,
                                                    "metadata": {}
                                                },
                                                {
                                                    "name": "runId",
                                                    "type": "string",
                                                    "nullable": true,
                                                    "metadata": {}
                                                },
                                                {
                                                    "name": "jobOwnerId",
                                                    "type": "string",
                                                    "nullable": true,
                                                    "metadata": {}
                                                },
                                                {
                                                    "name": "triggerType",
                                                    "type": "string",
                                                    "nullable": true,
                                                    "metadata": {}
                                                }
                                            ]
                                        },
                                        "nullable": true,
                                        "metadata": {}
                                    },
                                    {
                                        "name": "notebook",
                                        "type": {
                                            "type": "struct",
                                            "fields": [
                                                {
                                                    "name": "notebookId",
                                                    "type": "string",
                                                    "nullable": true,
                                                    "metadata": {}
                                                }
                                            ]
                                        },
                                        "nullable": true,
                                        "metadata": {}
                                    },
                                    {
                                        "name": "clusterId",
                                        "type": "string",
                                        "nullable": true,
                                        "metadata": {}
                                    },
                                    {
                                        "name": "readVersion",
                                        "type": "long",
                                        "nullable": true,
                                        "metadata": {}
                                    },
                                    {
                                        "name": "isolationLevel",
                                        "type": "string",
                                        "nullable": true,
                                        "metadata": {}
                                    },
                                    {
                                        "name": "isBlindAppend",
                                        "type": "boolean",
                                        "nullable": true,
                                        "metadata": {}
                                    },
                                    {
                                        "name": "operationMetrics",
                                        "type": {
                                            "type": "map",
                                            "keyType": "string",
                                            "valueType": "string",
                                            "valueContainsNull": true
                                        },
                                        "nullable": true,
                                        "metadata": {}
                                    },
                                    {
                                        "name": "userMetadata",
                                        "type": "string",
                                        "nullable": true,
                                        "metadata": {}
                                    },
                                    {
                                        "name": "engineInfo",
                                        "type": "string",
                                        "nullable": true,
                                        "metadata": {}
                                    }
                                ]
                            },
                            "data": [
                                [
                                    "5",
                                    "2023-11-23T14:54:27Z",
                                    null,
                                    null,
                                    "MERGE",
                                    {
                                        "predicate": "[\"(id#6028 = id#6031)\"]",
                                        "matchedPredicates": "[{\"actionType\":\"update\"}]",
                                        "notMatchedPredicates": "[{\"actionType\":\"insert\"}]",
                                        "notMatchedBySourcePredicates": "[]"
                                    },
                                    null,
                                    null,
                                    null,
                                    "4",
                                    "Serializable",
                                    false,
                                    {
                                        "numTargetRowsCopied": "0",
                                        "numTargetRowsDeleted": "0",
                                        "numTargetFilesAdded": "2",
                                        "numTargetBytesAdded": "2487",
                                        "numTargetBytesRemoved": "1240",
                                        "numTargetRowsMatchedUpdated": "1",
                                        "executionTimeMs": "3154",
                                        "numTargetRowsInserted": "1",
                                        "numTargetRowsMatchedDeleted": "0",
                                        "unmodifiedRewriteTimeMs": "480",
                                        "scanTimeMs": "1545",
                                        "numTargetRowsUpdated": "1",
                                        "numOutputRows": "2",
                                        "numTargetRowsNotMatchedBySourceUpdated": "0",
                                        "numTargetChangeFilesAdded": "0",
                                        "numSourceRows": "2",
                                        "numTargetFilesRemoved": "1",
                                        "numTargetRowsNotMatchedBySourceDeleted": "0",
                                        "rewriteTimeMs": "1363"
                                    },
                                    null,
                                    "Apache-Spark/3.4.1.5.3-108466340 Delta-Lake/2.4.0.8"
                                ],
                                [
                                    "4",
                                    "2023-11-23T14:53:42Z",
                                    null,
                                    null,
                                    "RESTORE",
                                    {
                                        "version": "2",
                                        "timestamp": null
                                    },
                                    null,
                                    null,
                                    null,
                                    "3",
                                    "Serializable",
                                    false,
                                    {
                                        "numRestoredFiles": "1",
                                        "removedFilesSize": "0",
                                        "numRemovedFiles": "0",
                                        "restoredFilesSize": "1240",
                                        "numOfFilesAfterRestore": "2",
                                        "tableSizeAfterRestore": "2426"
                                    },
                                    null,
                                    "Apache-Spark/3.4.1.5.3-108466340 Delta-Lake/2.4.0.8"
                                ],
                                [
                                    "3",
                                    "2023-11-23T14:53:30Z",
                                    null,
                                    null,
                                    "DELETE",
                                    {
                                        "predicate": "[\"(id#3223 > 0)\"]"
                                    },
                                    null,
                                    null,
                                    null,
                                    "2",
                                    "Serializable",
                                    false,
                                    {
                                        "numRemovedFiles": "1",
                                        "numRemovedBytes": "1240",
                                        "numCopiedRows": "0",
                                        "numAddedChangeFiles": "0",
                                        "executionTimeMs": "1045",
                                        "numDeletedRows": "1",
                                        "scanTimeMs": "750",
                                        "numAddedFiles": "0",
                                        "numAddedBytes": "0",
                                        "rewriteTimeMs": "294"
                                    },
                                    null,
                                    "Apache-Spark/3.4.1.5.3-108466340 Delta-Lake/2.4.0.8"
                                ],
                                [
                                    "2",
                                    "2023-11-23T14:53:22Z",
                                    null,
                                    null,
                                    "UPDATE",
                                    {
                                        "predicate": "[\"(id#2472 = 1)\"]"
                                    },
                                    null,
                                    null,
                                    null,
                                    "1",
                                    "Serializable",
                                    false,
                                    {
                                        "numRemovedFiles": "1",
                                        "numRemovedBytes": "1189",
                                        "numCopiedRows": "0",
                                        "numAddedChangeFiles": "0",
                                        "executionTimeMs": "1435",
                                        "scanTimeMs": "810",
                                        "numAddedFiles": "1",
                                        "numUpdatedRows": "1",
                                        "numAddedBytes": "1240",
                                        "rewriteTimeMs": "622"
                                    },
                                    null,
                                    "Apache-Spark/3.4.1.5.3-108466340 Delta-Lake/2.4.0.8"
                                ],
                                [
                                    "1",
                                    "2023-11-23T14:53:11Z",
                                    null,
                                    null,
                                    "WRITE",
                                    {
                                        "mode": "Append",
                                        "partitionBy": "[]"
                                    },
                                    null,
                                    null,
                                    null,
                                    "0",
                                    "Serializable",
                                    true,
                                    {
                                        "numFiles": "1",
                                        "numOutputRows": "1",
                                        "numOutputBytes": "1189"
                                    },
                                    null,
                                    "Apache-Spark/3.4.1.5.3-108466340 Delta-Lake/2.4.0.8"
                                ],
                                [
                                    "0",
                                    "2023-11-23T14:52:50Z",
                                    null,
                                    null,
                                    "CONVERT",
                                    {
                                        "catalogTable": "`spark_catalog`.`hr`.`delta101`",
                                        "numFiles": "1",
                                        "partitionedBy": "[\"month\"]",
                                        "sourceFormat": "parquet",
                                        "collectStats": "true"
                                    },
                                    null,
                                    null,
                                    null,
                                    "-1",
                                    "Serializable",
                                    false,
                                    {
                                        "numConvertedFiles": "1"
                                    },
                                    null,
                                    "Apache-Spark/3.4.1.5.3-108466340 Delta-Lake/2.4.0.8"
                                ]
                            ]
                        },
                        "text/plain": "<Spark SQL result set with 6 rows and 15 fields>"
                    },
                    "metadata": {}
                }
            ],
            "execution_count": 23,
            "metadata": {
                "jupyter": {
                    "source_hidden": false,
                    "outputs_hidden": false
                },
                "nteract": {
                    "transient": {
                        "deleting": false
                    }
                },
                "microsoft": {
                    "language": "sparksql"
                },
                "collapsed": false
            },
            "id": "b0b9ed9a-e8e6-4e5e-b9cd-cfb1a4c00e8a"
        },
        {
            "cell_type": "markdown",
            "source": [
                "## ➡️ TIME TRAVEL"
            ],
            "metadata": {
                "nteract": {
                    "transient": {
                        "deleting": false
                    }
                }
            },
            "id": "b91824ea-f8d0-41bf-b07b-b3e171ed3562"
        },
        {
            "cell_type": "code",
            "source": [
                "%%spark\n",
                "val q = spark.read.option(\"versionAsOf\", 3).table(\"delta101\")\n",
                "display(q)"
            ],
            "outputs": [
                {
                    "output_type": "display_data",
                    "data": {
                        "application/vnd.livy.statement-meta+json": {
                            "spark_pool": null,
                            "session_id": "0b46a2ad-b0ca-42b8-b7f6-9ab4cc7db587",
                            "statement_id": 26,
                            "state": "finished",
                            "livy_statement_state": "available",
                            "queued_time": "2023-11-23T14:56:28.6358266Z",
                            "session_start_time": null,
                            "execution_start_time": "2023-11-23T14:56:29.2667764Z",
                            "execution_finish_time": "2023-11-23T14:56:34.2510861Z",
                            "spark_jobs": {
                                "numbers": {
                                    "FAILED": 0,
                                    "SUCCEEDED": 6,
                                    "UNKNOWN": 0,
                                    "RUNNING": 0
                                },
                                "jobs": [
                                    {
                                        "displayName": "getRowsInJsonString at Display.scala:452",
                                        "dataWritten": 0,
                                        "dataRead": 931,
                                        "rowCount": 1,
                                        "usageDescription": "",
                                        "jobId": 126,
                                        "name": "getRowsInJsonString at Display.scala:452",
                                        "description": "Job group for statement 26:\nval q = spark.read.option(\"versionAsOf\", 3).table(\"delta101\")\ndisplay(q)",
                                        "submissionTime": "2023-11-23T14:56:33.252GMT",
                                        "completionTime": "2023-11-23T14:56:33.400GMT",
                                        "stageIds": [
                                            225
                                        ],
                                        "jobGroup": "26",
                                        "status": "SUCCEEDED",
                                        "numTasks": 1,
                                        "numActiveTasks": 0,
                                        "numCompletedTasks": 1,
                                        "numSkippedTasks": 0,
                                        "numFailedTasks": 0,
                                        "numKilledTasks": 0,
                                        "numCompletedIndices": 1,
                                        "numActiveStages": 0,
                                        "numCompletedStages": 1,
                                        "numSkippedStages": 0,
                                        "numFailedStages": 0,
                                        "killedTasksSummary": {}
                                    },
                                    {
                                        "displayName": "$anonfun$recordDeltaOperationInternal$1 at SynapseLoggingShim.scala:107",
                                        "dataWritten": 0,
                                        "dataRead": 4359,
                                        "rowCount": 50,
                                        "usageDescription": "",
                                        "jobId": 125,
                                        "name": "$anonfun$recordDeltaOperationInternal$1 at SynapseLoggingShim.scala:107",
                                        "description": "Delta: Delta: Job group for statement 26:\nval q = spark.read.option(\"versionAsOf\", 3).table(\"delta101\")\ndisplay(q): Filtering files for query: Compute snapshot for version: 3",
                                        "submissionTime": "2023-11-23T14:56:33.085GMT",
                                        "completionTime": "2023-11-23T14:56:33.169GMT",
                                        "stageIds": [
                                            222,
                                            223,
                                            224
                                        ],
                                        "jobGroup": "26",
                                        "status": "SUCCEEDED",
                                        "numTasks": 55,
                                        "numActiveTasks": 0,
                                        "numCompletedTasks": 1,
                                        "numSkippedTasks": 54,
                                        "numFailedTasks": 0,
                                        "numKilledTasks": 0,
                                        "numCompletedIndices": 1,
                                        "numActiveStages": 0,
                                        "numCompletedStages": 1,
                                        "numSkippedStages": 2,
                                        "numFailedStages": 0,
                                        "killedTasksSummary": {}
                                    },
                                    {
                                        "displayName": "$anonfun$recordDeltaOperationInternal$1 at SynapseLoggingShim.scala:107",
                                        "dataWritten": 4359,
                                        "dataRead": 2178,
                                        "rowCount": 55,
                                        "usageDescription": "",
                                        "jobId": 124,
                                        "name": "$anonfun$recordDeltaOperationInternal$1 at SynapseLoggingShim.scala:107",
                                        "description": "Delta: Delta: Job group for statement 26:\nval q = spark.read.option(\"versionAsOf\", 3).table(\"delta101\")\ndisplay(q): Filtering files for query: Compute snapshot for version: 3",
                                        "submissionTime": "2023-11-23T14:56:32.110GMT",
                                        "completionTime": "2023-11-23T14:56:33.059GMT",
                                        "stageIds": [
                                            220,
                                            221
                                        ],
                                        "jobGroup": "26",
                                        "status": "SUCCEEDED",
                                        "numTasks": 54,
                                        "numActiveTasks": 0,
                                        "numCompletedTasks": 50,
                                        "numSkippedTasks": 4,
                                        "numFailedTasks": 0,
                                        "numKilledTasks": 0,
                                        "numCompletedIndices": 50,
                                        "numActiveStages": 0,
                                        "numCompletedStages": 1,
                                        "numSkippedStages": 1,
                                        "numFailedStages": 0,
                                        "killedTasksSummary": {}
                                    },
                                    {
                                        "displayName": "$anonfun$recordDeltaOperationInternal$1 at SynapseLoggingShim.scala:107",
                                        "dataWritten": 0,
                                        "dataRead": 5098,
                                        "rowCount": 10,
                                        "usageDescription": "",
                                        "jobId": 123,
                                        "name": "$anonfun$recordDeltaOperationInternal$1 at SynapseLoggingShim.scala:107",
                                        "description": "Delta: Job group for statement 26:\nval q = spark.read.option(\"versionAsOf\", 3).table(\"delta101\")\ndisplay(q): Filtering files for query",
                                        "submissionTime": "2023-11-23T14:56:31.507GMT",
                                        "completionTime": "2023-11-23T14:56:32.068GMT",
                                        "stageIds": [
                                            219,
                                            218
                                        ],
                                        "jobGroup": "26",
                                        "status": "SUCCEEDED",
                                        "numTasks": 54,
                                        "numActiveTasks": 0,
                                        "numCompletedTasks": 50,
                                        "numSkippedTasks": 4,
                                        "numFailedTasks": 0,
                                        "numKilledTasks": 0,
                                        "numCompletedIndices": 50,
                                        "numActiveStages": 0,
                                        "numCompletedStages": 1,
                                        "numSkippedStages": 1,
                                        "numFailedStages": 0,
                                        "killedTasksSummary": {}
                                    },
                                    {
                                        "displayName": "$anonfun$recordDeltaOperationInternal$1 at SynapseLoggingShim.scala:107",
                                        "dataWritten": 5098,
                                        "dataRead": 4942,
                                        "rowCount": 20,
                                        "usageDescription": "",
                                        "jobId": 122,
                                        "name": "$anonfun$recordDeltaOperationInternal$1 at SynapseLoggingShim.scala:107",
                                        "description": "Delta: Job group for statement 26:\nval q = spark.read.option(\"versionAsOf\", 3).table(\"delta101\")\ndisplay(q): Filtering files for query",
                                        "submissionTime": "2023-11-23T14:56:30.975GMT",
                                        "completionTime": "2023-11-23T14:56:31.307GMT",
                                        "stageIds": [
                                            217
                                        ],
                                        "jobGroup": "26",
                                        "status": "SUCCEEDED",
                                        "numTasks": 4,
                                        "numActiveTasks": 0,
                                        "numCompletedTasks": 4,
                                        "numSkippedTasks": 0,
                                        "numFailedTasks": 0,
                                        "numKilledTasks": 0,
                                        "numCompletedIndices": 4,
                                        "numActiveStages": 0,
                                        "numCompletedStages": 1,
                                        "numSkippedStages": 0,
                                        "numFailedStages": 0,
                                        "killedTasksSummary": {}
                                    },
                                    {
                                        "displayName": "toString at String.java:2951",
                                        "dataWritten": 0,
                                        "dataRead": 17104,
                                        "rowCount": 10,
                                        "usageDescription": "",
                                        "jobId": 121,
                                        "name": "toString at String.java:2951",
                                        "description": "Job group for statement 26:\nval q = spark.read.option(\"versionAsOf\", 3).table(\"delta101\")\ndisplay(q)",
                                        "submissionTime": "2023-11-23T14:56:30.287GMT",
                                        "completionTime": "2023-11-23T14:56:30.600GMT",
                                        "stageIds": [
                                            216
                                        ],
                                        "jobGroup": "26",
                                        "status": "SUCCEEDED",
                                        "numTasks": 4,
                                        "numActiveTasks": 0,
                                        "numCompletedTasks": 4,
                                        "numSkippedTasks": 0,
                                        "numFailedTasks": 0,
                                        "numKilledTasks": 0,
                                        "numCompletedIndices": 4,
                                        "numActiveStages": 0,
                                        "numCompletedStages": 1,
                                        "numSkippedStages": 0,
                                        "numFailedStages": 0,
                                        "killedTasksSummary": {}
                                    }
                                ],
                                "limit": 20,
                                "rule": "ALL_DESC"
                            },
                            "parent_msg_id": "337b6dcc-d482-4397-bb44-c9fba97af9c1"
                        },
                        "text/plain": "StatementMeta(, 0b46a2ad-b0ca-42b8-b7f6-9ab4cc7db587, 26, Finished, Available)"
                    },
                    "metadata": {}
                },
                {
                    "output_type": "display_data",
                    "data": {
                        "application/vnd.synapse.widget-view+json": {
                            "widget_id": "166f1f51-3a69-41c9-821b-3d91f9cdcb78",
                            "widget_type": "Synapse.DataFrame"
                        },
                        "text/plain": "SynapseWidget(Synapse.DataFrame, 166f1f51-3a69-41c9-821b-3d91f9cdcb78)"
                    },
                    "metadata": {}
                },
                {
                    "output_type": "stream",
                    "name": "stdout",
                    "text": [
                        "\nq: org.apache.spark.sql.DataFrame = [id: int, name: string ... 1 more field]\n"
                    ]
                }
            ],
            "execution_count": 24,
            "metadata": {
                "jupyter": {
                    "source_hidden": false,
                    "outputs_hidden": false
                },
                "nteract": {
                    "transient": {
                        "deleting": false
                    }
                },
                "microsoft": {
                    "language": "scala"
                },
                "collapsed": false
            },
            "id": "7d1e304e-4528-43cf-97e3-0768f650868f"
        },
        {
            "cell_type": "code",
            "source": [
                "%%sql\n",
                "SELECT * FROM delta101\n",
                "VERSION AS OF 5"
            ],
            "outputs": [
                {
                    "output_type": "display_data",
                    "data": {
                        "application/vnd.livy.statement-meta+json": {
                            "spark_pool": null,
                            "session_id": "0b46a2ad-b0ca-42b8-b7f6-9ab4cc7db587",
                            "statement_id": 28,
                            "state": "finished",
                            "livy_statement_state": "available",
                            "queued_time": "2023-11-23T14:57:28.3455247Z",
                            "session_start_time": null,
                            "execution_start_time": "2023-11-23T14:57:28.9936314Z",
                            "execution_finish_time": "2023-11-23T14:57:30.5633047Z",
                            "spark_jobs": {
                                "numbers": {
                                    "FAILED": 0,
                                    "SUCCEEDED": 3,
                                    "UNKNOWN": 0,
                                    "RUNNING": 0
                                },
                                "jobs": [
                                    {
                                        "displayName": "take at SQLInterpreter.scala:155",
                                        "dataWritten": 0,
                                        "dataRead": 0,
                                        "rowCount": 2,
                                        "usageDescription": "",
                                        "jobId": 132,
                                        "name": "take at SQLInterpreter.scala:155",
                                        "description": "Job group for statement 28:\nSELECT * FROM delta101\nVERSION AS OF 5",
                                        "submissionTime": "2023-11-23T14:57:29.837GMT",
                                        "completionTime": "2023-11-23T14:57:29.911GMT",
                                        "stageIds": [
                                            233
                                        ],
                                        "jobGroup": "28",
                                        "status": "SUCCEEDED",
                                        "numTasks": 2,
                                        "numActiveTasks": 0,
                                        "numCompletedTasks": 2,
                                        "numSkippedTasks": 0,
                                        "numFailedTasks": 0,
                                        "numKilledTasks": 0,
                                        "numCompletedIndices": 2,
                                        "numActiveStages": 0,
                                        "numCompletedStages": 1,
                                        "numSkippedStages": 0,
                                        "numFailedStages": 0,
                                        "killedTasksSummary": {}
                                    },
                                    {
                                        "displayName": "take at SQLInterpreter.scala:155",
                                        "dataWritten": 0,
                                        "dataRead": 0,
                                        "rowCount": 1,
                                        "usageDescription": "",
                                        "jobId": 131,
                                        "name": "take at SQLInterpreter.scala:155",
                                        "description": "Job group for statement 28:\nSELECT * FROM delta101\nVERSION AS OF 5",
                                        "submissionTime": "2023-11-23T14:57:29.739GMT",
                                        "completionTime": "2023-11-23T14:57:29.833GMT",
                                        "stageIds": [
                                            232
                                        ],
                                        "jobGroup": "28",
                                        "status": "SUCCEEDED",
                                        "numTasks": 1,
                                        "numActiveTasks": 0,
                                        "numCompletedTasks": 1,
                                        "numSkippedTasks": 0,
                                        "numFailedTasks": 0,
                                        "numKilledTasks": 0,
                                        "numCompletedIndices": 1,
                                        "numActiveStages": 0,
                                        "numCompletedStages": 1,
                                        "numSkippedStages": 0,
                                        "numFailedStages": 0,
                                        "killedTasksSummary": {}
                                    },
                                    {
                                        "displayName": "$anonfun$recordDeltaOperationInternal$1 at SynapseLoggingShim.scala:107",
                                        "dataWritten": 0,
                                        "dataRead": 1865,
                                        "rowCount": 3,
                                        "usageDescription": "",
                                        "jobId": 130,
                                        "name": "$anonfun$recordDeltaOperationInternal$1 at SynapseLoggingShim.scala:107",
                                        "description": "Delta: Job group for statement 28:\nSELECT * FROM delta101\nVERSION AS OF 5: Filtering files for query",
                                        "submissionTime": "2023-11-23T14:57:29.564GMT",
                                        "completionTime": "2023-11-23T14:57:29.684GMT",
                                        "stageIds": [
                                            230,
                                            231
                                        ],
                                        "jobGroup": "28",
                                        "status": "SUCCEEDED",
                                        "numTasks": 52,
                                        "numActiveTasks": 0,
                                        "numCompletedTasks": 50,
                                        "numSkippedTasks": 2,
                                        "numFailedTasks": 0,
                                        "numKilledTasks": 0,
                                        "numCompletedIndices": 50,
                                        "numActiveStages": 0,
                                        "numCompletedStages": 1,
                                        "numSkippedStages": 1,
                                        "numFailedStages": 0,
                                        "killedTasksSummary": {}
                                    }
                                ],
                                "limit": 20,
                                "rule": "ALL_DESC"
                            },
                            "parent_msg_id": "ebc791d6-0724-448c-9744-03bb976ede48"
                        },
                        "text/plain": "StatementMeta(, 0b46a2ad-b0ca-42b8-b7f6-9ab4cc7db587, 28, Finished, Available)"
                    },
                    "metadata": {}
                },
                {
                    "output_type": "execute_result",
                    "execution_count": 26,
                    "data": {
                        "application/vnd.synapse.sparksql-result+json": {
                            "schema": {
                                "type": "struct",
                                "fields": [
                                    {
                                        "name": "id",
                                        "type": "integer",
                                        "nullable": true,
                                        "metadata": {}
                                    },
                                    {
                                        "name": "name",
                                        "type": "string",
                                        "nullable": true,
                                        "metadata": {}
                                    },
                                    {
                                        "name": "month",
                                        "type": "integer",
                                        "nullable": true,
                                        "metadata": {}
                                    }
                                ]
                            },
                            "data": [
                                [
                                    1,
                                    "one_UPDATE_merge",
                                    1
                                ],
                                [
                                    2,
                                    "merge",
                                    2
                                ],
                                [
                                    0,
                                    "zero",
                                    1
                                ]
                            ]
                        },
                        "text/plain": "<Spark SQL result set with 3 rows and 3 fields>"
                    },
                    "metadata": {}
                }
            ],
            "execution_count": 26,
            "metadata": {
                "jupyter": {
                    "source_hidden": false,
                    "outputs_hidden": false
                },
                "nteract": {
                    "transient": {
                        "deleting": false
                    }
                },
                "microsoft": {
                    "language": "sparksql"
                },
                "collapsed": false
            },
            "id": "b43adc28-475b-42ce-8cb8-50f2172ec724"
        },
        {
            "cell_type": "markdown",
            "source": [
                "## ➡️ OPTIMIZE\n",
                "\n",
                "As Delta tables change, performance and storage cost efficiency tend to degrade for the following reasons:\n",
                "\n",
                "- New data added to the table might skew data\n",
                "- Batch and streaming data ingestion rates might bring in many small files\n",
                "- Update and delete operations eventually create read overhead; parquet files are immutable by design, so Delta tables adds new parquet files which the changeset, further amplifying the issues imposed by the first two items.\n",
                "- No longer needed data files and log files available in the storage.\n",
                "\n",
                "In order to keep the tables at the best state for best performance, perform bin-compaction and vacuuming operations in the Delta tables. Bin-compaction is achieved by the OPTIMIZE command; it merges all changes into bigger, consolidated parquet files.\n",
                "\n",
                "The following command structures bin-compact and rewrite all affected files using V-Order"
            ],
            "metadata": {
                "nteract": {
                    "transient": {
                        "deleting": false
                    }
                }
            },
            "id": "3b0bd6f8-066e-4748-b6ad-48f05156dc85"
        },
        {
            "cell_type": "code",
            "source": [
                "%%sql\n",
                "OPTIMIZE delta101 VORDER"
            ],
            "outputs": [
                {
                    "output_type": "display_data",
                    "data": {
                        "application/vnd.livy.statement-meta+json": {
                            "spark_pool": null,
                            "session_id": "0b46a2ad-b0ca-42b8-b7f6-9ab4cc7db587",
                            "statement_id": 32,
                            "state": "finished",
                            "livy_statement_state": "available",
                            "queued_time": "2023-11-23T15:01:35.1497694Z",
                            "session_start_time": null,
                            "execution_start_time": "2023-11-23T15:01:35.8824131Z",
                            "execution_finish_time": "2023-11-23T15:01:37.4756396Z",
                            "spark_jobs": {
                                "numbers": {
                                    "FAILED": 0,
                                    "SUCCEEDED": 1,
                                    "UNKNOWN": 0,
                                    "RUNNING": 0
                                },
                                "jobs": [
                                    {
                                        "displayName": "$anonfun$recordDeltaOperationInternal$1 at SynapseLoggingShim.scala:107",
                                        "dataWritten": 0,
                                        "dataRead": 2969,
                                        "rowCount": 8,
                                        "usageDescription": "",
                                        "jobId": 140,
                                        "name": "$anonfun$recordDeltaOperationInternal$1 at SynapseLoggingShim.scala:107",
                                        "description": "Job group for statement 32:\nOPTIMIZE delta101 VORDER",
                                        "submissionTime": "2023-11-23T15:01:36.774GMT",
                                        "completionTime": "2023-11-23T15:01:36.969GMT",
                                        "stageIds": [
                                            246,
                                            247
                                        ],
                                        "jobGroup": "32",
                                        "status": "SUCCEEDED",
                                        "numTasks": 53,
                                        "numActiveTasks": 0,
                                        "numCompletedTasks": 50,
                                        "numSkippedTasks": 3,
                                        "numFailedTasks": 0,
                                        "numKilledTasks": 0,
                                        "numCompletedIndices": 50,
                                        "numActiveStages": 0,
                                        "numCompletedStages": 1,
                                        "numSkippedStages": 1,
                                        "numFailedStages": 0,
                                        "killedTasksSummary": {}
                                    }
                                ],
                                "limit": 20,
                                "rule": "ALL_DESC"
                            },
                            "parent_msg_id": "9fc6b8bf-ea39-482e-81dc-1ccf96c1828a"
                        },
                        "text/plain": "StatementMeta(, 0b46a2ad-b0ca-42b8-b7f6-9ab4cc7db587, 32, Finished, Available)"
                    },
                    "metadata": {}
                },
                {
                    "output_type": "execute_result",
                    "execution_count": 29,
                    "data": {
                        "application/vnd.synapse.sparksql-result+json": {
                            "schema": {
                                "type": "struct",
                                "fields": [
                                    {
                                        "name": "path",
                                        "type": "string",
                                        "nullable": true,
                                        "metadata": {}
                                    },
                                    {
                                        "name": "metrics",
                                        "type": {
                                            "type": "struct",
                                            "fields": [
                                                {
                                                    "name": "numFilesAdded",
                                                    "type": "long",
                                                    "nullable": false,
                                                    "metadata": {}
                                                },
                                                {
                                                    "name": "numFilesRemoved",
                                                    "type": "long",
                                                    "nullable": false,
                                                    "metadata": {}
                                                },
                                                {
                                                    "name": "filesAdded",
                                                    "type": {
                                                        "type": "struct",
                                                        "fields": [
                                                            {
                                                                "name": "min",
                                                                "type": "long",
                                                                "nullable": true,
                                                                "metadata": {}
                                                            },
                                                            {
                                                                "name": "max",
                                                                "type": "long",
                                                                "nullable": true,
                                                                "metadata": {}
                                                            },
                                                            {
                                                                "name": "avg",
                                                                "type": "double",
                                                                "nullable": false,
                                                                "metadata": {}
                                                            },
                                                            {
                                                                "name": "totalFiles",
                                                                "type": "long",
                                                                "nullable": false,
                                                                "metadata": {}
                                                            },
                                                            {
                                                                "name": "totalSize",
                                                                "type": "long",
                                                                "nullable": false,
                                                                "metadata": {}
                                                            }
                                                        ]
                                                    },
                                                    "nullable": true,
                                                    "metadata": {}
                                                },
                                                {
                                                    "name": "filesRemoved",
                                                    "type": {
                                                        "type": "struct",
                                                        "fields": [
                                                            {
                                                                "name": "min",
                                                                "type": "long",
                                                                "nullable": true,
                                                                "metadata": {}
                                                            },
                                                            {
                                                                "name": "max",
                                                                "type": "long",
                                                                "nullable": true,
                                                                "metadata": {}
                                                            },
                                                            {
                                                                "name": "avg",
                                                                "type": "double",
                                                                "nullable": false,
                                                                "metadata": {}
                                                            },
                                                            {
                                                                "name": "totalFiles",
                                                                "type": "long",
                                                                "nullable": false,
                                                                "metadata": {}
                                                            },
                                                            {
                                                                "name": "totalSize",
                                                                "type": "long",
                                                                "nullable": false,
                                                                "metadata": {}
                                                            }
                                                        ]
                                                    },
                                                    "nullable": true,
                                                    "metadata": {}
                                                },
                                                {
                                                    "name": "partitionsOptimized",
                                                    "type": "long",
                                                    "nullable": false,
                                                    "metadata": {}
                                                },
                                                {
                                                    "name": "zOrderStats",
                                                    "type": {
                                                        "type": "struct",
                                                        "fields": [
                                                            {
                                                                "name": "strategyName",
                                                                "type": "string",
                                                                "nullable": true,
                                                                "metadata": {}
                                                            },
                                                            {
                                                                "name": "inputCubeFiles",
                                                                "type": {
                                                                    "type": "struct",
                                                                    "fields": [
                                                                        {
                                                                            "name": "num",
                                                                            "type": "long",
                                                                            "nullable": false,
                                                                            "metadata": {}
                                                                        },
                                                                        {
                                                                            "name": "size",
                                                                            "type": "long",
                                                                            "nullable": false,
                                                                            "metadata": {}
                                                                        }
                                                                    ]
                                                                },
                                                                "nullable": true,
                                                                "metadata": {}
                                                            },
                                                            {
                                                                "name": "inputOtherFiles",
                                                                "type": {
                                                                    "type": "struct",
                                                                    "fields": [
                                                                        {
                                                                            "name": "num",
                                                                            "type": "long",
                                                                            "nullable": false,
                                                                            "metadata": {}
                                                                        },
                                                                        {
                                                                            "name": "size",
                                                                            "type": "long",
                                                                            "nullable": false,
                                                                            "metadata": {}
                                                                        }
                                                                    ]
                                                                },
                                                                "nullable": true,
                                                                "metadata": {}
                                                            },
                                                            {
                                                                "name": "inputNumCubes",
                                                                "type": "long",
                                                                "nullable": false,
                                                                "metadata": {}
                                                            },
                                                            {
                                                                "name": "mergedFiles",
                                                                "type": {
                                                                    "type": "struct",
                                                                    "fields": [
                                                                        {
                                                                            "name": "num",
                                                                            "type": "long",
                                                                            "nullable": false,
                                                                            "metadata": {}
                                                                        },
                                                                        {
                                                                            "name": "size",
                                                                            "type": "long",
                                                                            "nullable": false,
                                                                            "metadata": {}
                                                                        }
                                                                    ]
                                                                },
                                                                "nullable": true,
                                                                "metadata": {}
                                                            },
                                                            {
                                                                "name": "numOutputCubes",
                                                                "type": "long",
                                                                "nullable": false,
                                                                "metadata": {}
                                                            },
                                                            {
                                                                "name": "mergedNumCubes",
                                                                "type": "long",
                                                                "nullable": true,
                                                                "metadata": {}
                                                            }
                                                        ]
                                                    },
                                                    "nullable": true,
                                                    "metadata": {}
                                                },
                                                {
                                                    "name": "numBatches",
                                                    "type": "long",
                                                    "nullable": false,
                                                    "metadata": {}
                                                },
                                                {
                                                    "name": "totalConsideredFiles",
                                                    "type": "long",
                                                    "nullable": false,
                                                    "metadata": {}
                                                },
                                                {
                                                    "name": "totalFilesSkipped",
                                                    "type": "long",
                                                    "nullable": false,
                                                    "metadata": {}
                                                },
                                                {
                                                    "name": "preserveInsertionOrder",
                                                    "type": "boolean",
                                                    "nullable": false,
                                                    "metadata": {}
                                                },
                                                {
                                                    "name": "numFilesSkippedToReduceWriteAmplification",
                                                    "type": "long",
                                                    "nullable": false,
                                                    "metadata": {}
                                                },
                                                {
                                                    "name": "numBytesSkippedToReduceWriteAmplification",
                                                    "type": "long",
                                                    "nullable": false,
                                                    "metadata": {}
                                                },
                                                {
                                                    "name": "startTimeMs",
                                                    "type": "long",
                                                    "nullable": false,
                                                    "metadata": {}
                                                },
                                                {
                                                    "name": "endTimeMs",
                                                    "type": "long",
                                                    "nullable": false,
                                                    "metadata": {}
                                                },
                                                {
                                                    "name": "totalClusterParallelism",
                                                    "type": "long",
                                                    "nullable": false,
                                                    "metadata": {}
                                                },
                                                {
                                                    "name": "totalScheduledTasks",
                                                    "type": "long",
                                                    "nullable": false,
                                                    "metadata": {}
                                                },
                                                {
                                                    "name": "autoCompactParallelismStats",
                                                    "type": {
                                                        "type": "struct",
                                                        "fields": [
                                                            {
                                                                "name": "maxClusterActiveParallelism",
                                                                "type": "long",
                                                                "nullable": true,
                                                                "metadata": {}
                                                            },
                                                            {
                                                                "name": "minClusterActiveParallelism",
                                                                "type": "long",
                                                                "nullable": true,
                                                                "metadata": {}
                                                            },
                                                            {
                                                                "name": "maxSessionActiveParallelism",
                                                                "type": "long",
                                                                "nullable": true,
                                                                "metadata": {}
                                                            },
                                                            {
                                                                "name": "minSessionActiveParallelism",
                                                                "type": "long",
                                                                "nullable": true,
                                                                "metadata": {}
                                                            }
                                                        ]
                                                    },
                                                    "nullable": true,
                                                    "metadata": {}
                                                },
                                                {
                                                    "name": "deletionVectorStats",
                                                    "type": {
                                                        "type": "struct",
                                                        "fields": [
                                                            {
                                                                "name": "numDeletionVectorsRemoved",
                                                                "type": "long",
                                                                "nullable": false,
                                                                "metadata": {}
                                                            },
                                                            {
                                                                "name": "numDeletionVectorRowsRemoved",
                                                                "type": "long",
                                                                "nullable": false,
                                                                "metadata": {}
                                                            }
                                                        ]
                                                    },
                                                    "nullable": true,
                                                    "metadata": {}
                                                },
                                                {
                                                    "name": "numTableColumns",
                                                    "type": "long",
                                                    "nullable": false,
                                                    "metadata": {}
                                                },
                                                {
                                                    "name": "numTableColumnsWithStats",
                                                    "type": "long",
                                                    "nullable": false,
                                                    "metadata": {}
                                                }
                                            ]
                                        },
                                        "nullable": true,
                                        "metadata": {}
                                    }
                                ]
                            },
                            "data": [
                                [
                                    "abfss://8b66e216-bf25-482e-aad8-e674ad9dbae6@onelake.dfs.fabric.microsoft.com/e4fac868-d1ce-48e0-8d1d-040dc8b27d74/Tables/delta101",
                                    {
                                        "schema": [
                                            {
                                                "name": "numFilesAdded",
                                                "dataType": {},
                                                "nullable": false,
                                                "metadata": {
                                                    "map": {}
                                                }
                                            },
                                            {
                                                "name": "numFilesRemoved",
                                                "dataType": {},
                                                "nullable": false,
                                                "metadata": {
                                                    "map": {}
                                                }
                                            },
                                            {
                                                "name": "filesAdded",
                                                "dataType": [
                                                    {
                                                        "name": "min",
                                                        "dataType": {},
                                                        "nullable": true,
                                                        "metadata": {
                                                            "map": {}
                                                        }
                                                    },
                                                    {
                                                        "name": "max",
                                                        "dataType": {},
                                                        "nullable": true,
                                                        "metadata": {
                                                            "map": {}
                                                        }
                                                    },
                                                    {
                                                        "name": "avg",
                                                        "dataType": {},
                                                        "nullable": false,
                                                        "metadata": {
                                                            "map": {}
                                                        }
                                                    },
                                                    {
                                                        "name": "totalFiles",
                                                        "dataType": {},
                                                        "nullable": false,
                                                        "metadata": {
                                                            "map": {}
                                                        }
                                                    },
                                                    {
                                                        "name": "totalSize",
                                                        "dataType": {},
                                                        "nullable": false,
                                                        "metadata": {
                                                            "map": {}
                                                        }
                                                    }
                                                ],
                                                "nullable": true,
                                                "metadata": {
                                                    "map": {}
                                                }
                                            },
                                            {
                                                "name": "filesRemoved",
                                                "dataType": [
                                                    {
                                                        "name": "min",
                                                        "dataType": {},
                                                        "nullable": true,
                                                        "metadata": {
                                                            "map": {}
                                                        }
                                                    },
                                                    {
                                                        "name": "max",
                                                        "dataType": {},
                                                        "nullable": true,
                                                        "metadata": {
                                                            "map": {}
                                                        }
                                                    },
                                                    {
                                                        "name": "avg",
                                                        "dataType": {},
                                                        "nullable": false,
                                                        "metadata": {
                                                            "map": {}
                                                        }
                                                    },
                                                    {
                                                        "name": "totalFiles",
                                                        "dataType": {},
                                                        "nullable": false,
                                                        "metadata": {
                                                            "map": {}
                                                        }
                                                    },
                                                    {
                                                        "name": "totalSize",
                                                        "dataType": {},
                                                        "nullable": false,
                                                        "metadata": {
                                                            "map": {}
                                                        }
                                                    }
                                                ],
                                                "nullable": true,
                                                "metadata": {
                                                    "map": {}
                                                }
                                            },
                                            {
                                                "name": "partitionsOptimized",
                                                "dataType": {},
                                                "nullable": false,
                                                "metadata": {
                                                    "map": {}
                                                }
                                            },
                                            {
                                                "name": "zOrderStats",
                                                "dataType": [
                                                    {
                                                        "name": "strategyName",
                                                        "dataType": {},
                                                        "nullable": true,
                                                        "metadata": {
                                                            "map": {}
                                                        }
                                                    },
                                                    {
                                                        "name": "inputCubeFiles",
                                                        "dataType": [
                                                            {
                                                                "name": "num",
                                                                "dataType": {},
                                                                "nullable": false,
                                                                "metadata": {
                                                                    "map": {}
                                                                }
                                                            },
                                                            {
                                                                "name": "size",
                                                                "dataType": {},
                                                                "nullable": false,
                                                                "metadata": {
                                                                    "map": {}
                                                                }
                                                            }
                                                        ],
                                                        "nullable": true,
                                                        "metadata": {
                                                            "map": {}
                                                        }
                                                    },
                                                    {
                                                        "name": "inputOtherFiles",
                                                        "dataType": [
                                                            {
                                                                "name": "num",
                                                                "dataType": {},
                                                                "nullable": false,
                                                                "metadata": {
                                                                    "map": {}
                                                                }
                                                            },
                                                            {
                                                                "name": "size",
                                                                "dataType": {},
                                                                "nullable": false,
                                                                "metadata": {
                                                                    "map": {}
                                                                }
                                                            }
                                                        ],
                                                        "nullable": true,
                                                        "metadata": {
                                                            "map": {}
                                                        }
                                                    },
                                                    {
                                                        "name": "inputNumCubes",
                                                        "dataType": {},
                                                        "nullable": false,
                                                        "metadata": {
                                                            "map": {}
                                                        }
                                                    },
                                                    {
                                                        "name": "mergedFiles",
                                                        "dataType": [
                                                            {
                                                                "name": "num",
                                                                "dataType": {},
                                                                "nullable": false,
                                                                "metadata": {
                                                                    "map": {}
                                                                }
                                                            },
                                                            {
                                                                "name": "size",
                                                                "dataType": {},
                                                                "nullable": false,
                                                                "metadata": {
                                                                    "map": {}
                                                                }
                                                            }
                                                        ],
                                                        "nullable": true,
                                                        "metadata": {
                                                            "map": {}
                                                        }
                                                    },
                                                    {
                                                        "name": "numOutputCubes",
                                                        "dataType": {},
                                                        "nullable": false,
                                                        "metadata": {
                                                            "map": {}
                                                        }
                                                    },
                                                    {
                                                        "name": "mergedNumCubes",
                                                        "dataType": {},
                                                        "nullable": true,
                                                        "metadata": {
                                                            "map": {}
                                                        }
                                                    }
                                                ],
                                                "nullable": true,
                                                "metadata": {
                                                    "map": {}
                                                }
                                            },
                                            {
                                                "name": "numBatches",
                                                "dataType": {},
                                                "nullable": false,
                                                "metadata": {
                                                    "map": {}
                                                }
                                            },
                                            {
                                                "name": "totalConsideredFiles",
                                                "dataType": {},
                                                "nullable": false,
                                                "metadata": {
                                                    "map": {}
                                                }
                                            },
                                            {
                                                "name": "totalFilesSkipped",
                                                "dataType": {},
                                                "nullable": false,
                                                "metadata": {
                                                    "map": {}
                                                }
                                            },
                                            {
                                                "name": "preserveInsertionOrder",
                                                "dataType": {},
                                                "nullable": false,
                                                "metadata": {
                                                    "map": {}
                                                }
                                            },
                                            {
                                                "name": "numFilesSkippedToReduceWriteAmplification",
                                                "dataType": {},
                                                "nullable": false,
                                                "metadata": {
                                                    "map": {}
                                                }
                                            },
                                            {
                                                "name": "numBytesSkippedToReduceWriteAmplification",
                                                "dataType": {},
                                                "nullable": false,
                                                "metadata": {
                                                    "map": {}
                                                }
                                            },
                                            {
                                                "name": "startTimeMs",
                                                "dataType": {},
                                                "nullable": false,
                                                "metadata": {
                                                    "map": {}
                                                }
                                            },
                                            {
                                                "name": "endTimeMs",
                                                "dataType": {},
                                                "nullable": false,
                                                "metadata": {
                                                    "map": {}
                                                }
                                            },
                                            {
                                                "name": "totalClusterParallelism",
                                                "dataType": {},
                                                "nullable": false,
                                                "metadata": {
                                                    "map": {}
                                                }
                                            },
                                            {
                                                "name": "totalScheduledTasks",
                                                "dataType": {},
                                                "nullable": false,
                                                "metadata": {
                                                    "map": {}
                                                }
                                            },
                                            {
                                                "name": "autoCompactParallelismStats",
                                                "dataType": [
                                                    {
                                                        "name": "maxClusterActiveParallelism",
                                                        "dataType": {},
                                                        "nullable": true,
                                                        "metadata": {
                                                            "map": {}
                                                        }
                                                    },
                                                    {
                                                        "name": "minClusterActiveParallelism",
                                                        "dataType": {},
                                                        "nullable": true,
                                                        "metadata": {
                                                            "map": {}
                                                        }
                                                    },
                                                    {
                                                        "name": "maxSessionActiveParallelism",
                                                        "dataType": {},
                                                        "nullable": true,
                                                        "metadata": {
                                                            "map": {}
                                                        }
                                                    },
                                                    {
                                                        "name": "minSessionActiveParallelism",
                                                        "dataType": {},
                                                        "nullable": true,
                                                        "metadata": {
                                                            "map": {}
                                                        }
                                                    }
                                                ],
                                                "nullable": true,
                                                "metadata": {
                                                    "map": {}
                                                }
                                            },
                                            {
                                                "name": "deletionVectorStats",
                                                "dataType": [
                                                    {
                                                        "name": "numDeletionVectorsRemoved",
                                                        "dataType": {},
                                                        "nullable": false,
                                                        "metadata": {
                                                            "map": {}
                                                        }
                                                    },
                                                    {
                                                        "name": "numDeletionVectorRowsRemoved",
                                                        "dataType": {},
                                                        "nullable": false,
                                                        "metadata": {
                                                            "map": {}
                                                        }
                                                    }
                                                ],
                                                "nullable": true,
                                                "metadata": {
                                                    "map": {}
                                                }
                                            },
                                            {
                                                "name": "numTableColumns",
                                                "dataType": {},
                                                "nullable": false,
                                                "metadata": {
                                                    "map": {}
                                                }
                                            },
                                            {
                                                "name": "numTableColumnsWithStats",
                                                "dataType": {},
                                                "nullable": false,
                                                "metadata": {
                                                    "map": {}
                                                }
                                            }
                                        ],
                                        "values": [
                                            "0",
                                            "0",
                                            {
                                                "schema": [
                                                    {
                                                        "name": "min",
                                                        "dataType": {},
                                                        "nullable": true,
                                                        "metadata": {
                                                            "map": {}
                                                        }
                                                    },
                                                    {
                                                        "name": "max",
                                                        "dataType": {},
                                                        "nullable": true,
                                                        "metadata": {
                                                            "map": {}
                                                        }
                                                    },
                                                    {
                                                        "name": "avg",
                                                        "dataType": {},
                                                        "nullable": false,
                                                        "metadata": {
                                                            "map": {}
                                                        }
                                                    },
                                                    {
                                                        "name": "totalFiles",
                                                        "dataType": {},
                                                        "nullable": false,
                                                        "metadata": {
                                                            "map": {}
                                                        }
                                                    },
                                                    {
                                                        "name": "totalSize",
                                                        "dataType": {},
                                                        "nullable": false,
                                                        "metadata": {
                                                            "map": {}
                                                        }
                                                    }
                                                ],
                                                "values": [
                                                    null,
                                                    null,
                                                    0,
                                                    "0",
                                                    "0"
                                                ]
                                            },
                                            {
                                                "schema": [
                                                    {
                                                        "name": "min",
                                                        "dataType": {},
                                                        "nullable": true,
                                                        "metadata": {
                                                            "map": {}
                                                        }
                                                    },
                                                    {
                                                        "name": "max",
                                                        "dataType": {},
                                                        "nullable": true,
                                                        "metadata": {
                                                            "map": {}
                                                        }
                                                    },
                                                    {
                                                        "name": "avg",
                                                        "dataType": {},
                                                        "nullable": false,
                                                        "metadata": {
                                                            "map": {}
                                                        }
                                                    },
                                                    {
                                                        "name": "totalFiles",
                                                        "dataType": {},
                                                        "nullable": false,
                                                        "metadata": {
                                                            "map": {}
                                                        }
                                                    },
                                                    {
                                                        "name": "totalSize",
                                                        "dataType": {},
                                                        "nullable": false,
                                                        "metadata": {
                                                            "map": {}
                                                        }
                                                    }
                                                ],
                                                "values": [
                                                    null,
                                                    null,
                                                    0,
                                                    "0",
                                                    "0"
                                                ]
                                            },
                                            "0",
                                            null,
                                            "0",
                                            "2",
                                            "2",
                                            false,
                                            "0",
                                            "0",
                                            "1700751696978",
                                            "0",
                                            "8",
                                            "0",
                                            null,
                                            null,
                                            "3",
                                            "3"
                                        ]
                                    }
                                ]
                            ]
                        },
                        "text/plain": "<Spark SQL result set with 1 rows and 2 fields>"
                    },
                    "metadata": {}
                }
            ],
            "execution_count": 29,
            "metadata": {
                "jupyter": {
                    "source_hidden": false,
                    "outputs_hidden": false
                },
                "nteract": {
                    "transient": {
                        "deleting": false
                    }
                },
                "microsoft": {
                    "language": "sparksql"
                },
                "collapsed": false
            },
            "id": "c4b6dd2c-36af-4496-a0d1-5c6245fc2682"
        },
        {
            "cell_type": "markdown",
            "source": [
                "**V-Order is a write time optimization to the parquet file format** that enables lightning-fast reads under the Microsoft Fabric compute engines, such as Power BI, SQL, Spark and others.\n",
                "\n",
                "Power BI and SQL engines make use of Microsoft Verti-Scan technology and V-Ordered parquet files to achieve in-memory like data access times. Spark and other non-Verti-Scan compute engines also benefit from the V-Ordered files with an average of 10% faster read times, with some scenarios up to 50%.\n",
                "\n",
                "V-Order works by applying special sorting, row group distribution, dictionary encoding and compression on parquet files, thus requiring less network, disk, and CPU resources in compute engines to read it, providing cost efficiency and performance. V-Order sorting has a 15% impact on average write times but provides up to 50% more compression.\n",
                "\n",
                "It's **100% open-source parquet format compliant**; all parquet engines can read it as a regular parquet files. Delta tables are more efficient than ever; features such as Z-Order are compatible with V-Order. Table properties and optimization commands can be used on control V-Order on its partitions.\n",
                "\n",
                "V-Order is applied at the parquet file level. Delta tables and its features, such as Z-Order, compaction, vacuum, time travel, etc. are orthogonal to V-Order, as such, are compatible and can be used together for extra benefits.\n",
                "\n",
                "More information https://learn.microsoft.com/en-us/fabric/data-engineering/delta-optimization-and-v-order?tabs=sparksql"
            ],
            "metadata": {
                "nteract": {
                    "transient": {
                        "deleting": false
                    }
                }
            },
            "id": "8652df99-1bda-4241-b09d-7763a7220376"
        }
    ],
    "metadata": {
        "language_info": {
            "name": "python"
        },
        "microsoft": {
            "host": {
                "synapse_widget": {
                    "token": "a5022462-310c-4192-a31f-2ab73cff07e7",
                    "state": {
                        "166f1f51-3a69-41c9-821b-3d91f9cdcb78": {
                            "type": "Synapse.DataFrame",
                            "sync_state": {
                                "table": {
                                    "rows": [
                                        {
                                            "0": "0",
                                            "1": "zero",
                                            "2": "1",
                                            "index": 1
                                        }
                                    ],
                                    "schema": [
                                        {
                                            "key": "0",
                                            "name": "id",
                                            "type": "int"
                                        },
                                        {
                                            "key": "1",
                                            "name": "name",
                                            "type": "string"
                                        },
                                        {
                                            "key": "2",
                                            "name": "month",
                                            "type": "int"
                                        }
                                    ],
                                    "truncated": false
                                },
                                "isSummary": false,
                                "language": "scala"
                            },
                            "persist_state": {
                                "view": {
                                    "type": "details",
                                    "tableOptions": {},
                                    "chartOptions": {
                                        "chartType": "bar",
                                        "categoryFieldKeys": [
                                            "1"
                                        ],
                                        "seriesFieldKeys": [
                                            "2"
                                        ],
                                        "aggregationType": "sum",
                                        "isStacked": false,
                                        "binsNumber": 10,
                                        "wordFrequency": "-1"
                                    }
                                }
                            }
                        }
                    }
                }
            },
            "language": "python"
        },
        "widgets": {},
        "kernelspec": {
            "name": "synapse_pyspark",
            "language": "Python",
            "display_name": "Synapse PySpark"
        },
        "kernel_info": {
            "name": "synapse_pyspark"
        },
        "nteract": {
            "version": "nteract-front-end@1.0.0"
        },
        "save_output": true,
        "spark_compute": {
            "compute_id": "/trident/default",
            "session_options": {
                "enableDebugMode": false,
                "conf": {}
            }
        },
        "notebook_environment": {},
        "synapse_widget": {
            "version": "0.1",
            "state": {
                "166f1f51-3a69-41c9-821b-3d91f9cdcb78": {
                    "type": "Synapse.DataFrame",
                    "sync_state": {
                        "table": {
                            "rows": [
                                {
                                    "0": "0",
                                    "1": "zero",
                                    "2": "1",
                                    "index": 1
                                }
                            ],
                            "schema": [
                                {
                                    "key": "0",
                                    "name": "id",
                                    "type": "int"
                                },
                                {
                                    "key": "1",
                                    "name": "name",
                                    "type": "string"
                                },
                                {
                                    "key": "2",
                                    "name": "month",
                                    "type": "int"
                                }
                            ],
                            "truncated": false
                        },
                        "isSummary": false,
                        "language": "scala"
                    },
                    "persist_state": {
                        "view": {
                            "type": "details",
                            "tableOptions": {},
                            "chartOptions": {
                                "chartType": "bar",
                                "categoryFieldKeys": [
                                    "1"
                                ],
                                "seriesFieldKeys": [
                                    "2"
                                ],
                                "aggregationType": "sum",
                                "isStacked": false,
                                "binsNumber": 10,
                                "wordFrequency": "-1"
                            }
                        }
                    }
                }
            }
        }
    },
    "nbformat": 4,
    "nbformat_minor": 5
}