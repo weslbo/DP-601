{
    "cells": [
        {
            "cell_type": "markdown",
            "id": "0eb820b8-e460-416d-8af2-ec5415d1b253",
            "metadata": {
                "nteract": {
                    "transient": {
                        "deleting": false
                    }
                }
            },
            "source": [
                "# Getting started with Spark in Microsoft Fabric\n",
                "\n",
                "**Technical Accomplishments:**\n",
                "- Set the stage for learning on the Microsoft Fabric Spark platform\n",
                "- Demonstrate how to develop & execute code within a notebook\n",
                "- Review the various \"Magic Commands\"\n",
                "- Review various built-in commands that facilitate working with the notebooks"
            ]
        },
        {
            "cell_type": "markdown",
            "id": "56e70aaf-c944-4e39-afc5-244737e31624",
            "metadata": {
                "nteract": {
                    "transient": {
                        "deleting": false
                    }
                }
            },
            "source": [
                "## ➡️ Scala, Python, R, SQL\n",
                "\n",
                "* Each notebook is tied to a specific language: **Scala**, **Python**, **SQL** or **R**\n",
                "* Run the cell below using one of the following options:\n",
                "  * **CTRL+ENTER** or **CMD+RETURN**\n",
                "  * **SHIFT+ENTER** or **SHIFT+RETURN** to run the cell and move to the next one\n",
                "  * Using **Run All**, **Run cells above** or **Run cells below** \n",
                "\n",
                "Feel free to tweak the code below if you like:"
            ]
        },
        {
            "cell_type": "code",
            "execution_count": null,
            "id": "f4137045-9f02-4af2-9f7d-3746dcbc1e7b",
            "metadata": {},
            "outputs": [],
            "source": [
                "print(\"I'm running python!\")"
            ]
        },
        {
            "cell_type": "markdown",
            "id": "6fe2306c-7e4c-41f9-bb09-a183dc74dde1",
            "metadata": {
                "nteract": {
                    "transient": {
                        "deleting": false
                    }
                }
            },
            "source": [
                "## ➡️ Magic Commands\n",
                "* Magic Commands are specific to the Microsoft Fabric notebooks\n",
                "* These are built-in commands that do not apply to the notebook's default language\n",
                "* A double percent (%%) symbol at the start of a cell identifies a Magic Commands"
            ]
        },
        {
            "cell_type": "markdown",
            "id": "0bbb7fcc-5df5-4c2e-a20e-778deceee289",
            "metadata": {
                "nteract": {
                    "transient": {
                        "deleting": false
                    }
                }
            },
            "source": [
                "### ➡️ Magic Command: &percnt;&percnt;sh\n",
                "For example, **&percnt;&percnt;sh** allows us to execute shell commands on the driver"
            ]
        },
        {
            "cell_type": "code",
            "execution_count": null,
            "id": "b95dcf3b-f127-469b-b395-954a3c4f5533",
            "metadata": {
                "jupyter": {
                    "outputs_hidden": false,
                    "source_hidden": false
                },
                "nteract": {
                    "transient": {
                        "deleting": false
                    }
                }
            },
            "outputs": [],
            "source": [
                "%%sh \n",
                "ps | grep 'java'"
            ]
        },
        {
            "cell_type": "markdown",
            "id": "e5249b72-013e-4563-96d1-3d86e0c80840",
            "metadata": {
                "nteract": {
                    "transient": {
                        "deleting": false
                    }
                }
            },
            "source": [
                "### ➡️ Magic Command: Other Languages\n",
                "Additional Magic Commands allow for the execution of code in languages other than the notebook's default:\n",
                "* **&percnt;&percnt;pyspark** (for running python code)\n",
                "* **&percnt;&percnt;spark** (for running Scala code)\n",
                "* **&percnt;&percnt;sql** (for running SQL code)\n",
                "* **&percnt;&percnt;sparkr** (for running R code)"
            ]
        },
        {
            "cell_type": "code",
            "execution_count": null,
            "id": "0b388bd9-daf7-4bdb-bff6-5159e7010afb",
            "metadata": {
                "jupyter": {
                    "outputs_hidden": false,
                    "source_hidden": false
                },
                "microsoft": {
                    "language": "scala"
                },
                "nteract": {
                    "transient": {
                        "deleting": false
                    }
                }
            },
            "outputs": [],
            "source": [
                "%%spark\n",
                "\n",
                "println(\"Hello 🙋‍♂️ from Scala 😊\")"
            ]
        },
        {
            "cell_type": "code",
            "execution_count": null,
            "id": "1bac72df-afdb-46a0-8e60-a5a5a3977268",
            "metadata": {
                "jupyter": {
                    "outputs_hidden": false,
                    "source_hidden": false
                },
                "microsoft": {
                    "language": "python"
                },
                "nteract": {
                    "transient": {
                        "deleting": false
                    }
                }
            },
            "outputs": [],
            "source": [
                "%%pyspark\n",
                "\n",
                "print(\"Hello 👋 from Python 🐍\")"
            ]
        },
        {
            "cell_type": "code",
            "execution_count": null,
            "id": "2b7a304b-0e6e-45c8-bcaf-6880aef5dfa4",
            "metadata": {
                "jupyter": {
                    "outputs_hidden": false,
                    "source_hidden": false
                },
                "microsoft": {
                    "language": "r"
                },
                "nteract": {
                    "transient": {
                        "deleting": false
                    }
                }
            },
            "outputs": [],
            "source": [
                "%%sparkr\n",
                "\n",
                "print(\"Hello from 🆁\", quote=FALSE)"
            ]
        },
        {
            "cell_type": "code",
            "execution_count": null,
            "id": "b5ae62b5-76e8-43dd-911d-f15fdc2270cd",
            "metadata": {
                "collapsed": false,
                "jupyter": {
                    "outputs_hidden": false,
                    "source_hidden": false
                },
                "microsoft": {
                    "language": "sparksql"
                },
                "nteract": {
                    "transient": {
                        "deleting": false
                    }
                }
            },
            "outputs": [],
            "source": [
                "%%sql\n",
                "\n",
                "select \"Hello from SQL ❤️🙋‍♂️\""
            ]
        },
        {
            "cell_type": "markdown",
            "id": "c747dd62-12d7-4231-81c1-86cb98577943",
            "metadata": {
                "nteract": {
                    "transient": {
                        "deleting": false
                    }
                }
            },
            "source": [
                "### ➡️ Magic Command: &percnt;md\n",
                "\n",
                "Our favorite Magic Command **&percnt;md** allows us to render Markdown in a cell:\n",
                "* Double click this cell to begin editing it\n",
                "* Then hit `Esc` to stop editing\n",
                "\n",
                "# Title One\n",
                "## ➡️ Title Two\n",
                "### ➡️ Title Three\n",
                "\n",
                "This is a test of the emergency broadcast system. This is only a test.\n",
                "\n",
                "This is text with a **bold** word in it.\n",
                "\n",
                "This is text with an *italicized* word in it.\n",
                "\n",
                "This is an ordered list\n",
                "0. once\n",
                "0. two\n",
                "0. three\n",
                "\n",
                "This is an unordered list\n",
                "* apples\n",
                "* peaches\n",
                "* bananas\n",
                "\n",
                "Links/Embedded HTML: <a href=\"http://bfy.tw/19zq\" target=\"_blank\">What is Markdown?</a>\n",
                "\n",
                "Images:\n",
                "\n",
                "![Microsoft Fabric](https://learn.microsoft.com/en-us/fabric/media/fabric-icon.png)\n",
                "\n",
                "And of course, tables:\n",
                "\n",
                "| Name  | Age | Sex    |\n",
                "|-------|-----|--------|\n",
                "| Tom   | 32  | Male   |\n",
                "| Mary  | 29  | Female |\n",
                "| Dick  | 73  | Male   |\n",
                "| Sally | 55  | Female |"
            ]
        },
        {
            "cell_type": "markdown",
            "id": "d0fa7660-18ee-4f45-b943-fcb1b5f75a55",
            "metadata": {
                "nteract": {
                    "transient": {
                        "deleting": false
                    }
                }
            },
            "source": [
                "## ➡️ Working with files in a lakehouse\n",
                "\n",
                "Microsoft Spark Utilities (MSSparkUtils) is a built-in package to help you easily perform common tasks. \n",
                "\n",
                "mssparkutils.fs provides utilities for working with various file systems, including Azure Data Lake Storage Gen2 (ADLS Gen2) and Azure Blob Storage. \n",
                "\n",
                "Run the following commands for an overview of the available methods:"
            ]
        },
        {
            "cell_type": "code",
            "execution_count": null,
            "id": "7e028949-0694-4cfd-a505-62b09646cd2e",
            "metadata": {
                "jupyter": {
                    "outputs_hidden": false,
                    "source_hidden": false
                },
                "nteract": {
                    "transient": {
                        "deleting": false
                    }
                }
            },
            "outputs": [],
            "source": [
                "from notebookutils import mssparkutils\n",
                "mssparkutils.fs.help()"
            ]
        },
        {
            "cell_type": "markdown",
            "id": "66cec796-afb1-4553-ab81-38bd8aa91a48",
            "metadata": {
                "nteract": {
                    "transient": {
                        "deleting": false
                    }
                }
            },
            "source": [
                "### ➡️ List files\n",
                "\n",
                "To list the contents of a directory in your lakehouse, use mssparkutils.fs.ls('Your directory path'), for example:"
            ]
        },
        {
            "cell_type": "code",
            "execution_count": null,
            "id": "3518d516-9e40-456c-a11d-743d81810583",
            "metadata": {
                "jupyter": {
                    "outputs_hidden": false,
                    "source_hidden": false
                },
                "nteract": {
                    "transient": {
                        "deleting": false
                    }
                }
            },
            "outputs": [],
            "source": [
                "mssparkutils.fs.ls(\"Files/Sales\") # works with the default lakehouse files using relative path "
            ]
        },
        {
            "cell_type": "markdown",
            "id": "a03d2506-088b-42c6-9ee6-07ebf811777c",
            "metadata": {
                "nteract": {
                    "transient": {
                        "deleting": false
                    }
                }
            },
            "source": [
                "... or read from an Azure Data Lake (ABFS file system)"
            ]
        },
        {
            "cell_type": "code",
            "execution_count": null,
            "id": "ebc88f72-e081-4516-a76f-cea0d2b67478",
            "metadata": {
                "jupyter": {
                    "outputs_hidden": false,
                    "source_hidden": false
                },
                "nteract": {
                    "transient": {
                        "deleting": false
                    }
                }
            },
            "outputs": [],
            "source": [
                "mssparkutils.fs.ls(\"abfss://files@dp601datalake.dfs.core.windows.net/\")"
            ]
        },
        {
            "cell_type": "markdown",
            "id": "fbf4fbc1-3524-45ec-b1eb-5f238fb565a4",
            "metadata": {
                "nteract": {
                    "transient": {
                        "deleting": false
                    }
                }
            },
            "source": [
                "... you can also read the local file system of the driver node"
            ]
        },
        {
            "cell_type": "code",
            "execution_count": null,
            "id": "0a16e949-6191-483d-aebd-4501db535cec",
            "metadata": {
                "jupyter": {
                    "outputs_hidden": false,
                    "source_hidden": false
                },
                "nteract": {
                    "transient": {
                        "deleting": false
                    }
                }
            },
            "outputs": [],
            "source": [
                "mssparkutils.fs.ls(\"file:/tmp\")"
            ]
        }
    ],
    "metadata": {
        "kernel_info": {
            "name": "synapse_pyspark"
        },
        "kernelspec": {
            "display_name": "Synapse PySpark",
            "name": "synapse_pyspark"
        },
        "language_info": {
            "name": "python"
        },
        "microsoft": {
            "host": {},
            "language": "python",
            "ms_spell_check": {
                "ms_spell_check_language": "en"
            }
        },
        "notebook_environment": {},
        "nteract": {
            "version": "nteract-front-end@1.0.0"
        },
        "save_output": true,
        "spark_compute": {
            "compute_id": "/trident/default",
            "session_options": {
                "conf": {},
                "enableDebugMode": false
            }
        },
        "synapse_widget": {
            "state": {},
            "version": "0.1"
        },
        "trident": {
            "lakehouse": {}
        },
        "widgets": {}
    },
    "nbformat": 4,
    "nbformat_minor": 5
}
