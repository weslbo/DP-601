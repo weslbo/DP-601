{
    "cells": [
        {
            "cell_type": "markdown",
            "id": "57ed3ea2",
            "metadata": {},
            "source": [
                "# Setup notebook\n",
                "\n",
                "This notebook can be used to copy some sample data from github/other datasources into the current lakehouse. You just need to run below cells once.\n",
                "\n",
                "In the next cell, we are testing whether a lakehouse has been attached to the notebook. If so, it creates a couple of sub folders in the `files` section."
            ]
        },
        {
            "cell_type": "code",
            "execution_count": null,
            "id": "d304706d-2e75-4509-8067-17fde1545b6c",
            "metadata": {
                "jupyter": {
                    "outputs_hidden": false,
                    "source_hidden": false
                },
                "nteract": {
                    "transient": {
                        "deleting": false
                    }
                }
            },
            "outputs": [],
            "source": [
                "import os, requests, gzip\n",
                "\n",
                "if not os.path.exists(\"/lakehouse/default\"):\n",
                "    raise FileNotFoundError(\n",
                "        \"Default lakehouse not found, please add a lakehouse and restart the session.\"\n",
                "    )\n",
                "\n",
                "os.makedirs(\"/lakehouse/default/Files/sampledata\", exist_ok=True)\n",
                "os.makedirs(\"/lakehouse/default/Files/taxidata\", exist_ok=True)"
            ]
        },
        {
            "cell_type": "markdown",
            "id": "af4e9050",
            "metadata": {},
            "source": [
                "The next cell, copies some compressed (gz) TSV (tab separated values) file from github into the lakehouse"
            ]
        },
        {
            "cell_type": "code",
            "execution_count": null,
            "id": "a89a730f-12a5-4595-94f6-9a80c742dccf",
            "metadata": {
                "jupyter": {
                    "outputs_hidden": false,
                    "source_hidden": false
                },
                "nteract": {
                    "transient": {
                        "deleting": false
                    }
                }
            },
            "outputs": [],
            "source": [
                "remote_url = \"https://github.com/weslbo/DP-601/raw/main/data/pageviews-by-second-tsv.gz\"\n",
                "\n",
                "response = requests.get(remote_url)\n",
                "compressed_data = io.BytesIO(response.content)\n",
                "\n",
                "with gzip.GzipFile(fileobj=compressed_data, mode='rb') as decompressed_data:\n",
                "    decompressed_content = decompressed_data.read()\n",
                "\n",
                "with open(f\"/lakehouse/default/Files/sampledata/pageviews-by-second.tsv\", \"wb\") as f:\n",
                "    f.write(decompressed_content)"
            ]
        },
        {
            "cell_type": "markdown",
            "id": "5deabede",
            "metadata": {},
            "source": [
                "And here, we are copying various sample data into the lakehouse"
            ]
        },
        {
            "cell_type": "code",
            "execution_count": null,
            "id": "e2304511-e733-41ca-aec5-0d1dfa8661c5",
            "metadata": {
                "jupyter": {
                    "outputs_hidden": false,
                    "source_hidden": false
                },
                "nteract": {
                    "transient": {
                        "deleting": false
                    }
                }
            },
            "outputs": [],
            "source": [
                "def download(remote_url, filename, download_path=\"/lakehouse/default/Files/sampledata\"):\n",
                "    response = requests.get(remote_url)\n",
                "    with open(f\"{download_path}/{filename}\", \"wb\") as f:\n",
                "        f.write(response.content)\n",
                "\n",
                "download(\"https://github.com/weslbo/DP-601/raw/main/data/zipcodes_singlelines.json\", \"zipcodes_singlelines.json\")\n",
                "download(\"https://github.com/weslbo/DP-601/raw/main/data/zipcodes_multilines.json\", \"zipcodes_multilines.json\")\n",
                "download(\"https://github.com/weslbo/DP-601/raw/main/data/population.parquet\", \"population.parquet\")\n",
                "download(\"https://d37ci6vzurychx.cloudfront.net/trip-data/yellow_tripdata_2023-06.parquet\", \"yellow_tripdata_2023-06.parquet\", download_path=\"/lakehouse/default/Files/taxidata\")\n",
                "download(\"https://d37ci6vzurychx.cloudfront.net/trip-data/yellow_tripdata_2023-05.parquet\", \"yellow_tripdata_2023-05.parquet\", download_path=\"/lakehouse/default/Files/taxidata\")\n",
                "download(\"https://d37ci6vzurychx.cloudfront.net/trip-data/yellow_tripdata_2023-04.parquet\", \"yellow_tripdata_2023-04.parquet\", download_path=\"/lakehouse/default/Files/taxidata\")\n",
                "download(\"https://d37ci6vzurychx.cloudfront.net/trip-data/yellow_tripdata_2023-03.parquet\", \"yellow_tripdata_2023-03.parquet\", download_path=\"/lakehouse/default/Files/taxidata\")"
            ]
        }
    ],
    "metadata": {
        "kernel_info": {
            "name": "synapse_pyspark"
        },
        "kernelspec": {
            "display_name": "Synapse PySpark",
            "language": "Python",
            "name": "synapse_pyspark"
        },
        "language_info": {
            "name": "python"
        },
        "microsoft": {
            "host": {},
            "language": "python",
            "ms_spell_check": {
                "ms_spell_check_language": "en"
            }
        },
        "notebook_environment": {},
        "nteract": {
            "version": "nteract-front-end@1.0.0"
        },
        "save_output": true,
        "spark_compute": {
            "compute_id": "/trident/default",
            "session_options": {
                "conf": {},
                "enableDebugMode": false
            }
        },
        "synapse_widget": {
            "state": {},
            "version": "0.1"
        },
        "trident": {
            "lakehouse": {}
        },
        "widgets": {}
    },
    "nbformat": 4,
    "nbformat_minor": 5
}
