{
    "cells": [
        {
            "cell_type": "markdown",
            "id": "2c723242-b65e-47ab-9cd9-a91245ea4873",
            "metadata": {
                "nteract": {
                    "transient": {
                        "deleting": false
                    }
                }
            },
            "source": [
                "# Describe a DataFrame\n",
                "\n",
                "Your data processing in Microsoft Fabric is accomplished by defining Dataframes to read and process the Data."
            ]
        },
        {
            "cell_type": "markdown",
            "id": "b7758c0b-f72f-41f0-857d-303fd12ab741",
            "metadata": {
                "nteract": {
                    "transient": {
                        "deleting": false
                    }
                }
            },
            "source": [
                "## ➡️ Getting Started\n",
                "\n",
                "Run the following cell to configure our notebook."
            ]
        },
        {
            "cell_type": "code",
            "execution_count": null,
            "id": "223befcd-2142-4892-852f-16f909cdf78d",
            "metadata": {
                "jupyter": {
                    "outputs_hidden": false,
                    "source_hidden": false
                },
                "nteract": {
                    "transient": {
                        "deleting": false
                    }
                }
            },
            "outputs": [],
            "source": [
                "%run Utilities"
            ]
        },
        {
            "cell_type": "markdown",
            "id": "b49949db-bb38-482d-880f-6b2498a04ee3",
            "metadata": {
                "nteract": {
                    "transient": {
                        "deleting": false
                    }
                }
            },
            "source": [
                "## ➡️ The Data Source\n",
                "\n",
                "* In this notebook, we will be using a set of parquet \"files\" called **Yellow taxi trip records** (4 x ~55 MB files from March-June 2023)\n",
                "* We will explore the data and develop an understanding of it as we progress.\n",
                "* You can read more about this dataset here: <a href=\"https://www.nyc.gov/site/tlc/about/tlc-trip-record-data.page\" target=\"_blank\">TLC Trip Record Data</a>."
            ]
        },
        {
            "cell_type": "code",
            "execution_count": null,
            "id": "690a0315-1bef-4596-b8e3-db052d2ca8e2",
            "metadata": {
                "jupyter": {
                    "outputs_hidden": false,
                    "source_hidden": false
                },
                "nteract": {
                    "transient": {
                        "deleting": false
                    }
                }
            },
            "outputs": [],
            "source": [
                "%%sh\n",
                "ls -l /lakehouse/default/Files/taxidata/*.parquet"
            ]
        },
        {
            "cell_type": "markdown",
            "id": "23938e24-f103-4149-b8f8-0ebff2c55ca3",
            "metadata": {
                "nteract": {
                    "transient": {
                        "deleting": false
                    }
                }
            },
            "source": [
                "## ➡️ Create a DataFrame\n",
                "* We can read the Parquet files into a `DataFrame`.\n",
                "* We'll start with the object **spark**, an instance of `SparkSession` and the entry point to Spark 2.0 applications.\n",
                "* From there we can access the `read` object which gives us an instance of `DataFrameReader`."
            ]
        },
        {
            "cell_type": "code",
            "execution_count": null,
            "id": "947f2b5e-0c0d-4f9c-ad3b-2b8d99370bcf",
            "metadata": {
                "jupyter": {
                    "outputs_hidden": false,
                    "source_hidden": false
                },
                "nteract": {
                    "transient": {
                        "deleting": false
                    }
                }
            },
            "outputs": [],
            "source": [
                "parquetDir = \"Files/taxidata/yellow*.parquet\""
            ]
        },
        {
            "cell_type": "code",
            "execution_count": null,
            "id": "0c9fd9eb-64ca-4696-a68e-13bae4305218",
            "metadata": {
                "jupyter": {
                    "outputs_hidden": false,
                    "source_hidden": false
                },
                "nteract": {
                    "transient": {
                        "deleting": false
                    }
                }
            },
            "outputs": [],
            "source": [
                "tripdataDF = (spark         # Our SparkSession & Entry Point\n",
                "  .read                     # Our DataFrameReader\n",
                "  .parquet(parquetDir)      # Returns an instance of DataFrame\n",
                ")\n",
                "print(tripdataDF)           # Python hack to see the data type"
            ]
        },
        {
            "cell_type": "markdown",
            "id": "7352c2a5-6554-4382-9703-42d4dc6a77de",
            "metadata": {
                "nteract": {
                    "transient": {
                        "deleting": false
                    }
                }
            },
            "source": [
                "## ➡️ count()\n",
                "\n",
                "If you look at the API docs, `count()` is described like this:\n",
                "> Returns the number of rows in the Dataset.\n",
                "\n",
                "`count()` will trigger a job to process the request and return a value.\n",
                "\n",
                "We can now count all records in our `DataFrame` like this:"
            ]
        },
        {
            "cell_type": "code",
            "execution_count": null,
            "id": "3d3c22ba-de82-4bbd-a438-13ff656faf06",
            "metadata": {
                "jupyter": {
                    "outputs_hidden": false,
                    "source_hidden": false
                },
                "nteract": {
                    "transient": {
                        "deleting": false
                    }
                }
            },
            "outputs": [],
            "source": [
                "total = tripdataDF.count()\n",
                "\n",
                "print(\"Record Count: {0:,}\".format( total ))"
            ]
        },
        {
            "cell_type": "markdown",
            "id": "54c78f62-6e04-48f3-af73-a18705d78eb0",
            "metadata": {
                "nteract": {
                    "transient": {
                        "deleting": false
                    }
                }
            },
            "source": [
                "That tells us that there are around 13.5 million rows in the `DataFrame`.\n",
                "\n",
                "Before we take a closer look at the contents of the DataFrame, let us introduce a technique that speeds up processing.\n",
                "\n",
                "## ➡️ cache() & persist()\n",
                "\n",
                "The ability to cache data is one technique for achieving better performance with Apache Spark. \n",
                "\n",
                "This is because every action requires Spark to read the data from its source (lakehouse) but caching moves that data into the memory of the local executor for \"instant\" access.\n",
                "\n",
                "`cache()` is just an alias for `persist()`. "
            ]
        },
        {
            "cell_type": "code",
            "execution_count": null,
            "id": "38cca1f1-acb7-4278-987f-685b2bbdba63",
            "metadata": {
                "jupyter": {
                    "outputs_hidden": false,
                    "source_hidden": false
                },
                "nteract": {
                    "transient": {
                        "deleting": false
                    }
                }
            },
            "outputs": [],
            "source": [
                "(tripdataDF\n",
                "  .cache()         # Mark the DataFrame as cached\n",
                "  .count()         # Materialize the cache\n",
                ") "
            ]
        },
        {
            "cell_type": "markdown",
            "id": "e28a86eb-529a-446c-9bc8-fd439f59b556",
            "metadata": {
                "nteract": {
                    "transient": {
                        "deleting": false
                    }
                }
            },
            "source": [
                "If you re-run that command, it should take significantly less time."
            ]
        },
        {
            "cell_type": "code",
            "execution_count": null,
            "id": "da79e93a-57b5-4331-8cc0-1a4c438badf6",
            "metadata": {
                "jupyter": {
                    "outputs_hidden": false,
                    "source_hidden": false
                },
                "nteract": {
                    "transient": {
                        "deleting": false
                    }
                }
            },
            "outputs": [],
            "source": [
                "tripdataDF.count()"
            ]
        },
        {
            "cell_type": "markdown",
            "id": "461b95a9-4329-401e-bf98-6a2b46e5a920",
            "metadata": {
                "nteract": {
                    "transient": {
                        "deleting": false
                    }
                }
            },
            "source": [
                "## ➡️ Performance considerations of Caching Data\n",
                "\n",
                "When Caching Data you are placing it on the workers of the cluster. \n",
                "\n",
                "Caching takes resources, before moving a notebook into production please check and verify that you are appropriately using cache. \n",
                "\n",
                "And as a quick side note, you can remove a cache by calling the `DataFrame`'s `unpersist()` method but, it is not necessary.\n",
                "\n",
                "## ➡️ Our Data\n",
                "\n",
                "Let's continue by taking a look at the type of data we have. \n",
                "\n",
                "We can do this with the `printSchema()` command:"
            ]
        },
        {
            "cell_type": "code",
            "execution_count": null,
            "id": "678512e4-130a-4bfc-ba18-dc375647f0e4",
            "metadata": {
                "jupyter": {
                    "outputs_hidden": false,
                    "source_hidden": false
                },
                "nteract": {
                    "transient": {
                        "deleting": false
                    }
                }
            },
            "outputs": [],
            "source": [
                "tripdataDF.printSchema()"
            ]
        },
        {
            "cell_type": "markdown",
            "id": "5eb6465f-c58a-4a04-97cc-add0fac5e00e",
            "metadata": {
                "nteract": {
                    "transient": {
                        "deleting": false
                    }
                }
            },
            "source": [
                "## ➡️ show(..)\n",
                "\n",
                "What we want to look for next is a function that will allow us to print the data to the console.\n",
                "\n",
                "In the API docs for `DataFrame`/`Dataset` find the docs for the `show(..)` command(s).\n",
                "\n",
                "In the case of Python, we have one method with two optional parameters.<br/>\n",
                "In the case of Scala, we have several overloaded methods.<br/>\n",
                "\n",
                "In either case, the `show(..)` method effectively has two optional parameters:\n",
                "* **n**: The number of records to print to the console, the default being 20.\n",
                "* **truncate**: If true, columns wider than 20 characters will be truncated, where the default is true.\n",
                "\n",
                "Let's take a look at the data in our `DataFrame` with the `show()` command:"
            ]
        },
        {
            "cell_type": "code",
            "execution_count": null,
            "id": "f243515f-2d3a-4e07-8fb5-21c3e6879ca9",
            "metadata": {
                "jupyter": {
                    "outputs_hidden": false,
                    "source_hidden": false
                },
                "nteract": {
                    "transient": {
                        "deleting": false
                    }
                }
            },
            "outputs": [],
            "source": [
                "tripdataDF.show(5, True)"
            ]
        },
        {
            "cell_type": "markdown",
            "id": "1a28379c-8144-4204-b3e9-7ec6376e068d",
            "metadata": {
                "nteract": {
                    "transient": {
                        "deleting": false
                    }
                }
            },
            "source": [
                "**Note:** The function `show(..)` is an **action** which triggers a job."
            ]
        },
        {
            "cell_type": "markdown",
            "id": "308c018c-6a64-43a7-b854-a29bff3947b0",
            "metadata": {
                "nteract": {
                    "transient": {
                        "deleting": false
                    }
                }
            },
            "source": [
                "## ➡️ display(..)\n",
                "\n",
                "The `show(..)` command is part of the core Spark API and simply prints the results to the console.\n",
                "\n",
                "Our notebooks have a slightly more elegant alternative.\n",
                "\n",
                "Instead of calling `show(..)` on an existing `DataFrame` we can instead pass our `DataFrame` to the `display(..)` command:"
            ]
        },
        {
            "cell_type": "code",
            "execution_count": null,
            "id": "932bb973-162e-438f-9097-df8dac4feb2d",
            "metadata": {
                "collapsed": false,
                "jupyter": {
                    "outputs_hidden": false,
                    "source_hidden": false
                },
                "nteract": {
                    "transient": {
                        "deleting": false
                    }
                }
            },
            "outputs": [],
            "source": [
                "display(tripdataDF)"
            ]
        },
        {
            "cell_type": "markdown",
            "id": "4c4ef2fb-47bd-4b08-863a-116f6e9688bc",
            "metadata": {
                "nteract": {
                    "transient": {
                        "deleting": false
                    }
                }
            },
            "source": [
                "## ➡️ show(..) vs display(..)\n",
                "* `show(..)` is part of core spark - `display(..)` is specific to our notebooks.\n",
                "* `show(..)` is ugly - `display(..)` is pretty.\n",
                "* `show(..)` has parameters for truncating both columns and rows - `display(..)` does not.\n",
                "* `show(..)` is a function of the `DataFrame`/`Dataset` class - `display(..)` works with a number of different objects.\n",
                "* `display(..)` is more powerful - with it, you can...\n",
                "  * Download the results as CSV\n",
                "  * Render line charts, bar chart & other graphs, maps and more.\n",
                "  * See up to 1000 records at a time.\n",
                "  \n",
                "For the most part, the difference between the two is going to come down to preference.\n",
                "\n",
                "Like `DataFrame.show(..)`, `display(..)` is an **action** which triggers a job."
            ]
        },
        {
            "cell_type": "markdown",
            "id": "6601b275-8311-47eb-a89d-02d6e2ca6b33",
            "metadata": {
                "nteract": {
                    "transient": {
                        "deleting": false
                    }
                }
            },
            "source": [
                "## ➡️ limit(..)\n",
                "\n",
                "Both `show(..)` and `display(..)` are **actions** that trigger jobs (though in slightly different ways).\n",
                "\n",
                "If you recall, `show(..)` has a parameter to control how many records are printed but, `display(..)` does not.\n",
                "\n",
                "We can address that difference with our first transformation, `limit(..)`.\n",
                "\n",
                "If you look at the API docs, `limit(..)` is described like this:\n",
                "> Returns a new Dataset by taking the first n rows...\n",
                "\n",
                "`show(..)`, like many actions, does not return anything. \n",
                "\n",
                "On the other hand, transformations like `limit(..)` return a **new** `DataFrame`:"
            ]
        },
        {
            "cell_type": "code",
            "execution_count": null,
            "id": "97959a2d-d8da-4ce8-9bab-3f2f93f1ba66",
            "metadata": {
                "jupyter": {
                    "outputs_hidden": false,
                    "source_hidden": false
                },
                "nteract": {
                    "transient": {
                        "deleting": false
                    }
                }
            },
            "outputs": [],
            "source": [
                "limitedDF = tripdataDF.limit(5) # \"limit\" the number of records to the first 5\n",
                "\n",
                "limitedDF # Python hack to force printing of the data type"
            ]
        },
        {
            "cell_type": "markdown",
            "id": "244b7929-6457-4413-9fc1-1341cf7d3963",
            "metadata": {
                "nteract": {
                    "transient": {
                        "deleting": false
                    }
                }
            },
            "source": [
                "## ➡️ Nothing Happened\n",
                "* Notice how \"nothing\" happened - that is no job was triggered.\n",
                "* This is because we are simply defining the second step in our transformations.\n",
                "  0. Read in the parquet file (represented by **tripdataDF**).\n",
                "  0. Limit those records to just the first 5 (represented by **limitedDF**).\n",
                "* It's not until we induce an action that a job is triggered and the data is processed\n",
                "\n",
                "We can induce a job by calling either the `show(..)` or the `display(..)` actions:"
            ]
        },
        {
            "cell_type": "code",
            "execution_count": null,
            "id": "d0f65371-8c05-4ab6-ac17-ef89172fff69",
            "metadata": {
                "jupyter": {
                    "outputs_hidden": false,
                    "source_hidden": false
                },
                "nteract": {
                    "transient": {
                        "deleting": false
                    }
                }
            },
            "outputs": [],
            "source": [
                "limitedDF.show(100, False) #show up to 100 records and don't truncate the columns"
            ]
        },
        {
            "cell_type": "code",
            "execution_count": null,
            "id": "fcedcf6b-ccc6-442b-b0ae-48c72cec172e",
            "metadata": {
                "collapsed": false,
                "jupyter": {
                    "outputs_hidden": false,
                    "source_hidden": false
                },
                "nteract": {
                    "transient": {
                        "deleting": false
                    }
                }
            },
            "outputs": [],
            "source": [
                "display(limitedDF) # defaults to the first 1000 records"
            ]
        },
        {
            "cell_type": "markdown",
            "id": "07e1b44c-ce39-46c7-9a2f-7e60241f869b",
            "metadata": {
                "nteract": {
                    "transient": {
                        "deleting": false
                    }
                }
            },
            "source": [
                "## ➡️ select(..)\n",
                "\n",
                "Let's say, for the sake of argument, that we don't want to look at all the data:"
            ]
        },
        {
            "cell_type": "code",
            "execution_count": null,
            "id": "bc217ce1-0c23-49ad-88ce-88a4e9b58aa1",
            "metadata": {
                "jupyter": {
                    "outputs_hidden": false,
                    "source_hidden": false
                },
                "nteract": {
                    "transient": {
                        "deleting": false
                    }
                }
            },
            "outputs": [],
            "source": [
                "tripdataDF.printSchema()"
            ]
        },
        {
            "cell_type": "code",
            "execution_count": null,
            "id": "67aa03b8-0db1-4cea-9285-bfbb1cf7a3a5",
            "metadata": {
                "jupyter": {
                    "outputs_hidden": false,
                    "source_hidden": false
                },
                "nteract": {
                    "transient": {
                        "deleting": false
                    }
                }
            },
            "outputs": [],
            "source": [
                "selectDF = (tripdataDF\n",
                "    .select(\"VendorID\", \"tpep_pickup_datetime\", \"passenger_count\", \"total_amount\")\n",
                ")\n",
                "\n",
                "selectDF.printSchema()"
            ]
        },
        {
            "cell_type": "markdown",
            "id": "28252aa6-df2f-424e-bd0e-aaacae298b49",
            "metadata": {
                "nteract": {
                    "transient": {
                        "deleting": false
                    }
                }
            },
            "source": [
                "Again, notice how the call to `select(..)` does not trigger a job.\n",
                "\n",
                "That's because `select(..)` is a transformation. It's just one more step in a long list of transformations.\n",
                "\n",
                "Let's go ahead and invoke the action `show(..)` and take a look at the result."
            ]
        },
        {
            "cell_type": "code",
            "execution_count": null,
            "id": "0666f0c7-63dd-4063-8ab7-5797db11a286",
            "metadata": {
                "jupyter": {
                    "outputs_hidden": false,
                    "source_hidden": false
                },
                "nteract": {
                    "transient": {
                        "deleting": false
                    }
                }
            },
            "outputs": [],
            "source": [
                "# And lastly, show the first five records which should exclude the bytes_served column.\n",
                "\n",
                "selectDF.show(5, False)"
            ]
        },
        {
            "cell_type": "markdown",
            "id": "42a355db-ad62-4dfa-8820-019826c975ec",
            "metadata": {
                "nteract": {
                    "transient": {
                        "deleting": false
                    }
                }
            },
            "source": [
                "The `select(..)` command is one of the most powerful and most commonly used transformations. \n",
                "\n",
                "We will see plenty of other examples of its usage as we progress.\n",
                "\n",
                "If you look at the API docs, `select(..)` is described like this:\n",
                "> Returns a new Dataset by computing the given Column expression for each element.\n",
                "\n",
                "The \"Column expression\" referred to there is where the true power of this operation shows up. Again, we will go deeper on these later.\n",
                "\n",
                "Just like `limit(..)`, `select(..)` \n",
                "* does not trigger a job\n",
                "* returns a new `DataFrame`\n",
                "* simply defines the next transformation in a sequence of transformations."
            ]
        },
        {
            "cell_type": "markdown",
            "id": "0a7a8f06-63c5-4a18-ade9-4e141ee6f6a9",
            "metadata": {
                "nteract": {
                    "transient": {
                        "deleting": false
                    }
                }
            },
            "source": [
                "## ➡️ drop(..)\n",
                "\n",
                "As a quick side note, you will quickly discover there are a lot of ways to accomplish the same task.\n",
                "\n",
                "Take the transformation `drop(..)` for example - instead of selecting everything we wanted, `drop(..)` allows us to specify the columns we don't want.\n",
                "\n",
                "If you look at the API docs, `drop(..)` is described like this:\n",
                "> Returns a new Dataset with a column dropped.\n",
                "\n",
                "And we can see that we can produce the same result as the last exercise this way:"
            ]
        },
        {
            "cell_type": "code",
            "execution_count": null,
            "id": "def8413f-0e02-44b1-b5a6-dd892041074c",
            "metadata": {
                "jupyter": {
                    "outputs_hidden": false,
                    "source_hidden": false
                },
                "nteract": {
                    "transient": {
                        "deleting": false
                    }
                }
            },
            "outputs": [],
            "source": [
                "# Transform the data by selecting only three columns\n",
                "droppedDF = (selectDF\n",
                "  .drop(\"passenger_count\") \n",
                ")\n",
                "\n",
                "# Now let's take a look at what the schema looks like\n",
                "droppedDF.printSchema()"
            ]
        },
        {
            "cell_type": "markdown",
            "id": "8e9b6261-f3f7-4239-8f75-262da3ff67dc",
            "metadata": {
                "nteract": {
                    "transient": {
                        "deleting": false
                    }
                }
            },
            "source": [
                "Again, `drop(..)` is just one more transformation - that is no job is triggered."
            ]
        },
        {
            "cell_type": "code",
            "execution_count": null,
            "id": "1e121f48-ec3b-4574-a9f2-a79853072c2e",
            "metadata": {
                "jupyter": {
                    "outputs_hidden": false,
                    "source_hidden": false
                },
                "nteract": {
                    "transient": {
                        "deleting": false
                    }
                }
            },
            "outputs": [],
            "source": [
                "# And lastly, show the first five records which should exclude the passenger_count column.\n",
                "droppedDF.show(5, False)"
            ]
        },
        {
            "cell_type": "markdown",
            "id": "30ac1d15-7ded-4a26-a921-ef6ff30b6679",
            "metadata": {
                "nteract": {
                    "transient": {
                        "deleting": false
                    }
                }
            },
            "source": [
                "## ➡️ distinct() & dropDuplicates()\n",
                "\n",
                "These two transformations do the same thing. In fact, they are aliases for one another.\n",
                "* You can see this by looking at the source code for these two methods\n",
                "* ```def distinct(): Dataset[T] = dropDuplicates()```\n",
                "* See <a href=\"https://github.com/apache/spark/blob/master/sql/core/src/main/scala/org/apache/spark/sql/Dataset.scala\" target=\"_blank\">Dataset.scala</a>\n",
                "\n",
                "The difference between them has everything to do with the programmer and their perspective.\n",
                "* The name **distinct** will resonate with developers, analyst and DB admins with a background in SQL.\n",
                "* The name **dropDuplicates** will resonate with developers that have a background or experience in functional programming.\n",
                "\n",
                "As you become more familiar with the various APIs, you will see this pattern reassert itself.\n",
                "\n",
                "The designers of the API are trying to make the API as approachable as possible for multiple target audiences.\n",
                "\n",
                "If you look at the API docs, both `distinct(..)` and `dropDuplicates(..)` are described like this:\n",
                "> Returns a new Dataset that contains only the unique rows from this Dataset....\n",
                "\n",
                "With this transformation, we can now tackle our first business question:"
            ]
        },
        {
            "cell_type": "markdown",
            "id": "d21d6ca0-3b5e-4e85-ae4a-c0153731426e",
            "metadata": {
                "nteract": {
                    "transient": {
                        "deleting": false
                    }
                }
            },
            "source": [
                "The transformation `distinct()` is applied to the row as a whole.\n",
                "\n",
                "To get the distinct list of VendorID's, we need to reduce the number of columns to just the one column, **VendorID**. \n",
                "\n",
                "We can do this with the `select(..)` transformation and then we can introduce the `distinct()` transformation."
            ]
        },
        {
            "cell_type": "code",
            "execution_count": null,
            "id": "722f8744-a877-4278-88ff-e0dfacac1b66",
            "metadata": {
                "jupyter": {
                    "outputs_hidden": false,
                    "source_hidden": false
                },
                "nteract": {
                    "transient": {
                        "deleting": false
                    }
                }
            },
            "outputs": [],
            "source": [
                "distinctDF = (tripdataDF            # Our original DataFrame from spark.read.parquet(..)\n",
                "  .select(\"VendorID\")               # Drop all columns except the \"VendorID\" column\n",
                "  .distinct()                       # Reduce the set of all records to just the distinct column.\n",
                ")"
            ]
        },
        {
            "cell_type": "markdown",
            "id": "3483da3c-a263-4a6b-bd24-849914cd28b3",
            "metadata": {
                "nteract": {
                    "transient": {
                        "deleting": false
                    }
                }
            },
            "source": [
                "Just to reinforce, we have three transformations:\n",
                "\n",
                "0. Read the data (now represented by `tripdataDF`)\n",
                "0. Select just the one column\n",
                "0. Reduce the records to a distinct set\n",
                "\n",
                "No job is triggered until we perform an action like `show(..)`:"
            ]
        },
        {
            "cell_type": "code",
            "execution_count": null,
            "id": "6d6298e2-5b08-49cf-af3a-e30e3c289b27",
            "metadata": {
                "jupyter": {
                    "outputs_hidden": false,
                    "source_hidden": false
                },
                "nteract": {
                    "transient": {
                        "deleting": false
                    }
                }
            },
            "outputs": [],
            "source": [
                "distinctDF.show(10, False)               "
            ]
        },
        {
            "cell_type": "markdown",
            "id": "82e5eea5-0bea-4a44-9e06-0cc7a50f334b",
            "metadata": {
                "nteract": {
                    "transient": {
                        "deleting": false
                    }
                }
            },
            "source": [
                "## ➡️ dropDuplicates(columns...)\n",
                "\n",
                "The method `dropDuplicates(..)` has a second variant that accepts one or more columns.\n",
                "* The distinction is not performed across the entire record unlike `distinct()` or even `dropDuplicates()`.\n",
                "* The distinction is based only on the specified columns.\n",
                "* This allows us to keep all the original columns in our `DataFrame`."
            ]
        },
        {
            "cell_type": "markdown",
            "id": "2defd92f-0369-47a2-bb06-cd41875ea2bd",
            "metadata": {
                "nteract": {
                    "transient": {
                        "deleting": false
                    }
                }
            },
            "source": [
                "## ➡️ DataFrames vs SQL & Temporary Views\n",
                "\n",
                "The `DataFrame`s API is built upon an SQL engine.\n",
                "\n",
                "As such we can \"convert\" a `DataFrame` into a temporary view (or table) and then use it in \"standard\" SQL.\n",
                "\n",
                "Let's start by creating a temporary view from a previous `DataFrame`."
            ]
        },
        {
            "cell_type": "code",
            "execution_count": null,
            "id": "9946408f-5ea5-4136-bdf5-2e8240bc0feb",
            "metadata": {
                "jupyter": {
                    "outputs_hidden": false,
                    "source_hidden": false
                },
                "nteract": {
                    "transient": {
                        "deleting": false
                    }
                }
            },
            "outputs": [],
            "source": [
                "tripdataDF.createOrReplaceTempView(\"tripdata\")"
            ]
        },
        {
            "cell_type": "markdown",
            "id": "01e292ac-e952-43da-a2c8-7f8c73003e0f",
            "metadata": {
                "nteract": {
                    "transient": {
                        "deleting": false
                    }
                }
            },
            "source": [
                "Now that we have a temporary view (or table) we can start expressing our queries and transformations in SQL:"
            ]
        },
        {
            "cell_type": "code",
            "execution_count": null,
            "id": "79d0f668-8bdc-4392-92e9-02fe3631b7f1",
            "metadata": {
                "collapsed": false,
                "jupyter": {
                    "outputs_hidden": false,
                    "source_hidden": false
                },
                "microsoft": {
                    "language": "sparksql"
                },
                "nteract": {
                    "transient": {
                        "deleting": false
                    }
                }
            },
            "outputs": [],
            "source": [
                "%%sql\n",
                "\n",
                "SELECT *\n",
                "FROM tripdata LIMIT 10"
            ]
        },
        {
            "cell_type": "markdown",
            "id": "ef8f6606-1b5d-4468-bc9c-2abb379f9996",
            "metadata": {
                "nteract": {
                    "transient": {
                        "deleting": false
                    }
                }
            },
            "source": [
                "And we can just as easily express in SQL the distinct list of vendorID, and just because we can, we'll sort that list:"
            ]
        },
        {
            "cell_type": "code",
            "execution_count": null,
            "id": "1fa66d78-8a12-484f-9b16-905b93c28c17",
            "metadata": {
                "collapsed": false,
                "jupyter": {
                    "outputs_hidden": false,
                    "source_hidden": false
                },
                "microsoft": {
                    "language": "sparksql"
                },
                "nteract": {
                    "transient": {
                        "deleting": false
                    }
                }
            },
            "outputs": [],
            "source": [
                "%%sql\n",
                "\n",
                "SELECT DISTINCT VendorID\n",
                "FROM tripdata\n",
                "LIMIT 10"
            ]
        },
        {
            "cell_type": "markdown",
            "id": "7794479e-1add-42bb-ab90-7ac2fd0874fe",
            "metadata": {
                "nteract": {
                    "transient": {
                        "deleting": false
                    }
                }
            },
            "source": [
                "And converting from SQL back to a `DataFrame` is just as easy:"
            ]
        },
        {
            "cell_type": "code",
            "execution_count": null,
            "id": "6927af1a-1444-4968-b999-5b54374fe9aa",
            "metadata": {
                "collapsed": false,
                "jupyter": {
                    "outputs_hidden": false,
                    "source_hidden": false
                },
                "nteract": {
                    "transient": {
                        "deleting": false
                    }
                }
            },
            "outputs": [],
            "source": [
                "tableDF = spark.sql(\"SELECT DISTINCT VendorID FROM tripdata\")\n",
                "display(tableDF)"
            ]
        }
    ],
    "metadata": {
        "kernel_info": {
            "name": "synapse_pyspark"
        },
        "kernelspec": {
            "display_name": "Synapse PySpark",
            "language": "Python",
            "name": "synapse_pyspark"
        },
        "language_info": {
            "name": "python"
        },
        "microsoft": {
            "host": { },
            "language": "python",
            "ms_spell_check": {
                "ms_spell_check_language": "en"
            }
        },
        "notebook_environment": {},
        "nteract": {
            "version": "nteract-front-end@1.0.0"
        },
        "save_output": true,
        "spark_compute": {
            "compute_id": "/trident/default",
            "session_options": {
                "conf": {},
                "enableDebugMode": false
            }
        },
        "synapse_widget": {
            "state": {},
            "version": "0.1"
        },
        "trident": {
            "lakehouse": {}
        },
        "widgets": {}
    },
    "nbformat": 4,
    "nbformat_minor": 5
}