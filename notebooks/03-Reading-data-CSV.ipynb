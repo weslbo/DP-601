{
    "cells": [
        {
            "cell_type": "markdown",
            "source": [
                "# Reading Data - CSV Files\n",
                "\n",
                "Technical Accomplishments:\n",
                "\n",
                "- Start working with the API documentation\n",
                "- Introduce the class SparkSession and other entry points\n",
                "- Introduce the class DataFrameReader\n",
                "- Read data from:\n",
                "  - CSV without a Schema.\n",
                "  - CSV with a Schema."
            ],
            "metadata": {
                "nteract": {
                    "transient": {
                        "deleting": false
                    }
                }
            },
            "id": "83595515-d6c1-43bf-8be0-96a6b865b3a1"
        },
        {
            "cell_type": "code",
            "source": [
                "%run Utilities"
            ],
            "outputs": [],
            "execution_count": null,
            "metadata": {
                "jupyter": {
                    "source_hidden": false,
                    "outputs_hidden": false
                },
                "nteract": {
                    "transient": {
                        "deleting": false
                    }
                }
            },
            "id": "a6aa30a6-4f49-44bb-aa62-abda46440330"
        },
        {
            "cell_type": "markdown",
            "source": [
                "## ➡️ Entry Points\n",
                "Our entry point for Spark applications is the class `SparkSession`.\n",
                "\n",
                "An instance of this object is already instantiated for us which can be easily demonstrated by running the next cell:"
            ],
            "metadata": {
                "nteract": {
                    "transient": {
                        "deleting": false
                    }
                }
            },
            "id": "4049ca66-d79a-4532-949d-d39de031c1d5"
        },
        {
            "cell_type": "code",
            "source": [
                "print(spark)"
            ],
            "outputs": [],
            "execution_count": null,
            "metadata": {
                "jupyter": {
                    "source_hidden": false,
                    "outputs_hidden": false
                },
                "nteract": {
                    "transient": {
                        "deleting": false
                    }
                }
            },
            "id": "7663b635-ab5c-444d-ab55-6cfa8a6301ec"
        },
        {
            "cell_type": "markdown",
            "source": [
                "It's worth noting that in Spark 2.0 `SparkSession` is a replacement for the other entry points:\n",
                "\n",
                "- `SparkContext`, available in our notebook as `sc`.\n",
                "- `SQLContext`, or more specifically it's subclass `HiveContext`, available in our notebook as `sqlContext`."
            ],
            "metadata": {
                "nteract": {
                    "transient": {
                        "deleting": false
                    }
                }
            },
            "id": "0ec0bd7a-99eb-4d1a-b300-0f4321e6758d"
        },
        {
            "cell_type": "code",
            "source": [
                "print(sc)\n",
                "print(sqlContext)"
            ],
            "outputs": [],
            "execution_count": null,
            "metadata": {
                "jupyter": {
                    "source_hidden": false,
                    "outputs_hidden": false
                },
                "nteract": {
                    "transient": {
                        "deleting": false
                    }
                }
            },
            "id": "5fa31642-ec7c-46ad-80e2-df2a47ecec55"
        },
        {
            "cell_type": "markdown",
            "source": [
                "Before we can dig into the functionality of the `SparkSession` class, we need to know how to access the API documentation for Apache Spark."
            ],
            "metadata": {
                "nteract": {
                    "transient": {
                        "deleting": false
                    }
                }
            },
            "id": "f121b6ac-62bb-43e5-b41b-8f1f4794cf1a"
        },
        {
            "cell_type": "markdown",
            "source": [
                "## ➡️ Spark API \n",
                "\n",
                "1. Open a new browser tab.\n",
                "2. Search for Spark API Latest or Spark API x.x.x for a specific version.\n",
                "3. Select Spark API Documentation - Spark x.x.x Documentation - Apache Spark.\n",
                "4. Which set of documentation you will use depends on which language you will use.\n",
                "\n",
                "Other Documentation:\n",
                "\n",
                "- Programming Guides for DataFrames, SQL, Graphs, Machine Learning, Streaming...\n",
                "- Deployment Guides for Spark Standalone, Mesos, Yarn...\n",
                "- Configuration, Monitoring, Tuning, Security...\n",
                "\n",
                "[Spark API Documentation - Latest](https://spark.apache.org/docs/latest/)"
            ],
            "metadata": {
                "nteract": {
                    "transient": {
                        "deleting": false
                    }
                }
            },
            "id": "0f82193d-b7ac-41ef-b6e5-06f16fc7ecb2"
        },
        {
            "cell_type": "markdown",
            "source": [
                "## ➡️ SparkSession\n",
                "\n",
                "Quick function review:\n",
                "\n",
                "- `createDataSet(..)`\n",
                "- `createDataFrame(..)`\n",
                "- `emptyDataSet(..)`\n",
                "- `emptyDataFrame(..)`\n",
                "- `range(..)`\n",
                "- `read(..)`\n",
                "- `readStream(..)`\n",
                "- `sparkContext(..)`\n",
                "- `sqlContext(..)`\n",
                "- `sql(..)`\n",
                "- `streams(..)`\n",
                "- `table(..)`\n",
                "- `udf(..)`\n",
                "\n",
                "The function we are most interested in is `SparkSession.read()` which returns a `DataFrameReader`."
            ],
            "metadata": {
                "nteract": {
                    "transient": {
                        "deleting": false
                    }
                }
            },
            "id": "62a85a1f-8263-4162-bef9-70748164071a"
        },
        {
            "cell_type": "markdown",
            "source": [
                "## ➡️ DataFrameReader\n",
                "\n",
                "Look up the documentation for DataFrameReader.\n",
                "\n",
                "Quick function review:\n",
                "\n",
                "- `csv(path)`\n",
                "- `jdbc(url, table, ..., connectionProperties)`\n",
                "- `json(path)`\n",
                "- `format(source)`\n",
                "- `load(path)`\n",
                "- `orc(path)`\n",
                "- `parquet(path)`\n",
                "- `table(tableName)`\n",
                "- `text(path)`\n",
                "- `textFile(path)`\n",
                "\n",
                "Configuration methods:\n",
                "\n",
                "- `option(key, value)`\n",
                "- `options(map)`\n",
                "- `schema(schema)`"
            ],
            "metadata": {
                "nteract": {
                    "transient": {
                        "deleting": false
                    }
                }
            },
            "id": "884cd913-a5f0-41ba-9c1a-1b75cd858f64"
        },
        {
            "cell_type": "markdown",
            "source": [
                "## ➡️ Reading from CSV w/InferSchema\n",
                "\n",
                "We are going to start by reading in a very simple text file. For this exercise, we will be using a tab-separated file called pageviews_by_second.tsv (255 MB file from Wikipedia)"
            ],
            "metadata": {
                "nteract": {
                    "transient": {
                        "deleting": false
                    }
                }
            },
            "id": "b6bca7d7-7a9b-4ae3-901b-649cfe5ee2cb"
        },
        {
            "cell_type": "code",
            "source": [
                "%%sh\n",
                "ls /lakehouse/default/Files/sampledata"
            ],
            "outputs": [],
            "execution_count": null,
            "metadata": {
                "jupyter": {
                    "source_hidden": false,
                    "outputs_hidden": false
                },
                "nteract": {
                    "transient": {
                        "deleting": false
                    }
                }
            },
            "id": "ed77e15b-f20c-4c6a-8915-8869921cba44"
        },
        {
            "cell_type": "markdown",
            "source": [
                "We can use **`%fs head`** ... to peek at the first couple thousand characters of the file."
            ],
            "metadata": {
                "nteract": {
                    "transient": {
                        "deleting": false
                    }
                }
            },
            "id": "2266684a-3dc4-4fc7-a0be-297dd07f8394"
        },
        {
            "cell_type": "code",
            "source": [
                "%%sh\n",
                "head /lakehouse/default/Files/sampledata/pageviews-by-second.tsv"
            ],
            "outputs": [],
            "execution_count": null,
            "metadata": {
                "jupyter": {
                    "source_hidden": false,
                    "outputs_hidden": false
                },
                "nteract": {
                    "transient": {
                        "deleting": false
                    }
                }
            },
            "id": "1260c8c8-34cd-42ad-8b76-79e97e089291"
        },
        {
            "cell_type": "markdown",
            "source": [
                "There are a couple of things to note here:\n",
                "\n",
                "- The file has a header.\n",
                "- The file is tab separated (we can infer that from the file extension and the lack of other characters between each \"column\").\n",
                "- The first two columns are strings and the third is a number.\n",
                "\n",
                "Knowing those details, we can read in the \"CSV\" file.\n",
                "\n",
                "## ➡️ Step #1 - Read The CSV File\n",
                "Let's start with the bare minimum by specifying the tab character as the delimiter and the location of the file:"
            ],
            "metadata": {
                "nteract": {
                    "transient": {
                        "deleting": false
                    }
                }
            },
            "id": "2adc8e96-3c86-4e31-9c69-6b1b38fe2b0b"
        },
        {
            "cell_type": "code",
            "source": [
                "# A reference to our tab-separated-file\n",
                "csvFile = \"Files/sampledata/pageviews-by-second.tsv\"\n",
                "\n",
                "tempDF = (spark.read           # The DataFrameReader\n",
                "   .option(\"sep\", \"\\t\")        # Use tab delimiter (default is comma-separator)\n",
                "   .csv(csvFile)               # Creates a DataFrame from CSV after reading in the file\n",
                ")"
            ],
            "outputs": [],
            "execution_count": null,
            "metadata": {
                "jupyter": {
                    "source_hidden": false,
                    "outputs_hidden": false
                },
                "nteract": {
                    "transient": {
                        "deleting": false
                    }
                }
            },
            "id": "cc7ce58e-e209-4c98-a677-dd95b47e6e21"
        },
        {
            "cell_type": "markdown",
            "source": [
                "This is guaranteed to <u>trigger one job</u>.\n",
                "\n",
                "A *Job* is triggered anytime we are \"physically\" __required to touch the data__.\n",
                "\n",
                "In some cases, __one action may create multiple jobs__ (multiple reasons to touch the data).\n",
                "\n",
                "In this case, the reader has to __\"peek\" at the first line__ of the file to determine how many columns of data we have.\n",
                "\n",
                "We can see the structure of the `DataFrame` by executing the command `printSchema()`\n",
                "\n",
                "It prints to the console the name of each column, its data type and if it's null or not.\n",
                "\n",
                "** *Note:* ** *We will be covering the other `DataFrame` functions in other notebooks.*"
            ],
            "metadata": {
                "nteract": {
                    "transient": {
                        "deleting": false
                    }
                }
            },
            "id": "608b8ed9-3396-48b6-9a44-7b463c3b9be3"
        },
        {
            "cell_type": "code",
            "source": [
                "tempDF.printSchema()"
            ],
            "outputs": [],
            "execution_count": null,
            "metadata": {
                "jupyter": {
                    "source_hidden": false,
                    "outputs_hidden": false
                },
                "nteract": {
                    "transient": {
                        "deleting": false
                    }
                }
            },
            "id": "81f3544f-a934-4d5a-b683-bbbd644e6b42"
        },
        {
            "cell_type": "markdown",
            "source": [
                "We can see from the schema that...\n",
                "* there are three columns\n",
                "* the column names **_c0**, **_c1**, and **_c2** (automatically generated names)\n",
                "* all three columns are **strings**\n",
                "* all three columns are **nullable**\n",
                "\n",
                "And if we take a quick peek at the data, we can see that line #1 contains the headers and not data:"
            ],
            "metadata": {
                "nteract": {
                    "transient": {
                        "deleting": false
                    }
                }
            },
            "id": "b4e2cda2-e5d2-4667-9f04-866b1d369180"
        },
        {
            "cell_type": "code",
            "source": [
                "display(tempDF)"
            ],
            "outputs": [],
            "execution_count": null,
            "metadata": {
                "jupyter": {
                    "source_hidden": false,
                    "outputs_hidden": false
                },
                "nteract": {
                    "transient": {
                        "deleting": false
                    }
                },
                "collapsed": false
            },
            "id": "d455742e-0972-4f42-9f89-d293f6526674"
        },
        {
            "cell_type": "markdown",
            "source": [
                "## ➡️ Step #2 - Use the File's Header\n",
                "Next, we can add an option that tells the reader that the data contains a header and to use that header to determine our column names.\n",
                "\n",
                "** *NOTE:* ** *We know we have a header based on what we can see in \"head\" of the file from earlier.*"
            ],
            "metadata": {
                "nteract": {
                    "transient": {
                        "deleting": false
                    }
                }
            },
            "id": "18be69b7-16bb-447e-a691-49f73f5d66b8"
        },
        {
            "cell_type": "code",
            "source": [
                "(spark.read                    # The DataFrameReader\n",
                "   .option(\"sep\", \"\\t\")        # Use tab delimiter (default is comma-separator)\n",
                "   .option(\"header\", \"true\")   # Use first line of all files as header\n",
                "   .csv(csvFile)               # Creates a DataFrame from CSV after reading in the file\n",
                "   .printSchema()\n",
                ")"
            ],
            "outputs": [],
            "execution_count": null,
            "metadata": {
                "jupyter": {
                    "source_hidden": false,
                    "outputs_hidden": false
                },
                "nteract": {
                    "transient": {
                        "deleting": false
                    }
                }
            },
            "id": "b4847249-39db-4eee-b179-9b734be9f455"
        },
        {
            "cell_type": "markdown",
            "source": [
                "A couple of notes about this iteration:\n",
                "\n",
                "* again, only one job\n",
                "* there are three columns\n",
                "* all three columns are **strings**\n",
                "* all three columns are **nullable**\n",
                "* the column names are specified: **timestamp**, **site**, and **requests** (the change we were looking for)\n",
                "\n",
                "A \"peek\" at the first line of the file is all that the reader needs to determine the number of columns and the name of each column.\n",
                "\n",
                "Before going on, make a note of the duration of the previous call - it should be just under 3 seconds."
            ],
            "metadata": {
                "nteract": {
                    "transient": {
                        "deleting": false
                    }
                }
            },
            "id": "a79ade90-6613-4570-9235-b32ed3273a28"
        },
        {
            "cell_type": "markdown",
            "source": [
                "## ➡️ Step #3 - Infer the Schema\n",
                "\n",
                "Lastly, we can add an option that tells the reader to infer each column's data type (aka the schema)"
            ],
            "metadata": {
                "nteract": {
                    "transient": {
                        "deleting": false
                    }
                }
            },
            "id": "ba06609f-b646-4779-878b-1e4ee59db939"
        },
        {
            "cell_type": "code",
            "source": [
                "(spark.read                        # The DataFrameReader\n",
                "   .option(\"header\", \"true\")       # Use first line of all files as header\n",
                "   .option(\"sep\", \"\\t\")            # Use tab delimiter (default is comma-separator)\n",
                "   .option(\"inferSchema\", \"true\")  # Automatically infer data types\n",
                "   .csv(csvFile)                   # Creates a DataFrame from CSV after reading in the file\n",
                "   .printSchema()\n",
                ")"
            ],
            "outputs": [],
            "execution_count": null,
            "metadata": {
                "jupyter": {
                    "source_hidden": false,
                    "outputs_hidden": false
                },
                "nteract": {
                    "transient": {
                        "deleting": false
                    }
                }
            },
            "id": "f058cd81-6a7a-407d-b9b8-f6bcdfd7ee50"
        },
        {
            "cell_type": "markdown",
            "source": [
                "## ➡️ Review: Reading CSV w/InferSchema\n",
                "\n",
                "* we still have three columns\n",
                "* all three columns are still **nullable**\n",
                "* all three columns have their proper names\n",
                "* two jobs were executed (not one as in the previous example)\n",
                "* our three columns now have distinct data types:\n",
                "  * **timestamp** == **timestamp**\n",
                "  * **site** == **string**\n",
                "  * **requests** == **integer**"
            ],
            "metadata": {
                "nteract": {
                    "transient": {
                        "deleting": false
                    }
                }
            },
            "id": "e2b17003-dcaa-41bf-afaa-b25baae370fe"
        },
        {
            "cell_type": "markdown",
            "source": [
                "## ➡️ Reading from CSV w/User-Defined Schema\n",
                "\n",
                "This time we are going to read the same file.\n",
                "\n",
                "The difference here is that we are going to define the schema beforehand and hopefully avoid the execution of any extra jobs."
            ],
            "metadata": {
                "nteract": {
                    "transient": {
                        "deleting": false
                    }
                }
            },
            "id": "293411df-f8f4-4881-bc5e-61aaadfb91a6"
        },
        {
            "cell_type": "markdown",
            "source": [
                "## ➡️ Step #1\n",
                "Declare the schema.\n",
                "\n",
                "This is just a list of field names and data types."
            ],
            "metadata": {
                "nteract": {
                    "transient": {
                        "deleting": false
                    }
                }
            },
            "id": "3f2887c8-7c56-458a-af70-cff2eb31c7bf"
        },
        {
            "cell_type": "code",
            "source": [
                "# Required for StructField, StringType, IntegerType, etc.\n",
                "from pyspark.sql.types import *\n",
                "\n",
                "csvSchema = StructType([\n",
                "  StructField(\"timestamp\", StringType(), False),\n",
                "  StructField(\"site\", StringType(), False),\n",
                "  StructField(\"requests\", IntegerType(), False)\n",
                "])"
            ],
            "outputs": [],
            "execution_count": null,
            "metadata": {
                "jupyter": {
                    "source_hidden": false,
                    "outputs_hidden": false
                },
                "nteract": {
                    "transient": {
                        "deleting": false
                    }
                }
            },
            "id": "5710f2d1-209c-4bf9-9acb-fd86f7fd1317"
        },
        {
            "cell_type": "markdown",
            "source": [
                "## ➡️ Step #2\n",
                "Read in our data (and print the schema).\n",
                "\n",
                "We can specify the schema, or rather the `StructType`, with the `schema(..)` command:"
            ],
            "metadata": {
                "nteract": {
                    "transient": {
                        "deleting": false
                    }
                }
            },
            "id": "d82e92d7-7ad3-4a0f-af6c-989f859ad671"
        },
        {
            "cell_type": "code",
            "source": [
                "(spark.read                   # The DataFrameReader\n",
                "  .option('header', 'true')   # Ignore line #1 - it's a header\n",
                "  .option('sep', \"\\t\")        # Use tab delimiter (default is comma-separator)\n",
                "  .schema(csvSchema)          # Use the specified schema\n",
                "  .csv(csvFile)               # Creates a DataFrame from CSV after reading in the file\n",
                "  .printSchema()\n",
                ")"
            ],
            "outputs": [],
            "execution_count": null,
            "metadata": {
                "jupyter": {
                    "source_hidden": false,
                    "outputs_hidden": false
                },
                "nteract": {
                    "transient": {
                        "deleting": false
                    }
                }
            },
            "id": "4325dceb-9560-4e66-917c-e859ea121b3a"
        },
        {
            "cell_type": "markdown",
            "source": [
                "## ➡️ Review: Reading CSV w/ User-Defined Schema\n",
                "* We still have three columns\n",
                "* All three columns are **NOT** nullable because we declared them as such.\n",
                "* All three columns have their proper names\n",
                "* Zero jobs were executed\n",
                "* Our three columns now have distinct data types:\n",
                "  * **timestamp** == **string**\n",
                "  * **site** == **string**\n",
                "  * **requests** == **integer**"
            ],
            "metadata": {
                "nteract": {
                    "transient": {
                        "deleting": false
                    }
                }
            },
            "id": "8fe9d645-ce60-4256-ac5b-50d85648f2e9"
        },
        {
            "cell_type": "markdown",
            "source": [
                "Let's take a look at some of the other details of the `DataFrame` we just created for comparison sake."
            ],
            "metadata": {
                "nteract": {
                    "transient": {
                        "deleting": false
                    }
                }
            },
            "id": "e41d8ac1-3f11-4f05-aa16-5b01eb16c2c4"
        },
        {
            "cell_type": "code",
            "source": [
                "csvDF = (spark.read\n",
                "  .option('header', 'true')\n",
                "  .option('sep', \"\\t\")\n",
                "  .schema(csvSchema)\n",
                "  .csv(csvFile)\n",
                ")\n",
                "print(\"Partitions: \" + str(csvDF.rdd.getNumPartitions()) )\n",
                "printRecordsPerPartition(csvDF)\n",
                "print(\"-\"*80)"
            ],
            "outputs": [],
            "execution_count": null,
            "metadata": {
                "jupyter": {
                    "source_hidden": false,
                    "outputs_hidden": false
                },
                "nteract": {
                    "transient": {
                        "deleting": false
                    }
                }
            },
            "id": "49daf06d-c26f-4fda-a106-f5653dda765c"
        }
    ],
    "metadata": {
        "language_info": {
            "name": "python"
        },
        "kernelspec": {
            "name": "synapse_pyspark",
            "display_name": "Synapse PySpark"
        },
        "microsoft": {
            "host": {},
            "language": "python",
            "ms_spell_check": {
                "ms_spell_check_language": "en"
            }
        },
        "widgets": {},
        "kernel_info": {
            "name": "synapse_pyspark"
        },
        "nteract": {
            "version": "nteract-front-end@1.0.0"
        },
        "save_output": true,
        "spark_compute": {
            "compute_id": "/trident/default",
            "session_options": {
                "enableDebugMode": false,
                "conf": {}
            }
        },
        "notebook_environment": {},
        "synapse_widget": {
            "version": "0.1",
            "state": {}
        },
        "trident": {
            "lakehouse": {}
        }
    },
    "nbformat": 4,
    "nbformat_minor": 5
}